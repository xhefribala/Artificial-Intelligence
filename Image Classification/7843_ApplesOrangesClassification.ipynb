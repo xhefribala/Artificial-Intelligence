{
  "nbformat": 4,
  "nbformat_minor": 0,
  "metadata": {
    "colab": {
      "name": "7843_ApplesOrangesClassification.ipynb",
      "provenance": [],
      "collapsed_sections": [],
      "toc_visible": true
    },
    "kernelspec": {
      "name": "python3",
      "display_name": "Python 3"
    },
    "accelerator": "GPU"
  },
  "cells": [
    {
      "cell_type": "markdown",
      "metadata": {
        "id": "rRfXvd_wsW5O"
      },
      "source": [
        "#### StudentName: Xhefri Bala\n",
        "#### Student ID : 7843"
      ]
    },
    {
      "cell_type": "markdown",
      "metadata": {
        "id": "8gBYvVdkHo4e"
      },
      "source": [
        "####A. Importing libraries"
      ]
    },
    {
      "cell_type": "code",
      "metadata": {
        "id": "ORZ6TK38Hj81"
      },
      "source": [
        "import os\n",
        "import numpy as np\n",
        "import matplotlib.pyplot as plt\n",
        "from keras.preprocessing.image import ImageDataGenerator\n",
        "from keras.models import Sequential\n",
        "from keras.layers import Dense, Activation,Conv2D, MaxPooling2D, Flatten, Dropout\n",
        "from google.colab import drive\n",
        "from keras.models import load_model"
      ],
      "execution_count": 1,
      "outputs": []
    },
    {
      "cell_type": "markdown",
      "metadata": {
        "id": "qTQoGXtwHSSt"
      },
      "source": [
        "####B. Data loading"
      ]
    },
    {
      "cell_type": "code",
      "metadata": {
        "id": "MEwx_xydEtF7",
        "colab": {
          "base_uri": "https://localhost:8080/"
        },
        "outputId": "84462879-0b5a-4cc7-c0ec-780abd54d8bf"
      },
      "source": [
        "np.random.seed(100)\n",
        "path = \"\"\n",
        "drive.mount('/content/drive/')\n",
        "path = \"/content/drive/My Drive/Colab Notebooks/images\"\n",
        "\n",
        "#training data path\n",
        "trn_dta_dir = path + \"/train\"\n",
        "\n",
        "#validation data path\n",
        "val_dta_dir = path + \"/validation\""
      ],
      "execution_count": 2,
      "outputs": [
        {
          "output_type": "stream",
          "text": [
            "Mounted at /content/drive/\n"
          ],
          "name": "stdout"
        }
      ]
    },
    {
      "cell_type": "markdown",
      "metadata": {
        "id": "D-ZC465zHMR9"
      },
      "source": [
        "####C. Data augmentation"
      ]
    },
    {
      "cell_type": "code",
      "metadata": {
        "id": "vgeufa21G3t0"
      },
      "source": [
        "#training data generator\n",
        "trn_dta_gtr = ImageDataGenerator(\n",
        "    rescale=1./255,\n",
        "    shear_range=0.1,\n",
        "    zoom_range=0.1,\n",
        "    horizontal_flip=True)\n",
        "\n",
        "#validation data generator\n",
        "val_dta_gtr = ImageDataGenerator(rescale=1./255)"
      ],
      "execution_count": 3,
      "outputs": []
    },
    {
      "cell_type": "markdown",
      "metadata": {
        "id": "GE-iDgj_Hzbm"
      },
      "source": [
        "####D. Data preparation"
      ]
    },
    {
      "cell_type": "code",
      "metadata": {
        "id": "Dooa5-oKHhH5",
        "colab": {
          "base_uri": "https://localhost:8080/"
        },
        "outputId": "1008fad3-c120-48c9-9675-31ff995120be"
      },
      "source": [
        "\n",
        "#training generator\n",
        "trn_gtr = trn_dta_gtr.flow_from_directory(\n",
        "    trn_dta_dir,\n",
        "    target_size=(50, 50),\n",
        "    batch_size=16,\n",
        "    class_mode=\"binary\")\n",
        "\n",
        "#validation generator\n",
        "val_gtr = val_dta_gtr.flow_from_directory(\n",
        "    val_dta_dir,\n",
        "    target_size=(50, 50),\n",
        "    batch_size=16,\n",
        "    class_mode=\"binary\")\n"
      ],
      "execution_count": 4,
      "outputs": [
        {
          "output_type": "stream",
          "text": [
            "Found 834 images belonging to 2 classes.\n",
            "Found 100 images belonging to 2 classes.\n"
          ],
          "name": "stdout"
        }
      ]
    },
    {
      "cell_type": "markdown",
      "metadata": {
        "id": "FKL93L-lbFR7"
      },
      "source": [
        "####E. Model architecture"
      ]
    },
    {
      "cell_type": "code",
      "metadata": {
        "id": "UZtibeQ9SzFe"
      },
      "source": [
        "mdl = Sequential()\n",
        "\n",
        "mdl.add(Conv2D(32, (3, 3), input_shape=(50,50,3)))\n",
        "mdl.add(Activation(\"relu\"))\n",
        "mdl.add(MaxPooling2D(pool_size=(2, 2)))\n",
        "\n",
        "mdl.add(Conv2D(32, (3, 3)))\n",
        "mdl.add(Activation(\"relu\"))\n",
        "mdl.add(MaxPooling2D(pool_size=(2, 2)))\n",
        "\n",
        "mdl.add(Flatten())\n",
        "mdl.add(Dense(16))\n",
        "mdl.add(Activation(\"relu\"))\n",
        "mdl.add(Dropout(0.5))\n",
        "mdl.add(Dense(1))\n",
        "mdl.add(Activation(\"sigmoid\"))\n",
        "\n",
        "mdl.compile(loss=\"binary_crossentropy\",\n",
        "              optimizer=\"adamax\",\n",
        "              metrics=[\"accuracy\"])"
      ],
      "execution_count": 5,
      "outputs": []
    },
    {
      "cell_type": "markdown",
      "metadata": {
        "id": "cG3ZDMbWR2xP"
      },
      "source": [
        "####F. Training and Validation"
      ]
    },
    {
      "cell_type": "code",
      "metadata": {
        "id": "whKWsQjHIK56",
        "colab": {
          "base_uri": "https://localhost:8080/"
        },
        "outputId": "1678421c-2a0e-4c6d-c827-73d777ecfa29"
      },
      "source": [
        "batch_size = 16\n",
        "hist = mdl.fit(\n",
        "              trn_gtr,\n",
        "              steps_per_epoch=len(trn_gtr.filenames)//batch_size,\n",
        "              epochs=100,\n",
        "              validation_data=val_gtr,\n",
        "              validation_steps=len(val_gtr.filenames)//batch_size\n",
        "              )"
      ],
      "execution_count": 6,
      "outputs": [
        {
          "output_type": "stream",
          "text": [
            "Epoch 1/100\n",
            "52/52 [==============================] - 378s 7s/step - loss: 0.6985 - accuracy: 0.5575 - val_loss: 0.6696 - val_accuracy: 0.5000\n",
            "Epoch 2/100\n",
            "52/52 [==============================] - 6s 114ms/step - loss: 0.6435 - accuracy: 0.6282 - val_loss: 0.5632 - val_accuracy: 0.8333\n",
            "Epoch 3/100\n",
            "52/52 [==============================] - 6s 113ms/step - loss: 0.5687 - accuracy: 0.7413 - val_loss: 0.5212 - val_accuracy: 0.7396\n",
            "Epoch 4/100\n",
            "52/52 [==============================] - 6s 113ms/step - loss: 0.5354 - accuracy: 0.7414 - val_loss: 0.3929 - val_accuracy: 0.9271\n",
            "Epoch 5/100\n",
            "52/52 [==============================] - 6s 114ms/step - loss: 0.4491 - accuracy: 0.7967 - val_loss: 0.3299 - val_accuracy: 0.8958\n",
            "Epoch 6/100\n",
            "52/52 [==============================] - 6s 115ms/step - loss: 0.3972 - accuracy: 0.8492 - val_loss: 0.2787 - val_accuracy: 0.9271\n",
            "Epoch 7/100\n",
            "52/52 [==============================] - 6s 113ms/step - loss: 0.3476 - accuracy: 0.8792 - val_loss: 0.2642 - val_accuracy: 0.9479\n",
            "Epoch 8/100\n",
            "52/52 [==============================] - 6s 107ms/step - loss: 0.3243 - accuracy: 0.8905 - val_loss: 0.2394 - val_accuracy: 0.9271\n",
            "Epoch 9/100\n",
            "52/52 [==============================] - 6s 108ms/step - loss: 0.3127 - accuracy: 0.9017 - val_loss: 0.1980 - val_accuracy: 0.9688\n",
            "Epoch 10/100\n",
            "52/52 [==============================] - 6s 107ms/step - loss: 0.2759 - accuracy: 0.9116 - val_loss: 0.1819 - val_accuracy: 0.9479\n",
            "Epoch 11/100\n",
            "52/52 [==============================] - 6s 108ms/step - loss: 0.3085 - accuracy: 0.8995 - val_loss: 0.1914 - val_accuracy: 0.9271\n",
            "Epoch 12/100\n",
            "52/52 [==============================] - 6s 107ms/step - loss: 0.2521 - accuracy: 0.9282 - val_loss: 0.1813 - val_accuracy: 0.9167\n",
            "Epoch 13/100\n",
            "52/52 [==============================] - 6s 109ms/step - loss: 0.2843 - accuracy: 0.9076 - val_loss: 0.1840 - val_accuracy: 0.9688\n",
            "Epoch 14/100\n",
            "52/52 [==============================] - 6s 108ms/step - loss: 0.2391 - accuracy: 0.9302 - val_loss: 0.1767 - val_accuracy: 0.9375\n",
            "Epoch 15/100\n",
            "52/52 [==============================] - 6s 108ms/step - loss: 0.2804 - accuracy: 0.9148 - val_loss: 0.1563 - val_accuracy: 0.9375\n",
            "Epoch 16/100\n",
            "52/52 [==============================] - 6s 109ms/step - loss: 0.2534 - accuracy: 0.9174 - val_loss: 0.1729 - val_accuracy: 0.9583\n",
            "Epoch 17/100\n",
            "52/52 [==============================] - 6s 107ms/step - loss: 0.2412 - accuracy: 0.9425 - val_loss: 0.1692 - val_accuracy: 0.9688\n",
            "Epoch 18/100\n",
            "52/52 [==============================] - 6s 109ms/step - loss: 0.2505 - accuracy: 0.9309 - val_loss: 0.1849 - val_accuracy: 0.9375\n",
            "Epoch 19/100\n",
            "52/52 [==============================] - 6s 108ms/step - loss: 0.2380 - accuracy: 0.9283 - val_loss: 0.1641 - val_accuracy: 0.9375\n",
            "Epoch 20/100\n",
            "52/52 [==============================] - 6s 110ms/step - loss: 0.2544 - accuracy: 0.9240 - val_loss: 0.1537 - val_accuracy: 0.9583\n",
            "Epoch 21/100\n",
            "52/52 [==============================] - 6s 108ms/step - loss: 0.2483 - accuracy: 0.9191 - val_loss: 0.1153 - val_accuracy: 0.9583\n",
            "Epoch 22/100\n",
            "52/52 [==============================] - 6s 108ms/step - loss: 0.2466 - accuracy: 0.9236 - val_loss: 0.1750 - val_accuracy: 0.9479\n",
            "Epoch 23/100\n",
            "52/52 [==============================] - 6s 108ms/step - loss: 0.2491 - accuracy: 0.9027 - val_loss: 0.1407 - val_accuracy: 0.9583\n",
            "Epoch 24/100\n",
            "52/52 [==============================] - 6s 107ms/step - loss: 0.2247 - accuracy: 0.9420 - val_loss: 0.1453 - val_accuracy: 0.9375\n",
            "Epoch 25/100\n",
            "52/52 [==============================] - 6s 107ms/step - loss: 0.2527 - accuracy: 0.9327 - val_loss: 0.1468 - val_accuracy: 0.9583\n",
            "Epoch 26/100\n",
            "52/52 [==============================] - 6s 108ms/step - loss: 0.2103 - accuracy: 0.9305 - val_loss: 0.1463 - val_accuracy: 0.9583\n",
            "Epoch 27/100\n",
            "52/52 [==============================] - 6s 109ms/step - loss: 0.2847 - accuracy: 0.9186 - val_loss: 0.1819 - val_accuracy: 0.9375\n",
            "Epoch 28/100\n",
            "52/52 [==============================] - 6s 109ms/step - loss: 0.2207 - accuracy: 0.9344 - val_loss: 0.1335 - val_accuracy: 0.9583\n",
            "Epoch 29/100\n",
            "52/52 [==============================] - 6s 109ms/step - loss: 0.2163 - accuracy: 0.9344 - val_loss: 0.1417 - val_accuracy: 0.9583\n",
            "Epoch 30/100\n",
            "52/52 [==============================] - 6s 108ms/step - loss: 0.2372 - accuracy: 0.9244 - val_loss: 0.1265 - val_accuracy: 0.9583\n",
            "Epoch 31/100\n",
            "52/52 [==============================] - 6s 108ms/step - loss: 0.2367 - accuracy: 0.9267 - val_loss: 0.1347 - val_accuracy: 0.9583\n",
            "Epoch 32/100\n",
            "52/52 [==============================] - 6s 108ms/step - loss: 0.1894 - accuracy: 0.9357 - val_loss: 0.1260 - val_accuracy: 0.9583\n",
            "Epoch 33/100\n",
            "52/52 [==============================] - 6s 108ms/step - loss: 0.2362 - accuracy: 0.9297 - val_loss: 0.1425 - val_accuracy: 0.9583\n",
            "Epoch 34/100\n",
            "52/52 [==============================] - 6s 112ms/step - loss: 0.2504 - accuracy: 0.9211 - val_loss: 0.1178 - val_accuracy: 0.9583\n",
            "Epoch 35/100\n",
            "52/52 [==============================] - 6s 114ms/step - loss: 0.2182 - accuracy: 0.9440 - val_loss: 0.1869 - val_accuracy: 0.9375\n",
            "Epoch 36/100\n",
            "52/52 [==============================] - 6s 113ms/step - loss: 0.2338 - accuracy: 0.9275 - val_loss: 0.1271 - val_accuracy: 0.9688\n",
            "Epoch 37/100\n",
            "52/52 [==============================] - 6s 112ms/step - loss: 0.2148 - accuracy: 0.9240 - val_loss: 0.1538 - val_accuracy: 0.9479\n",
            "Epoch 38/100\n",
            "52/52 [==============================] - 6s 112ms/step - loss: 0.2504 - accuracy: 0.9198 - val_loss: 0.1431 - val_accuracy: 0.9583\n",
            "Epoch 39/100\n",
            "52/52 [==============================] - 6s 111ms/step - loss: 0.2070 - accuracy: 0.9298 - val_loss: 0.1846 - val_accuracy: 0.9583\n",
            "Epoch 40/100\n",
            "52/52 [==============================] - 6s 112ms/step - loss: 0.1998 - accuracy: 0.9539 - val_loss: 0.1159 - val_accuracy: 0.9688\n",
            "Epoch 41/100\n",
            "52/52 [==============================] - 6s 117ms/step - loss: 0.1927 - accuracy: 0.9458 - val_loss: 0.1322 - val_accuracy: 0.9583\n",
            "Epoch 42/100\n",
            "52/52 [==============================] - 6s 115ms/step - loss: 0.2278 - accuracy: 0.9152 - val_loss: 0.1156 - val_accuracy: 0.9688\n",
            "Epoch 43/100\n",
            "52/52 [==============================] - 6s 111ms/step - loss: 0.2207 - accuracy: 0.9359 - val_loss: 0.1324 - val_accuracy: 0.9688\n",
            "Epoch 44/100\n",
            "52/52 [==============================] - 6s 113ms/step - loss: 0.2043 - accuracy: 0.9449 - val_loss: 0.1144 - val_accuracy: 0.9688\n",
            "Epoch 45/100\n",
            "52/52 [==============================] - 6s 112ms/step - loss: 0.1570 - accuracy: 0.9633 - val_loss: 0.1193 - val_accuracy: 0.9792\n",
            "Epoch 46/100\n",
            "52/52 [==============================] - 6s 115ms/step - loss: 0.2725 - accuracy: 0.8996 - val_loss: 0.1172 - val_accuracy: 0.9792\n",
            "Epoch 47/100\n",
            "52/52 [==============================] - 6s 112ms/step - loss: 0.2205 - accuracy: 0.9365 - val_loss: 0.1240 - val_accuracy: 0.9583\n",
            "Epoch 48/100\n",
            "52/52 [==============================] - 6s 112ms/step - loss: 0.1873 - accuracy: 0.9449 - val_loss: 0.0748 - val_accuracy: 0.9792\n",
            "Epoch 49/100\n",
            "52/52 [==============================] - 6s 111ms/step - loss: 0.1824 - accuracy: 0.9515 - val_loss: 0.1025 - val_accuracy: 0.9688\n",
            "Epoch 50/100\n",
            "52/52 [==============================] - 6s 112ms/step - loss: 0.1821 - accuracy: 0.9476 - val_loss: 0.0961 - val_accuracy: 0.9688\n",
            "Epoch 51/100\n",
            "52/52 [==============================] - 6s 112ms/step - loss: 0.2111 - accuracy: 0.9347 - val_loss: 0.1005 - val_accuracy: 0.9792\n",
            "Epoch 52/100\n",
            "52/52 [==============================] - 6s 112ms/step - loss: 0.1847 - accuracy: 0.9393 - val_loss: 0.1009 - val_accuracy: 0.9688\n",
            "Epoch 53/100\n",
            "52/52 [==============================] - 6s 112ms/step - loss: 0.1436 - accuracy: 0.9487 - val_loss: 0.0953 - val_accuracy: 0.9792\n",
            "Epoch 54/100\n",
            "52/52 [==============================] - 6s 113ms/step - loss: 0.1730 - accuracy: 0.9468 - val_loss: 0.1307 - val_accuracy: 0.9375\n",
            "Epoch 55/100\n",
            "52/52 [==============================] - 6s 113ms/step - loss: 0.2092 - accuracy: 0.9381 - val_loss: 0.1008 - val_accuracy: 0.9688\n",
            "Epoch 56/100\n",
            "52/52 [==============================] - 6s 112ms/step - loss: 0.1548 - accuracy: 0.9589 - val_loss: 0.0597 - val_accuracy: 0.9792\n",
            "Epoch 57/100\n",
            "52/52 [==============================] - 6s 113ms/step - loss: 0.1746 - accuracy: 0.9339 - val_loss: 0.0911 - val_accuracy: 0.9688\n",
            "Epoch 58/100\n",
            "52/52 [==============================] - 6s 114ms/step - loss: 0.1672 - accuracy: 0.9532 - val_loss: 0.1014 - val_accuracy: 0.9688\n",
            "Epoch 59/100\n",
            "52/52 [==============================] - 6s 113ms/step - loss: 0.1746 - accuracy: 0.9436 - val_loss: 0.0972 - val_accuracy: 0.9688\n",
            "Epoch 60/100\n",
            "52/52 [==============================] - 6s 113ms/step - loss: 0.1484 - accuracy: 0.9551 - val_loss: 0.0940 - val_accuracy: 0.9688\n",
            "Epoch 61/100\n",
            "52/52 [==============================] - 6s 109ms/step - loss: 0.1489 - accuracy: 0.9469 - val_loss: 0.0792 - val_accuracy: 0.9792\n",
            "Epoch 62/100\n",
            "52/52 [==============================] - 6s 108ms/step - loss: 0.1824 - accuracy: 0.9579 - val_loss: 0.1185 - val_accuracy: 0.9479\n",
            "Epoch 63/100\n",
            "52/52 [==============================] - 6s 109ms/step - loss: 0.1679 - accuracy: 0.9503 - val_loss: 0.0835 - val_accuracy: 0.9688\n",
            "Epoch 64/100\n",
            "52/52 [==============================] - 6s 108ms/step - loss: 0.1788 - accuracy: 0.9484 - val_loss: 0.0923 - val_accuracy: 0.9583\n",
            "Epoch 65/100\n",
            "52/52 [==============================] - 6s 108ms/step - loss: 0.1898 - accuracy: 0.9443 - val_loss: 0.0643 - val_accuracy: 0.9792\n",
            "Epoch 66/100\n",
            "52/52 [==============================] - 6s 110ms/step - loss: 0.1725 - accuracy: 0.9424 - val_loss: 0.1260 - val_accuracy: 0.9583\n",
            "Epoch 67/100\n",
            "52/52 [==============================] - 6s 112ms/step - loss: 0.1856 - accuracy: 0.9285 - val_loss: 0.0876 - val_accuracy: 0.9583\n",
            "Epoch 68/100\n",
            "52/52 [==============================] - 6s 115ms/step - loss: 0.1458 - accuracy: 0.9462 - val_loss: 0.0905 - val_accuracy: 0.9688\n",
            "Epoch 69/100\n",
            "52/52 [==============================] - 6s 114ms/step - loss: 0.1531 - accuracy: 0.9527 - val_loss: 0.0653 - val_accuracy: 0.9896\n",
            "Epoch 70/100\n",
            "52/52 [==============================] - 6s 113ms/step - loss: 0.1560 - accuracy: 0.9518 - val_loss: 0.0816 - val_accuracy: 0.9792\n",
            "Epoch 71/100\n",
            "52/52 [==============================] - 6s 114ms/step - loss: 0.1348 - accuracy: 0.9591 - val_loss: 0.0855 - val_accuracy: 0.9688\n",
            "Epoch 72/100\n",
            "52/52 [==============================] - 6s 112ms/step - loss: 0.1516 - accuracy: 0.9535 - val_loss: 0.0820 - val_accuracy: 0.9792\n",
            "Epoch 73/100\n",
            "52/52 [==============================] - 6s 114ms/step - loss: 0.1530 - accuracy: 0.9508 - val_loss: 0.0809 - val_accuracy: 0.9688\n",
            "Epoch 74/100\n",
            "52/52 [==============================] - 6s 111ms/step - loss: 0.1511 - accuracy: 0.9623 - val_loss: 0.0836 - val_accuracy: 0.9792\n",
            "Epoch 75/100\n",
            "52/52 [==============================] - 6s 108ms/step - loss: 0.1320 - accuracy: 0.9643 - val_loss: 0.0821 - val_accuracy: 0.9688\n",
            "Epoch 76/100\n",
            "52/52 [==============================] - 6s 108ms/step - loss: 0.1305 - accuracy: 0.9615 - val_loss: 0.0761 - val_accuracy: 0.9688\n",
            "Epoch 77/100\n",
            "52/52 [==============================] - 6s 107ms/step - loss: 0.1420 - accuracy: 0.9523 - val_loss: 0.0840 - val_accuracy: 0.9688\n",
            "Epoch 78/100\n",
            "52/52 [==============================] - 6s 115ms/step - loss: 0.1322 - accuracy: 0.9628 - val_loss: 0.0739 - val_accuracy: 0.9792\n",
            "Epoch 79/100\n",
            "52/52 [==============================] - 6s 113ms/step - loss: 0.1458 - accuracy: 0.9602 - val_loss: 0.0870 - val_accuracy: 0.9792\n",
            "Epoch 80/100\n",
            "52/52 [==============================] - 6s 114ms/step - loss: 0.1678 - accuracy: 0.9522 - val_loss: 0.0535 - val_accuracy: 0.9896\n",
            "Epoch 81/100\n",
            "52/52 [==============================] - 6s 113ms/step - loss: 0.1528 - accuracy: 0.9612 - val_loss: 0.0626 - val_accuracy: 0.9792\n",
            "Epoch 82/100\n",
            "52/52 [==============================] - 6s 113ms/step - loss: 0.1526 - accuracy: 0.9574 - val_loss: 0.0811 - val_accuracy: 0.9792\n",
            "Epoch 83/100\n",
            "52/52 [==============================] - 6s 113ms/step - loss: 0.1187 - accuracy: 0.9539 - val_loss: 0.0834 - val_accuracy: 0.9688\n",
            "Epoch 84/100\n",
            "52/52 [==============================] - 6s 114ms/step - loss: 0.1373 - accuracy: 0.9508 - val_loss: 0.0692 - val_accuracy: 0.9792\n",
            "Epoch 85/100\n",
            "52/52 [==============================] - 6s 114ms/step - loss: 0.1450 - accuracy: 0.9501 - val_loss: 0.0626 - val_accuracy: 0.9896\n",
            "Epoch 86/100\n",
            "52/52 [==============================] - 6s 114ms/step - loss: 0.1528 - accuracy: 0.9563 - val_loss: 0.0759 - val_accuracy: 0.9792\n",
            "Epoch 87/100\n",
            "52/52 [==============================] - 6s 114ms/step - loss: 0.1185 - accuracy: 0.9719 - val_loss: 0.0786 - val_accuracy: 0.9792\n",
            "Epoch 88/100\n",
            "52/52 [==============================] - 6s 114ms/step - loss: 0.1441 - accuracy: 0.9574 - val_loss: 0.0652 - val_accuracy: 0.9792\n",
            "Epoch 89/100\n",
            "52/52 [==============================] - 6s 114ms/step - loss: 0.1317 - accuracy: 0.9597 - val_loss: 0.0803 - val_accuracy: 0.9792\n",
            "Epoch 90/100\n",
            "52/52 [==============================] - 6s 113ms/step - loss: 0.1168 - accuracy: 0.9741 - val_loss: 0.1319 - val_accuracy: 0.9583\n",
            "Epoch 91/100\n",
            "52/52 [==============================] - 6s 114ms/step - loss: 0.1788 - accuracy: 0.9433 - val_loss: 0.0828 - val_accuracy: 0.9688\n",
            "Epoch 92/100\n",
            "52/52 [==============================] - 6s 115ms/step - loss: 0.1495 - accuracy: 0.9399 - val_loss: 0.0650 - val_accuracy: 0.9792\n",
            "Epoch 93/100\n",
            "52/52 [==============================] - 6s 109ms/step - loss: 0.1226 - accuracy: 0.9618 - val_loss: 0.0658 - val_accuracy: 0.9792\n",
            "Epoch 94/100\n",
            "52/52 [==============================] - 6s 112ms/step - loss: 0.1075 - accuracy: 0.9734 - val_loss: 0.0679 - val_accuracy: 0.9792\n",
            "Epoch 95/100\n",
            "52/52 [==============================] - 6s 110ms/step - loss: 0.1136 - accuracy: 0.9663 - val_loss: 0.0416 - val_accuracy: 0.9896\n",
            "Epoch 96/100\n",
            "52/52 [==============================] - 6s 110ms/step - loss: 0.1323 - accuracy: 0.9646 - val_loss: 0.0715 - val_accuracy: 0.9792\n",
            "Epoch 97/100\n",
            "52/52 [==============================] - 6s 109ms/step - loss: 0.1100 - accuracy: 0.9635 - val_loss: 0.0629 - val_accuracy: 0.9792\n",
            "Epoch 98/100\n",
            "52/52 [==============================] - 6s 109ms/step - loss: 0.1239 - accuracy: 0.9645 - val_loss: 0.0422 - val_accuracy: 0.9896\n",
            "Epoch 99/100\n",
            "52/52 [==============================] - 6s 109ms/step - loss: 0.1341 - accuracy: 0.9652 - val_loss: 0.0612 - val_accuracy: 0.9688\n",
            "Epoch 100/100\n",
            "52/52 [==============================] - 6s 109ms/step - loss: 0.1065 - accuracy: 0.9680 - val_loss: 0.0639 - val_accuracy: 0.9792\n"
          ],
          "name": "stdout"
        }
      ]
    },
    {
      "cell_type": "markdown",
      "metadata": {
        "id": "1zNkAlIsRIQI"
      },
      "source": [
        "####G. Plot Loss Functions"
      ]
    },
    {
      "cell_type": "code",
      "metadata": {
        "id": "M_7M5mbmRTPt",
        "colab": {
          "base_uri": "https://localhost:8080/",
          "height": 621
        },
        "outputId": "efecff79-640a-48b1-bb2a-e09d12a3f216"
      },
      "source": [
        "loss = hist.history['loss']\n",
        "val_loss = hist.history['val_loss']\n",
        "plt.figure(figsize=(10,10))\n",
        "plt.plot(loss)\n",
        "plt.plot(val_loss)\n",
        "plt.title('Training Loss Functions')\n",
        "plt.xlabel('Epochs')\n",
        "plt.ylabel('Loss Value')\n",
        "plt.legend(['loss', 'val_loss'])\n",
        "plt.savefig('/content/drive/My Drive/Colab Notebooks/images/loss_fig.png')\n",
        "plt.show()"
      ],
      "execution_count": 8,
      "outputs": [
        {
          "output_type": "display_data",
          "data": {
            "image/png": "[encoded data removed]",
            "text/plain": [
              "<Figure size 720x720 with 1 Axes>"
            ]
          },
          "metadata": {
            "tags": [],
            "needs_background": "light"
          }
        }
      ]
    },
    {
      "cell_type": "markdown",
      "metadata": {
        "id": "7UOFzUx5jbkY"
      },
      "source": [
        "####H. Save the model"
      ]
    },
    {
      "cell_type": "code",
      "metadata": {
        "id": "efa56_w8jakJ"
      },
      "source": [
        "mdl.save(\"/content/drive/My Drive/Colab Notebooks/images/model_7843.h5\")"
      ],
      "execution_count": 13,
      "outputs": []
    }
  ]
}