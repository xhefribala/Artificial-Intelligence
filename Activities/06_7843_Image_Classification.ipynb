{
  "nbformat": 4,
  "nbformat_minor": 0,
  "metadata": {
    "colab": {
      "name": "7843_Image_Classification.ipynb",
      "provenance": [],
      "collapsed_sections": []
    },
    "kernelspec": {
      "name": "python3",
      "display_name": "Python 3"
    },
    "accelerator": "GPU"
  },
  "cells": [
    {
      "cell_type": "markdown",
      "metadata": {
        "id": "7oSGELx9GUi4"
      },
      "source": [
        "It looks like our final two models are having a hard time with footwear (sneakers, ankle boots, and sandals) and dresses. That said, our models are all far better than random (10%), which is a good sign. With a bit more training, or some additional modification, we could probably improve the performance of these two models as well.\n",
        "\n",
        "## 4. Exercises\n",
        "For this week's exercises, we'll use the MNIST handwritten digit dataset. I'll load it in the cell below, and then in the following cells, you should answer the given question."
      ]
    },
    {
      "cell_type": "code",
      "metadata": {
        "id": "jyRYrBXiYi2C",
        "colab": {
          "base_uri": "https://localhost:8080/"
        },
        "outputId": "06281933-d023-438f-dba8-f4004a51276c"
      },
      "source": [
        "from __future__ import absolute_import, division, print_function\n",
        "import tensorflow as tf\n",
        "from tensorflow import keras\n",
        "import numpy as np\n",
        "import matplotlib.pyplot as plt\n",
        "import time\n",
        "from keras.datasets import mnist\n",
        "\n",
        "(x_train, y_train), (x_test, y_test) = mnist.load_data()"
      ],
      "execution_count": 1,
      "outputs": [
        {
          "output_type": "stream",
          "text": [
            "Downloading data from https://storage.googleapis.com/tensorflow/tf-keras-datasets/mnist.npz\n",
            "11493376/11490434 [==============================] - 0s 0us/step\n"
          ],
          "name": "stdout"
        }
      ]
    },
    {
      "cell_type": "markdown",
      "metadata": {
        "id": "B1bjEXx9HTgj"
      },
      "source": [
        "1. In the following cell, print out the shapes of the training and test data. Make sure that you have an $n\\times 28 \\times 28$ array for the x values, and a length $n$ array for the y values. Print out the first 10 elements of each y array. (1 point)"
      ]
    },
    {
      "cell_type": "code",
      "metadata": {
        "id": "WSJ4Wo_AHxfe",
        "colab": {
          "base_uri": "https://localhost:8080/"
        },
        "outputId": "da6f6dba-63ae-42a2-92c2-20eee65d346b"
      },
      "source": [
        "print(x_train.shape) # 60,0000 images 28x28 pixels\n",
        "print(len(x_train))  # 60,0000 labels\n",
        "#display the labels \n",
        "y_train"
      ],
      "execution_count": 8,
      "outputs": [
        {
          "output_type": "stream",
          "text": [
            "(60000, 28, 28)\n",
            "60000\n"
          ],
          "name": "stdout"
        },
        {
          "output_type": "execute_result",
          "data": {
            "text/plain": [
              "array([5, 0, 4, ..., 5, 6, 8], dtype=uint8)"
            ]
          },
          "metadata": {
            "tags": []
          },
          "execution_count": 8
        }
      ]
    },
    {
      "cell_type": "code",
      "metadata": {
        "id": "M4NZFPIjZlHW",
        "colab": {
          "base_uri": "https://localhost:8080/"
        },
        "outputId": "ace31ba7-a0d4-4f61-9f4c-aa226b59305f"
      },
      "source": [
        "print(x_test.shape) # 10,000 images 28x28 pixels\n",
        "print(len(y_test))  # 10,0000 labels\n",
        "#display the labels \n",
        "y_test"
      ],
      "execution_count": 3,
      "outputs": [
        {
          "output_type": "stream",
          "text": [
            "(10000, 28, 28)\n",
            "10000\n"
          ],
          "name": "stdout"
        },
        {
          "output_type": "execute_result",
          "data": {
            "text/plain": [
              "array([7, 2, 1, ..., 4, 5, 6], dtype=uint8)"
            ]
          },
          "metadata": {
            "tags": []
          },
          "execution_count": 3
        }
      ]
    },
    {
      "cell_type": "markdown",
      "metadata": {
        "id": "uqxgQ-AFInJa"
      },
      "source": [
        "2. Normalize your test and training input data. Render two examples using the pyplot imshow() function. (2 points)"
      ]
    },
    {
      "cell_type": "code",
      "metadata": {
        "id": "J38_ZZijIySG",
        "colab": {
          "base_uri": "https://localhost:8080/",
          "height": 229
        },
        "outputId": "664415d6-732e-4a4e-cc2c-2a77ceee1ada"
      },
      "source": [
        "x_train = x_train / 255.0\n",
        "x_test = x_test / 255.0\n",
        "\n",
        "#show first 50 train images  \n",
        "plt.figure(figsize=(20,20))\n",
        "for i in range(10):\n",
        "    plt.subplot(10,5,i+1)\n",
        "    plt.xticks([])\n",
        "    plt.yticks([])\n",
        "    plt.grid(False)\n",
        "    plt.imshow(x_train[i], cmap=plt.cm.binary)\n",
        "    # plt.xlabel(classes[y_train[i]])\n",
        "plt.show()"
      ],
      "execution_count": 4,
      "outputs": [
        {
          "output_type": "display_data",
          "data": {
            "image/png": "[encoded data removed]",
            "text/plain": [
              "<Figure size 1440x1440 with 10 Axes>"
            ]
          },
          "metadata": {
            "tags": []
          }
        }
      ]
    },
    {
      "cell_type": "markdown",
      "metadata": {
        "id": "bNmsGM6XHyGc"
      },
      "source": [
        "3. Create two neural network models for your handwritten digit recognition task. Each one should have 784 input neurons, and 10 output neurons. Your first model should have ReLU activations in the hidden layers, and a softmax output. Your second model should have Tanh activations in the hidden layers, and have a softmax output. (2 points)"
      ]
    },
    {
      "cell_type": "markdown",
      "metadata": {
        "id": "Qhb3nJ8K7iSd"
      },
      "source": [
        ""
      ]
    },
    {
      "cell_type": "code",
      "metadata": {
        "id": "adLROmFkIXkg"
      },
      "source": [
        "model1 = keras.Sequential([\n",
        "    keras.layers.Flatten(input_shape=(28, 28)),   # 784 input units\n",
        "    keras.layers.Dense(128, activation=tf.nn.relu),  #ReLU activation\n",
        "    keras.layers.Dense(128, activation=tf.nn.relu),  \n",
        "    keras.layers.Dense(10, activation=tf.nn.softmax) # used for multi-classfication\n",
        "])\n",
        "\n",
        "model2 = keras.Sequential([\n",
        "    keras.layers.Flatten(input_shape=(28, 28)),   \n",
        "    keras.layers.Dense(128, activation=tf.nn.tanh),  # #sigmoid activation\n",
        "    keras.layers.Dense(128, activation=tf.nn.tanh),  \n",
        "    keras.layers.Dense(10, activation=tf.nn.softmax)\n",
        "])"
      ],
      "execution_count": 5,
      "outputs": []
    },
    {
      "cell_type": "markdown",
      "metadata": {
        "id": "c_WCbIy_IZHy"
      },
      "source": [
        "4. Compile both models. When you do so, make sure that both models use the **Adam** optimizer. (2 points)"
      ]
    },
    {
      "cell_type": "code",
      "metadata": {
        "id": "eNL1afrbIibX"
      },
      "source": [
        "model1.compile(optimizer='adam', loss='sparse_categorical_crossentropy', metrics=['accuracy'])\n",
        "\n",
        "model2.compile(optimizer='adam', loss='sparse_categorical_crossentropy', metrics=['accuracy'])"
      ],
      "execution_count": 6,
      "outputs": []
    },
    {
      "cell_type": "markdown",
      "metadata": {
        "id": "f0p2KqhMI2oi"
      },
      "source": [
        "5. Train both models using the .fit() function. Test their accuracy on the test data. Which model is more accurate? (2 points)"
      ]
    },
    {
      "cell_type": "code",
      "metadata": {
        "id": "8pM_CFdtJL3x",
        "colab": {
          "base_uri": "https://localhost:8080/"
        },
        "outputId": "d1159a67-bc11-4270-ba40-000cb145a886"
      },
      "source": [
        "import time\n",
        "\n",
        "#Model1\n",
        "start = time.time()\n",
        "history1 =  model1.fit(x_train, y_train, epochs=20)\n",
        "end = time.time()\n",
        "print(\"Model 1 training time\", end-start)\n",
        "\n",
        "print(\"\\n#################################################################################\\n\")\n",
        "\n",
        "#Model2\n",
        "start = time.time()\n",
        "history2 = model2.fit(x_train, y_train, epochs=20)\n",
        "end = time.time()\n",
        "print(\"Model 2 training time\", end-start)\n",
        "\n",
        "\n",
        "print(\"\\n################################################################################\\n\")"
      ],
      "execution_count": 7,
      "outputs": [
        {
          "output_type": "stream",
          "text": [
            "Epoch 1/20\n",
            "1875/1875 [==============================] - 6s 2ms/step - loss: 0.4068 - accuracy: 0.8801\n",
            "Epoch 2/20\n",
            "1875/1875 [==============================] - 3s 2ms/step - loss: 0.1003 - accuracy: 0.9694\n",
            "Epoch 3/20\n",
            "1875/1875 [==============================] - 3s 2ms/step - loss: 0.0653 - accuracy: 0.9789\n",
            "Epoch 4/20\n",
            "1875/1875 [==============================] - 3s 2ms/step - loss: 0.0483 - accuracy: 0.9849\n",
            "Epoch 5/20\n",
            "1875/1875 [==============================] - 3s 2ms/step - loss: 0.0377 - accuracy: 0.9871\n",
            "Epoch 6/20\n",
            "1875/1875 [==============================] - 3s 2ms/step - loss: 0.0303 - accuracy: 0.9897\n",
            "Epoch 7/20\n",
            "1875/1875 [==============================] - 3s 2ms/step - loss: 0.0224 - accuracy: 0.9926\n",
            "Epoch 8/20\n",
            "1875/1875 [==============================] - 3s 2ms/step - loss: 0.0195 - accuracy: 0.9936\n",
            "Epoch 9/20\n",
            "1875/1875 [==============================] - 3s 2ms/step - loss: 0.0160 - accuracy: 0.9947\n",
            "Epoch 10/20\n",
            "1875/1875 [==============================] - 3s 2ms/step - loss: 0.0175 - accuracy: 0.9938\n",
            "Epoch 11/20\n",
            "1875/1875 [==============================] - 3s 2ms/step - loss: 0.0171 - accuracy: 0.9941\n",
            "Epoch 12/20\n",
            "1875/1875 [==============================] - 3s 2ms/step - loss: 0.0106 - accuracy: 0.9963\n",
            "Epoch 13/20\n",
            "1875/1875 [==============================] - 3s 2ms/step - loss: 0.0138 - accuracy: 0.9953\n",
            "Epoch 14/20\n",
            "1875/1875 [==============================] - 3s 2ms/step - loss: 0.0101 - accuracy: 0.9965\n",
            "Epoch 15/20\n",
            "1875/1875 [==============================] - 3s 2ms/step - loss: 0.0112 - accuracy: 0.9963\n",
            "Epoch 16/20\n",
            "1875/1875 [==============================] - 3s 2ms/step - loss: 0.0096 - accuracy: 0.9968\n",
            "Epoch 17/20\n",
            "1875/1875 [==============================] - 3s 2ms/step - loss: 0.0089 - accuracy: 0.9969\n",
            "Epoch 18/20\n",
            "1875/1875 [==============================] - 3s 2ms/step - loss: 0.0079 - accuracy: 0.9976\n",
            "Epoch 19/20\n",
            "1875/1875 [==============================] - 3s 2ms/step - loss: 0.0096 - accuracy: 0.9970\n",
            "Epoch 20/20\n",
            "1875/1875 [==============================] - 3s 2ms/step - loss: 0.0117 - accuracy: 0.9960\n",
            "Model 1 training time 68.30937433242798\n",
            "\n",
            "#################################################################################\n",
            "\n",
            "Epoch 1/20\n",
            "1875/1875 [==============================] - 3s 2ms/step - loss: 0.4011 - accuracy: 0.8820\n",
            "Epoch 2/20\n",
            "1875/1875 [==============================] - 3s 2ms/step - loss: 0.1254 - accuracy: 0.9626\n",
            "Epoch 3/20\n",
            "1875/1875 [==============================] - 3s 2ms/step - loss: 0.0779 - accuracy: 0.9767\n",
            "Epoch 4/20\n",
            "1875/1875 [==============================] - 3s 2ms/step - loss: 0.0579 - accuracy: 0.9817\n",
            "Epoch 5/20\n",
            "1875/1875 [==============================] - 3s 2ms/step - loss: 0.0390 - accuracy: 0.9882\n",
            "Epoch 6/20\n",
            "1875/1875 [==============================] - 3s 2ms/step - loss: 0.0309 - accuracy: 0.9899\n",
            "Epoch 7/20\n",
            "1875/1875 [==============================] - 3s 2ms/step - loss: 0.0250 - accuracy: 0.9921\n",
            "Epoch 8/20\n",
            "1875/1875 [==============================] - 3s 2ms/step - loss: 0.0192 - accuracy: 0.9940\n",
            "Epoch 9/20\n",
            "1875/1875 [==============================] - 3s 2ms/step - loss: 0.0162 - accuracy: 0.9950\n",
            "Epoch 10/20\n",
            "1875/1875 [==============================] - 3s 2ms/step - loss: 0.0111 - accuracy: 0.9970\n",
            "Epoch 11/20\n",
            "1875/1875 [==============================] - 3s 2ms/step - loss: 0.0115 - accuracy: 0.9966\n",
            "Epoch 12/20\n",
            "1875/1875 [==============================] - 3s 2ms/step - loss: 0.0099 - accuracy: 0.9972\n",
            "Epoch 13/20\n",
            "1875/1875 [==============================] - 3s 2ms/step - loss: 0.0116 - accuracy: 0.9964\n",
            "Epoch 14/20\n",
            "1875/1875 [==============================] - 3s 2ms/step - loss: 0.0073 - accuracy: 0.9977\n",
            "Epoch 15/20\n",
            "1875/1875 [==============================] - 3s 2ms/step - loss: 0.0082 - accuracy: 0.9973\n",
            "Epoch 16/20\n",
            "1875/1875 [==============================] - 3s 2ms/step - loss: 0.0088 - accuracy: 0.9969\n",
            "Epoch 17/20\n",
            "1875/1875 [==============================] - 3s 2ms/step - loss: 0.0075 - accuracy: 0.9976\n",
            "Epoch 18/20\n",
            "1875/1875 [==============================] - 3s 2ms/step - loss: 0.0076 - accuracy: 0.9972\n",
            "Epoch 19/20\n",
            "1875/1875 [==============================] - 3s 2ms/step - loss: 0.0054 - accuracy: 0.9982\n",
            "Epoch 20/20\n",
            "1875/1875 [==============================] - 3s 2ms/step - loss: 0.0065 - accuracy: 0.9979\n",
            "Model 2 training time 64.91779017448425\n",
            "\n",
            "################################################################################\n",
            "\n"
          ],
          "name": "stdout"
        }
      ]
    },
    {
      "cell_type": "markdown",
      "metadata": {
        "id": "giifNnQ6JNEL"
      },
      "source": [
        "6. Render two predicted objects. You should render the object using imshow(), and include both the predicted label, and the actual label. (1 point)"
      ]
    },
    {
      "cell_type": "code",
      "metadata": {
        "id": "WUXJjUtoJbV_"
      },
      "source": [
        "model1_predictions = model1.predict(x_test) #returns  array of probabilities\n",
        "model2_predictions = model2.predict(x_test)"
      ],
      "execution_count": 9,
      "outputs": []
    },
    {
      "cell_type": "code",
      "metadata": {
        "id": "fuSERyXw71f1",
        "colab": {
          "base_uri": "https://localhost:8080/"
        },
        "outputId": "c6f7e308-a96e-4838-f45a-ac6c30cf92f2"
      },
      "source": [
        "#image number 11 of test set\n",
        "print(model1_predictions[10])\n",
        "print(\"Predicted label\",np.argmax(model1_predictions[10]))\n",
        "print(\"Actual label\",y_test[10])"
      ],
      "execution_count": 10,
      "outputs": [
        {
          "output_type": "stream",
          "text": [
            "[1.0000000e+00 1.8373058e-28 1.1413097e-13 4.3475211e-20 1.3450919e-24\n",
            " 3.1458362e-23 4.3803611e-22 8.3789998e-15 2.1807275e-24 1.0301119e-14]\n",
            "Predicted label 0\n",
            "Actual label 0\n"
          ],
          "name": "stdout"
        }
      ]
    },
    {
      "cell_type": "code",
      "metadata": {
        "id": "apoR0IuA727t",
        "colab": {
          "base_uri": "https://localhost:8080/"
        },
        "outputId": "8780d05b-00b1-4857-fb34-5ca37708f097"
      },
      "source": [
        "#image number 11 of test set\n",
        "print(model2_predictions[10])\n",
        "print(\"Predicted label\",np.argmax(model2_predictions[10]))\n",
        "print(\"Actual label\",y_test[10])"
      ],
      "execution_count": 11,
      "outputs": [
        {
          "output_type": "stream",
          "text": [
            "[9.9999976e-01 1.0741874e-13 4.6854531e-10 4.8240325e-11 1.2682995e-10\n",
            " 1.3273050e-09 2.5520761e-10 7.8211283e-12 4.2669163e-11 2.2931219e-07]\n",
            "Predicted label 0\n",
            "Actual label 0\n"
          ],
          "name": "stdout"
        }
      ]
    },
    {
      "cell_type": "code",
      "metadata": {
        "id": "fG3QbA2n8C3C"
      },
      "source": [
        "\n",
        "def plot_image(i, pred_array, true_label, img):\n",
        "  classes  = [0,1,2,3,4,5,6,7,8,9]\n",
        "  preds_array, true_label, img = pred_array[i], true_label[i], img[i]\n",
        "  plt.grid(False)\n",
        "  plt.xticks([])\n",
        "  plt.yticks([])\n",
        "  \n",
        "  plt.imshow(img, cmap=plt.cm.binary)\n",
        "\n",
        "  predicted_label = np.argmax(preds_array)\n",
        "  if predicted_label == true_label:\n",
        "    color = 'blue'\n",
        "  else:\n",
        "    color = 'red'\n",
        "  \n",
        "  plt.xlabel(\"Prediced Diigt: [{}] {:2.0f}% (Actual Digit: [{}])\".format(classes[predicted_label],\n",
        "                                100*np.max(preds_array),\n",
        "                                classes[true_label]),\n",
        "                                color=color)\n",
        "\n",
        "def plot_value_array(i, pred_array, true_label):\n",
        "  preds_array, true_label = pred_array[i], true_label[i]\n",
        "  plt.grid(False)\n",
        "  plt.xticks([])\n",
        "  plt.yticks([])\n",
        "  thisplot = plt.bar(range(10), preds_array, color=\"#FFFF00\")\n",
        "  plt.ylim([0, 1]) \n",
        "  predicted_label = np.argmax(preds_array)\n",
        " \n",
        "  thisplot[predicted_label].set_color('yellow')\n",
        "  thisplot[true_label].set_color('blue')"
      ],
      "execution_count": 13,
      "outputs": []
    },
    {
      "cell_type": "code",
      "metadata": {
        "id": "vKWP51mx8Z3_",
        "colab": {
          "base_uri": "https://localhost:8080/",
          "height": 261
        },
        "outputId": "fcd2b284-d435-4dd9-8688-e38c37d53b94"
      },
      "source": [
        "i = 10 \n",
        "plt.figure(figsize=(10,4))\n",
        "plt.subplot(1,2,1)\n",
        "plot_image(i, model1_predictions, y_test, x_test)\n",
        "plt.subplot(1,2,2)\n",
        "plot_value_array(i, model1_predictions,  y_test)\n",
        "plt.show()"
      ],
      "execution_count": 14,
      "outputs": [
        {
          "output_type": "display_data",
          "data": {
            "image/png": "[encoded data removed]",
            "text/plain": [
              "<Figure size 720x288 with 2 Axes>"
            ]
          },
          "metadata": {
            "tags": []
          }
        }
      ]
    },
    {
      "cell_type": "code",
      "metadata": {
        "id": "NXqHOdG08ajF",
        "colab": {
          "base_uri": "https://localhost:8080/",
          "height": 261
        },
        "outputId": "e34337be-5bde-4518-da61-e13fe17a4b2b"
      },
      "source": [
        "#model 2 prediction for image 11 of test set\n",
        "i = 10 #image number 14 of test set\n",
        "plt.figure(figsize=(10,4))\n",
        "plt.subplot(1,2,1)\n",
        "plot_image(i, model2_predictions, y_test, x_test)\n",
        "plt.subplot(1,2,2)\n",
        "plot_value_array(i, model2_predictions,  y_test)\n",
        "plt.show()"
      ],
      "execution_count": 16,
      "outputs": [
        {
          "output_type": "display_data",
          "data": {
            "image/png": "[encoded data removed]",
            "text/plain": [
              "<Figure size 720x288 with 2 Axes>"
            ]
          },
          "metadata": {
            "tags": []
          }
        }
      ]
    }
  ]
}