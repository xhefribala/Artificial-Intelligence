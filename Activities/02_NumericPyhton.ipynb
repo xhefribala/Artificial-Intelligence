{
  "nbformat": 4,
  "nbformat_minor": 0,
  "metadata": {
    "kernelspec": {
      "display_name": "Python 3",
      "language": "python",
      "name": "python3"
    },
    "language_info": {
      "codemirror_mode": {
        "name": "ipython",
        "version": 3
      },
      "file_extension": ".py",
      "mimetype": "text/x-python",
      "name": "python",
      "nbconvert_exporter": "python",
      "pygments_lexer": "ipython3",
      "version": "3.6.5"
    },
    "colab": {
      "name": "7843_Xhefri_Bala_Notebook",
      "provenance": [],
      "collapsed_sections": [],
      "toc_visible": true
    }
  },
  "cells": [
    {
      "cell_type": "markdown",
      "metadata": {
        "id": "dw0YC1VhTrQe"
      },
      "source": [
        "# Introduction to Numpy\n",
        "\n",
        "## 1. Introduction\n",
        "The purpose of this notebook is to introduce you to numpy, which is a numerical computing package that is commonly used in AI applications. Numpy leverages libraries written in C (and sometimes FORTRAN) to do very fast (and accurate!) computation for simulations, optimization, and anything requiring large matrix operations. This is important, because many operations in machine learning and AI are actually matrix or vector operations (e.g. an image is an array of pixel values denoting the colour).\n",
        "\n",
        "In this notebook, we will cover the following basics:\n",
        "\n",
        "1. Working with numpy arrays, and giving students an understanding *vectorized* programming (i.e. multiprocessing);\n",
        "2. Slicing and indexing in numpy (and the distinction between numpy, and slicing and indexing operations in basic Python!);\n",
        "3. Performing basic operations on arrays;\n",
        "4. Applying these operations to do basic tasks.\n",
        "\n",
        "For now, the important outcomes are that you:\n",
        "\n",
        "1. Know how to create and do operations with numpy arrays (including using some basic numpy functions);\n",
        "2. Know how to slice arrays to manipulate data; and,\n",
        "3. Can combine these skills to perform basic tasks.\n",
        "\n",
        "It's difficult to cover the full functionality of numpy without also covering a few basics of matrices, so along with the above, we will briefly cover some introductory linear algebra (the math of matrices).\n",
        "\n",
        "## 2. Importing Numpy\n",
        "As covered in the lecture slides, we have multiple ways of importing numpy so that we can work with it, which will be covered in the sections below.\n",
        "\n",
        "### 2.1 Import Numpy Directly\n",
        "We would do this using:\n",
        "\n",
        "<code>\n",
        "    import numpy\n",
        "</code>\n",
        "    \n",
        "In which we import the module directly, and would initialize an array using (as a quick example):\n",
        "\n",
        "<code>\n",
        "    A = numpy.array([1, 2, 3])\n",
        "</code>\n",
        "\n",
        "### 2.2 Assigning a Name to Numpy\n",
        "This is the same as above, with the exception that we give it a convenient name so that we can work with it:\n",
        "\n",
        "<code>\n",
        "    import numpy as np\n",
        "</code>\n",
        "    \n",
        "In which we import the module directly, and would initialize an array using (as a quick example):\n",
        "\n",
        "<code>\n",
        "    A = np.array([1, 2, 3])\n",
        "</code>\n",
        "\n",
        "### 2.3 Importing Directly Into the Namespace\n",
        "Here, we import all classes, functions, and variables in the numpy module directly into our namespace to work with them. We do this using:\n",
        "\n",
        "<code>\n",
        "    from numpy import *\n",
        "</code>\n",
        "\n",
        "When we do this, we can initialize an array using:\n",
        "\n",
        "<code>\n",
        "    A = array([1, 2, 3])\n",
        "</code>\n",
        "\n",
        "### 2.4 Importing Part of the Numpy Module\n",
        "This is a variation of the above, where we only import part of the numpy module (i.e. the part that we're interested in). For example:\n",
        "\n",
        "<code>\n",
        "    from numpy import array\n",
        "</code>\n",
        "\n",
        "We can then initialize an array using:\n",
        "\n",
        "<code>\n",
        "    A = array([1, 2, 3])\n",
        "</code>\n",
        "\n",
        "### 2.5 Imports for this Notebook\n",
        "In this case, we will import numpy and give it a convenient name, which tends to be the default standard. The reason for this is that it lets us avoid clashes in the namespace (for example, say I wanted to write my own array class, that clashed with numpy's array class; better to keep things isolated, and use polymorphism to deal with such cases)."
      ]
    },
    {
      "cell_type": "code",
      "metadata": {
        "id": "pe8NCzjcTrQm"
      },
      "source": [
        "import numpy as np"
      ],
      "execution_count": null,
      "outputs": []
    },
    {
      "cell_type": "markdown",
      "metadata": {
        "id": "WFRn3twoTrQ7"
      },
      "source": [
        "## 3. Working With Numpy\n",
        "\n",
        "### 3.1 Creating Arrays\n",
        "Numpy arrays are not lists, though they do have some of the benefits of lists that a standard array (in C, for example) wouldn't have, such as dynamic sizing. Arrays are typically blocks of allocated memory with a fixed size, that allow you to do matrix operations. Numpy does allow you to append and pop items from the array, though this is done by re-allocating memory, and is typically inefficient. Arrays have their own properties that you can set and access in order to improve the speed of your code, or during debugging. For example:"
      ]
    },
    {
      "cell_type": "code",
      "metadata": {
        "id": "SVzR9JOwTrQ9",
        "colab": {
          "base_uri": "https://localhost:8080/",
          "height": 650
        },
        "outputId": "4700cb54-e5ba-4d75-822b-ec461d4b3213"
      },
      "source": [
        "# initialize an array manually using a list\n",
        "A = np.array([1, 2, 3])\n",
        "print(A)\n",
        "print(A.shape)\n",
        "print(A.dtype)\n",
        "print()\n",
        "\n",
        "# create a zero array\n",
        "B = np.zeros((3,3))\n",
        "print(B)\n",
        "print(B.shape)\n",
        "print(B.dtype)\n",
        "print()\n",
        "\n",
        "# create a vector of values in the interval [0, 1]\n",
        "C = np.linspace(0, 1, 10)\n",
        "print(C)\n",
        "print(C.shape)\n",
        "print(C.dtype)\n",
        "print()\n",
        "\n",
        "D = np.array([[1, 2, 3], [4, 5, 6]])\n",
        "print(D)\n",
        "print(D.shape)\n",
        "print(D.dtype)\n",
        "print()\n",
        "\n",
        "# create a zeros_like vector\n",
        "E = np.zeros_like(D)\n",
        "print(E)\n",
        "print(E.shape)\n",
        "print(E.dtype)\n",
        "print()\n",
        "\n",
        "F = np.ones((2,2))\n",
        "print(F)\n",
        "print(F.shape)\n",
        "print(F.dtype)\n",
        "print()\n",
        "\n",
        "G = np.random.rand(2,3)\n",
        "H = 3 * np.ones_like(G)\n",
        "I = G + H\n",
        "print(G)\n",
        "print(H)\n",
        "print(I)"
      ],
      "execution_count": null,
      "outputs": [
        {
          "output_type": "stream",
          "text": [
            "[1 2 3]\n",
            "(3,)\n",
            "int64\n",
            "\n",
            "[[0. 0. 0.]\n",
            " [0. 0. 0.]\n",
            " [0. 0. 0.]]\n",
            "(3, 3)\n",
            "float64\n",
            "\n",
            "[0.         0.11111111 0.22222222 0.33333333 0.44444444 0.55555556\n",
            " 0.66666667 0.77777778 0.88888889 1.        ]\n",
            "(10,)\n",
            "float64\n",
            "\n",
            "[[1 2 3]\n",
            " [4 5 6]]\n",
            "(2, 3)\n",
            "int64\n",
            "\n",
            "[[0 0 0]\n",
            " [0 0 0]]\n",
            "(2, 3)\n",
            "int64\n",
            "\n",
            "[[1. 1.]\n",
            " [1. 1.]]\n",
            "(2, 2)\n",
            "float64\n",
            "\n",
            "[[0.54659233 0.83572479 0.95212092]\n",
            " [0.38502843 0.90290973 0.97123313]]\n",
            "[[3. 3. 3.]\n",
            " [3. 3. 3.]]\n",
            "[[3.54659233 3.83572479 3.95212092]\n",
            " [3.38502843 3.90290973 3.97123313]]\n"
          ],
          "name": "stdout"
        }
      ]
    },
    {
      "cell_type": "markdown",
      "metadata": {
        "id": "kFnAN78GTrRL"
      },
      "source": [
        "There are many different ways of initializing arrays in numpy, and which one you use will depend on the task you are working on. The above are just some basic methods that are commonly used.\n",
        "\n",
        "### 3.1 Slicing Arrays\n",
        "Being able to slice arrays is essential to working effectively in numpy. Slicing uses a start:stop:step format, and can be used to \"chunk\" indices. For example, you can think of the following:\n",
        "\n",
        "<code>\n",
        "    A[:,1]\n",
        "</code>\n",
        "\n",
        "As \"all rows of the first column of A\". For another example:\n",
        "\n",
        "<code>\n",
        "    A[:3]\n",
        "</code>\n",
        "\n",
        "Can be thought of as \"all elements from the beginning up to the third\". And:\n",
        "\n",
        "<code>\n",
        "    A[3:]\n",
        "</code>\n",
        "\n",
        "Is \"all elements from the 3rd until the end\".\n",
        "\n",
        "In the following cell, we'll go through some simple slicing exercises:"
      ]
    },
    {
      "cell_type": "code",
      "metadata": {
        "id": "JRRfKZiPTrRP",
        "colab": {
          "base_uri": "https://localhost:8080/",
          "height": 777
        },
        "outputId": "aea008fb-126e-45ae-91d9-c7bf9da1706c"
      },
      "source": [
        "A = np.random.randn(5)\n",
        "print(A)\n",
        "print()\n",
        "\n",
        "# start:stop:step\n",
        "# print every second element\n",
        "print(A[::2])\n",
        "print()\n",
        "\n",
        "# reverse the array\n",
        "print(A[::-1])\n",
        "print()\n",
        "\n",
        "# all elements up to the 3rd\n",
        "print(A[:3])\n",
        "print()\n",
        "\n",
        "# all elements from the 2nd onwards\n",
        "print(A[2:])\n",
        "print()\n",
        "\n",
        "B = np.array([[1, 2, 3],\n",
        "              [4, 5, 6],\n",
        "              [7, 8, 9]])\n",
        "print(B)\n",
        "print()\n",
        "print(B[:,1])\n",
        "print(B[1,:])\n",
        "print(B[:,2])\n",
        "print(B[:2,2])\n",
        "print(B[0,0])\n",
        "print(np.array([B[2,0], B[0, 2]]))\n",
        "print(B[:,:2])"
      ],
      "execution_count": null,
      "outputs": [
        {
          "output_type": "stream",
          "text": [
            "[ 1.87741041 -0.08256372 -2.29388298 -0.07855549 -0.39396762]\n",
            "\n",
            "[ 1.87741041 -2.29388298 -0.39396762]\n",
            "\n",
            "[-0.39396762 -0.07855549 -2.29388298 -0.08256372  1.87741041]\n",
            "\n",
            "[ 1.87741041 -0.08256372 -2.29388298]\n",
            "\n",
            "[-2.29388298 -0.07855549 -0.39396762]\n",
            "\n",
            "[[1 2 3]\n",
            " [4 5 6]\n",
            " [7 8 9]]\n",
            "\n",
            "[2 5 8]\n",
            "[4 5 6]\n",
            "[3 6 9]\n",
            "[3 6]\n",
            "1\n",
            "[7 3]\n",
            "[[1 2]\n",
            " [4 5]\n",
            " [7 8]]\n"
          ],
          "name": "stdout"
        }
      ]
    },
    {
      "cell_type": "markdown",
      "metadata": {
        "id": "PFTjxFAFTrRZ"
      },
      "source": [
        "If we wanted to loop through a 1D array in reverse, and print every second element, how might we do this?"
      ]
    },
    {
      "cell_type": "code",
      "metadata": {
        "id": "pFIVRBhsTrRa",
        "colab": {
          "base_uri": "https://localhost:8080/",
          "height": 117
        },
        "outputId": "16a904c3-0971-42b6-c0b9-5c951117747a"
      },
      "source": [
        "# answer here\n",
        "C = np.linspace(0, 1, 5)\n",
        "print(C)\n",
        "print(C[::-1])\n",
        "print(C[::-2])"
      ],
      "execution_count": null,
      "outputs": [
        {
          "output_type": "stream",
          "text": [
            "[0.   0.25 0.5  0.75 1.  ]\n",
            "[1.   0.75 0.5  0.25 0.  ]\n",
            "[1.  0.5 0. ]\n"
          ],
          "name": "stdout"
        }
      ]
    },
    {
      "cell_type": "markdown",
      "metadata": {
        "id": "Uxtl60hvTrRh"
      },
      "source": [
        "### 3.2 Logical Operators\n",
        "We can also do logical operations on arrays in numpy. For example, say we wanted to generate a mask that zeros out elements below a certain value:"
      ]
    },
    {
      "cell_type": "code",
      "metadata": {
        "id": "IzQFpZonTrRi",
        "colab": {
          "base_uri": "https://localhost:8080/",
          "height": 513
        },
        "outputId": "d5658802-97b5-4c9d-e64f-1311c4adc106"
      },
      "source": [
        "A = np.array([[1, 2, 3],\n",
        "              [4, 5, 6],\n",
        "              [7, 8, 9]])\n",
        "M = A >= 5\n",
        "\n",
        "print(A)\n",
        "print()\n",
        "print(M)\n",
        "print()\n",
        "print(A * M)\n",
        "print()\n",
        "print((A < 2) | (A > 7))"
      ],
      "execution_count": null,
      "outputs": [
        {
          "output_type": "stream",
          "text": [
            "[[1 2 3]\n",
            " [4 5 6]\n",
            " [7 8 9]]\n",
            "\n",
            "[[False False False]\n",
            " [False  True  True]\n",
            " [ True  True  True]]\n",
            "\n",
            "[[0 0 0]\n",
            " [0 5 6]\n",
            " [7 8 9]]\n",
            "\n",
            "[[ True False False]\n",
            " [False False False]\n",
            " [False  True  True]]\n"
          ],
          "name": "stdout"
        }
      ]
    },
    {
      "cell_type": "markdown",
      "metadata": {
        "id": "m_yK6WY6TrRo"
      },
      "source": [
        "Now let's say we want to generate a boolean mask for every third element of a 1D array, that checks if that element is less than 0.5. How might we do this?"
      ]
    },
    {
      "cell_type": "code",
      "metadata": {
        "id": "VLMk8flSTrRp",
        "colab": {
          "base_uri": "https://localhost:8080/",
          "height": 282
        },
        "outputId": "1cd91bbf-26db-4ab0-8ed6-3a4c5a456973"
      },
      "source": [
        "# answer here\n",
        "C = np.random.rand(10)\n",
        "print(C)\n",
        "print(C.shape)\n",
        "print()\n",
        "\n",
        "D = C[::3]\n",
        "print(D)\n",
        "print(D.shape)\n",
        "E = D < 0.5\n",
        "print(E)\n",
        "\n",
        "F = C[::3] < 0.5\n",
        "print(F)"
      ],
      "execution_count": null,
      "outputs": [
        {
          "output_type": "stream",
          "text": [
            "[0.39457544 0.18971152 0.01250524 0.80136831 0.91906599 0.84281656\n",
            " 0.82547415 0.32543318 0.85086716 0.3698522 ]\n",
            "(10,)\n",
            "\n",
            "[0.39457544 0.80136831 0.82547415 0.3698522 ]\n",
            "(4,)\n",
            "[ True False False  True]\n",
            "[ True False False  True]\n"
          ],
          "name": "stdout"
        }
      ]
    },
    {
      "cell_type": "markdown",
      "metadata": {
        "id": "RDjNO3icTrRz"
      },
      "source": [
        "### 3.2 Vectorized Programming\n",
        "One of the advantages of using numpy is that it lets you leverage multiprocessing. For example, say we have the following array:\n",
        "\n",
        "$A = \\begin{bmatrix}\n",
        "        a & b & c \\\\\n",
        "        d & e & f \\\\\n",
        "        g & h & i\n",
        "     \\end{bmatrix}$\n",
        "\n",
        "And we wanted to take the $sin$ of each element. A naive implementation would be to loop through each row and column of the matrix, which is shown below:"
      ]
    },
    {
      "cell_type": "code",
      "metadata": {
        "id": "S1h-wpcfTrR0",
        "colab": {
          "base_uri": "https://localhost:8080/",
          "height": 249
        },
        "outputId": "2b3180fb-89e7-40db-d068-8510086b9dde"
      },
      "source": [
        "from math import sin\n",
        "\n",
        "A = np.random.rand(3, 3)\n",
        "print(A)\n",
        "print()\n",
        "\n",
        "B = A.copy()\n",
        "for i in range(3):\n",
        "    for j in range(3):\n",
        "        B[i, j] = sin(A[i, j])\n",
        "print(B)"
      ],
      "execution_count": null,
      "outputs": [
        {
          "output_type": "stream",
          "text": [
            "[[0.95947367 0.53841137 0.07079293]\n",
            " [0.43570361 0.49185687 0.67862567]\n",
            " [0.79444554 0.77276144 0.56934411]]\n",
            "\n",
            "[[0.81888959 0.51277276 0.07073381]\n",
            " [0.42204838 0.47226345 0.62772379]\n",
            " [0.71347521 0.69811505 0.53907974]]\n"
          ],
          "name": "stdout"
        }
      ]
    },
    {
      "cell_type": "markdown",
      "metadata": {
        "id": "4vbPs7GmTrSB"
      },
      "source": [
        "A much cleaner and faster method is:"
      ]
    },
    {
      "cell_type": "code",
      "metadata": {
        "id": "_w7KokXMTrSC",
        "colab": {
          "base_uri": "https://localhost:8080/",
          "height": 70
        },
        "outputId": "1d296e43-5d82-4050-f980-c19e52dd400e"
      },
      "source": [
        "C = A.copy()\n",
        "C = np.sin(C)\n",
        "print(C)\n",
        "\n",
        "k = 0.5\n",
        "A = np.array([1, 2, 3])\n",
        "B = np.array([4, 5, 6])\n",
        "C = np.zeros((3,))\n",
        "# k * A * B^2\n",
        "for i in range(3):\n",
        "  C[i] = k * A[i] * B[i] ** 2\n",
        "\n",
        "D = k * A * B ** 2\n",
        "print(C)\n",
        "print(D)"
      ],
      "execution_count": null,
      "outputs": [
        {
          "output_type": "stream",
          "text": [
            "[0.84147098 0.90929743 0.14112001]\n",
            "[ 8. 25. 54.]\n",
            "[ 8. 25. 54.]\n"
          ],
          "name": "stdout"
        }
      ]
    },
    {
      "cell_type": "markdown",
      "metadata": {
        "id": "rFwhyD9zTrST"
      },
      "source": [
        "Similarly, lets say we wanted to square all elements of a matrix. How would we do this if we didn't want to loop through it?"
      ]
    },
    {
      "cell_type": "code",
      "metadata": {
        "id": "LHfnxJyNTrSV",
        "colab": {
          "base_uri": "https://localhost:8080/",
          "height": 51
        },
        "outputId": "79e19102-aff2-4475-8a7e-35396feb7aa9"
      },
      "source": [
        "# answer here\n",
        "A = np.array([[2, 4],\n",
        "              [6, 8]])\n",
        "print(A ** 2)"
      ],
      "execution_count": null,
      "outputs": [
        {
          "output_type": "stream",
          "text": [
            "[[ 4 16]\n",
            " [36 64]]\n"
          ],
          "name": "stdout"
        }
      ]
    },
    {
      "cell_type": "markdown",
      "metadata": {
        "id": "Ly68IWmdTrSf"
      },
      "source": [
        "### 3.3 Generating Random Numbers\n",
        "This is an important task, since it lets you test routines, and generate dummy data. Numpy has multiple routines available for generating random values drawn from different types of distribution:\n",
        "\n",
        "1. numpy.random.rand() draws values uniformly from [0,1];\n",
        "2. numpy.random.randn() draws values from a unit normal distribution (i.e. mean 0, standard deviation 1);\n",
        "3. numpy.random.uniform(a, b) draws values uniformly from the interval [a,b].\n",
        "\n",
        "In the following cell, we will draw 1000 values from a normal distribution."
      ]
    },
    {
      "cell_type": "code",
      "metadata": {
        "id": "KjEGoREZTrSh",
        "colab": {
          "base_uri": "https://localhost:8080/",
          "height": 282
        },
        "outputId": "8cb93b08-1f5f-47f2-8d35-3680cbb9361f"
      },
      "source": [
        "import matplotlib.pyplot as plt\n",
        "\n",
        "# answer here\n",
        "k = np.random.randn(10000)\n",
        "print(k.shape)\n",
        "\n",
        "plt.figure()\n",
        "plt.hist(k, bins=1000)\n",
        "plt.show()"
      ],
      "execution_count": null,
      "outputs": [
        {
          "output_type": "stream",
          "text": [
            "(10000,)\n"
          ],
          "name": "stdout"
        },
        {
          "output_type": "display_data",
          "data": {
            "image/png": "[encoded data removed]",
            "text/plain": [
              "<Figure size 432x288 with 1 Axes>"
            ]
          },
          "metadata": {
            "tags": []
          }
        }
      ]
    },
    {
      "cell_type": "markdown",
      "metadata": {
        "id": "E4gY3jcMTrSt"
      },
      "source": [
        "### 3.4 Matrix Multiplication and Element-wise Multiplication\n",
        "One key point to note: \n",
        "\n",
        "$AB \\neq \\begin{bmatrix}\n",
        "        a_{1,1}b_{1,1} & a_{1,2}b_{1,2} & a_{1,3}b_{1,3} & ... & a_{1,n}b_{1,n} \\\\\n",
        "        a_{2,1}b_{2,1} & a_{2,2}b_{2,2} & a_{2,3}b & ... & a_{2,n}b_{2,n} \\\\\n",
        "        a_{3,1}b_{3,1} & a_{3,2}b_{3,2} & a_{3,3}b_{3,3} & ... & a_{3,n}b_{3,n} \\\\\n",
        "        ... & ... & ... & ... & ... \\\\\n",
        "        a_{m,1}b_{m,1} & a_{m,2}b_{m,2} & a_{m,3}b_{m,3} & ... & a_{m,n}b_{m,n} \\\\\n",
        "        \\end{bmatrix}$\n",
        "\n",
        "There's a difference between matrix multiplication, and element-wise multiplication. The above operation is element-wise multiplication, whereas matrix multiplication is:\n",
        "\n",
        "$AB = \\begin{bmatrix}\n",
        "        (a_{1,1}b_{1,1} + a_{1,2}b_{2,1} + ... + a_{1,n}b_{m,1})& ... & ... & ... & (a_{1,1}b_{1,n} + a_{1,2}b_{2,n} + ... + a_{1,n}b_{m,n}) \\\\\n",
        "       ... & ... & ... & ... & ... \\\\\n",
        "        ... & ... & ... & ... & ... \\\\\n",
        "        ... & ... & ... & ... & ... \\\\\n",
        "        (a_{m,1}b_{1,1} + a_{m,2}b_{2,1} + ... + a_{m,n}b_{m,1})& ... & ... & ... & (a_{m,1}b_{1,n} + a_{m,2}b_{2,n} + ... + a_{m,n}b_{m,n}) \\\\\n",
        "        \\end{bmatrix}$\n",
        "        \n",
        "In GIF form:\n",
        "\n",
        "![matmul](https://upload.wikimedia.org/wikipedia/commons/8/86/Matrix_multiplication_.gif)\n",
        "\n",
        "So how do we differentiate between these in numpy? Well:\n",
        "\n",
        "<code>\n",
        "    A*B = C\n",
        "</code>\n",
        "\n",
        "Gives us element-wise multiplication.\n",
        "\n",
        "<code>\n",
        "    A.dot(B) = C\n",
        "</code>\n",
        "\n",
        "Gives us matrix multiplication. One thing to be aware of is that for matrix multiplication, you need to line up the rows and columns of your matrices. I.e. if $A$ is a $3\\times 3$ matrix, and $B$ is a $2\\times 3$ matrix, you can only multiply them as $BA$ -- which gives you a $2\\times 3$ matrix -- or $AB^T$ -- which gives you a $3 \\times 2$ matrix. \n",
        "\n",
        "In the following cell, we will do demonstrate the difference between the two:"
      ]
    },
    {
      "cell_type": "code",
      "metadata": {
        "id": "oN7faVtaTrSv",
        "colab": {
          "base_uri": "https://localhost:8080/",
          "height": 289
        },
        "outputId": "be2210d3-778c-4a50-8dca-6e140fdb33ec"
      },
      "source": [
        "# hadamard product\n",
        "A = np.random.rand(3,2)\n",
        "B = np.random.rand(3,2)\n",
        "print(A)\n",
        "print()\n",
        "print(B)\n",
        "print()\n",
        "print(A*B)\n",
        "print()\n",
        "print()\n",
        "\n",
        "# matrix product\n",
        "C = A.T.dot(B)\n",
        "print(C)\n",
        "print(C.shape)"
      ],
      "execution_count": null,
      "outputs": [
        {
          "output_type": "stream",
          "text": [
            "[[0.51363457 0.63372768]\n",
            " [0.78021857 0.64063972]\n",
            " [0.46434059 0.90793982]]\n",
            "\n",
            "[[0.56375182 0.16105959]\n",
            " [0.94597499 0.15296558]\n",
            " [0.98809939 0.59468786]]\n",
            "\n",
            "[[0.28956242 0.10206792]\n",
            " [0.73806725 0.09799582]\n",
            " [0.45881465 0.53994079]]\n",
            "\n",
            "\n",
            "[[1.48644433 0.47821007]\n",
            " [1.86042907 0.74000453]]\n",
            "(2, 2)\n"
          ],
          "name": "stdout"
        }
      ]
    },
    {
      "cell_type": "markdown",
      "metadata": {
        "id": "wggdYvEeTrS2"
      },
      "source": [
        "### 3.5 Linear Algebra Operations\n",
        "Sometimes you may find it necessary to do certain operations on matrices. For example, you may want to *normalize* your data, which ensures that your data will sum to $1$. The numpy.linalg package is designed to cover common linear algebra operations, such as finding the normalized value, or doing matrix inversion. These operations are very handy, since they let you solve simple systems of equations. For example, say you have:\n",
        "\n",
        "$Ax = b$\n",
        "\n",
        "Then you can solve for $x$ using:\n",
        "\n",
        "$x = A^{-1}b$\n",
        "\n",
        "Where:\n",
        "\n",
        "$AA^{-1} = I$\n",
        "\n",
        "Where $I$ is the **identity matrix**:\n",
        "\n",
        "$I = \\begin{bmatrix}\n",
        "        1 & 0 & 0 & ... & 0 \\\\\n",
        "        0 & 1 & 0 & ... & 0 \\\\\n",
        "        0 & 0 & 1 & ... & 0 \\\\\n",
        "        ... & ... & ... & ... & ... \\\\\n",
        "        0 & 0 & 0 & ... & 1 \\\\\n",
        "        \\end{bmatrix}$\n",
        "        \n",
        "$AI = IA = A$\n",
        "\n",
        "In the following cell, we'll normalize a vector, and invert a matrix:"
      ]
    },
    {
      "cell_type": "code",
      "metadata": {
        "id": "yCrFU13RTrS3",
        "colab": {
          "base_uri": "https://localhost:8080/",
          "height": 247
        },
        "outputId": "75470099-ba82-4da3-cd81-1aea29294d14"
      },
      "source": [
        "# normalize vector\n",
        "A = np.array([1, 2, 3])\n",
        "mag = np.linalg.norm(A)\n",
        "print(A)\n",
        "print(mag)\n",
        "print(np.sqrt(A.T.dot(A)))\n",
        "B = A/mag\n",
        "print(B)\n",
        "print(np.sum(B**2))\n",
        "print()\n",
        "\n",
        "# invert a matrix\n",
        "C = np.random.rand(3,3)\n",
        "D = np.linalg.inv(C)\n",
        "print(C)\n",
        "print()\n",
        "print(D)"
      ],
      "execution_count": null,
      "outputs": [
        {
          "output_type": "stream",
          "text": [
            "[1 2 3]\n",
            "3.7416573867739413\n",
            "3.7416573867739413\n",
            "[0.26726124 0.53452248 0.80178373]\n",
            "1.0\n",
            "\n",
            "[[0.11881595 0.18645982 0.75574834]\n",
            " [0.83079985 0.80068132 0.06946978]\n",
            " [0.10846383 0.32628892 0.18571591]]\n",
            "\n",
            "[[ 0.99358235  1.67103093 -4.66833638]\n",
            " [-1.15697523 -0.47226798  4.88482888]\n",
            " [ 1.45243584 -0.14619432 -0.47125678]]\n"
          ],
          "name": "stdout"
        }
      ]
    },
    {
      "cell_type": "markdown",
      "metadata": {
        "id": "GyCgBFOZTrS9"
      },
      "source": [
        "Note that in general, not every matrix is invertible. Only square matrices are invertible, and the determinant must be non-zero, though there are tricks for getting around these requirements if you need to.\n",
        "\n",
        "### 3.4 Generating a Dummy Dataset\n",
        "Sometimes we want to generate a dummy dataset in order to test an idea or an algorithm. This is a very simple and quick way of testing if your regression technique is working, for example. Dummy data is usually noisy, and takes the form $y = f(x) + \\sigma \\epsilon$, where $\\epsilon \\sim \\mathcal{N}(0, 1)$. As a quick demonstration:"
      ]
    },
    {
      "cell_type": "code",
      "metadata": {
        "id": "mGRcW-EZTrS-",
        "outputId": "ced038bd-8ec5-4989-9ec8-09f4ab4b9333"
      },
      "source": [
        "def f(x):\n",
        "    return x**3 + 0.1/x\n",
        "\n",
        "def g(x, sigma=1):\n",
        "    eps = np.random.randn(x.shape[0])\n",
        "    return f(x) + sigma * eps\n",
        "\n",
        "x = np.linspace(0.01, 1, 100)\n",
        "y = f(x)\n",
        "noisy_y = g(x)\n",
        "plt.figure()\n",
        "plt.plot(x, y, \"-r\")\n",
        "plt.scatter(x, noisy_y)\n",
        "plt.legend([\"original function\", \"with noise\"])\n",
        "plt.show()"
      ],
      "execution_count": null,
      "outputs": [
        {
          "output_type": "display_data",
          "data": {
            "image/png": "[encoded data removed]",
            "text/plain": [
              "<Figure size 432x288 with 1 Axes>"
            ]
          },
          "metadata": {
            "tags": []
          }
        }
      ]
    },
    {
      "cell_type": "markdown",
      "metadata": {
        "id": "GF7ll8-KTrTF"
      },
      "source": [
        "## 4. Exercises\n",
        "\n",
        "1. Initialize a numpy array called $A$ with 1000 elements, in the range $[0, 1]$;\n",
        "2. Print out the shape and datatype of $A$;\n",
        "3. Reshape $A$ to size (1, 1000), and print out the new shape;\n",
        "4. Transpose $A$, and print out the new shape;\n",
        "5. Create an array $B$ that is 1 when $A \\geq 0.5$, and 0 otherwise;\n",
        "6. Create a 3x3 random array $C$;\n",
        "7. Invert $C$ to get $C^{-1}$;\n",
        "8. Calculate and print $CC^{-1}$ using numpy's dot function;\n",
        "9. Initialize a numpy array called $D$ with 1000 elements, in the range $[-1, 1]$;\n",
        "10. Create a function that returns $x^{0.5} + 1 + \\sigma\\epsilon$, where $\\epsilon$ is a random, **normally distributed** value. Pass $D$ to this function, and plot the result. $\\epsilon$ should be a different value for each element of $D$, and $\\sigma = 0.1$. "
      ]
    },
    {
      "cell_type": "code",
      "metadata": {
        "id": "5fkODS5vTrTF",
        "colab": {
          "base_uri": "https://localhost:8080/",
          "height": 51
        },
        "outputId": "3754c079-2d08-4a95-8597-92ccd9a93b0f"
      },
      "source": [
        "# your code goes here\n",
        "A = np.linspace(0, 1, 5)\n",
        "A = A.reshape(-1, 1)\n",
        "print(A.shape)\n",
        "print(A.T.shape)\n",
        "\n"
      ],
      "execution_count": null,
      "outputs": [
        {
          "output_type": "stream",
          "text": [
            "(5, 1)\n",
            "(1, 5)\n"
          ],
          "name": "stdout"
        }
      ]
    },
    {
      "cell_type": "code",
      "metadata": {
        "id": "dzUL92VrtBsk",
        "colab": {
          "base_uri": "https://localhost:8080/"
        },
        "outputId": "ee3d84a1-2bc9-4f0a-bbf8-b6b1a4cf66f0"
      },
      "source": [
        "import numpy as np\r\n",
        "#1\r\n",
        "A = np.random.rand(1000)\r\n",
        "print(A)\r\n"
      ],
      "execution_count": null,
      "outputs": [
        {
          "output_type": "stream",
          "text": [
            "[6.02911427e-01 2.21146392e-01 8.17566498e-01 3.03600241e-01\n",
            " 1.52682466e-01 1.40889398e-01 9.21318733e-01 5.54589224e-02\n",
            " 6.21808209e-01 1.43129279e-01 6.32689671e-02 2.09317260e-01\n",
            " 5.37429376e-01 1.84977187e-02 3.63482704e-01 9.58854510e-01\n",
            " 6.94319071e-01 1.32291659e-01 1.62937199e-01 5.52829574e-01\n",
            " 4.14317068e-01 2.11156578e-01 6.95998739e-01 5.61434996e-01\n",
            " 2.07772926e-01 5.61085742e-01 6.26251021e-01 6.48839822e-01\n",
            " 4.10241372e-01 7.78941212e-01 2.96274623e-01 1.72240665e-02\n",
            " 7.49363339e-01 6.07979785e-01 7.53700195e-01 6.95033771e-01\n",
            " 6.03203116e-01 6.70691128e-01 8.23736228e-01 8.92615577e-01\n",
            " 5.10466678e-01 3.13596209e-01 3.70637951e-01 9.03639116e-01\n",
            " 8.02426153e-01 3.99666671e-01 4.81389084e-01 4.74902312e-01\n",
            " 1.81220357e-01 4.18629164e-01 3.57151122e-01 1.23000719e-02\n",
            " 4.70776051e-01 5.66949020e-01 1.80378206e-01 8.87551593e-01\n",
            " 3.74530097e-01 1.12085952e-01 3.21091204e-01 8.05552093e-01\n",
            " 9.01875412e-01 3.02793761e-02 9.17695293e-02 5.74390474e-01\n",
            " 9.35779661e-01 4.45413390e-01 3.42186145e-01 7.07196117e-01\n",
            " 4.51213110e-01 5.37497111e-01 7.67787909e-01 2.61881402e-01\n",
            " 4.53418108e-01 9.63651417e-01 8.18126557e-02 2.77766842e-01\n",
            " 6.03533327e-01 1.20552203e-03 9.00917629e-01 9.42585009e-01\n",
            " 9.07936335e-01 8.43491319e-01 1.76413474e-01 3.37678898e-01\n",
            " 8.07964259e-01 8.76557329e-01 9.64967463e-01 6.71768277e-01\n",
            " 8.84622368e-01 2.80103075e-01 5.29745960e-02 7.27106982e-01\n",
            " 6.97555604e-01 2.17634828e-01 7.39342807e-01 5.54843391e-02\n",
            " 3.76363907e-01 2.21683197e-01 8.36106723e-01 7.51426396e-01\n",
            " 3.93043598e-01 2.85886604e-01 8.25131249e-01 8.39413545e-01\n",
            " 8.98555538e-01 3.69124728e-01 2.07280803e-01 7.85067570e-01\n",
            " 3.30256885e-01 2.07115741e-01 7.88377411e-02 2.95963947e-01\n",
            " 1.61278677e-01 9.79109212e-01 9.77098945e-01 7.36594807e-01\n",
            " 5.26043391e-03 9.24972085e-01 7.25497738e-01 2.31208642e-01\n",
            " 9.24705674e-01 2.18753861e-01 1.88202784e-01 7.48033175e-01\n",
            " 9.96722635e-01 8.68776244e-01 1.90685089e-01 8.53496810e-01\n",
            " 7.13948803e-02 7.33829598e-01 9.74905299e-01 4.84568652e-01\n",
            " 4.19953777e-01 2.34275893e-01 8.32880306e-02 4.12612904e-01\n",
            " 6.81976928e-01 6.55811544e-03 9.91255948e-01 7.14103240e-01\n",
            " 5.78328570e-01 3.05694272e-01 4.52689976e-01 9.76821677e-01\n",
            " 7.42818605e-01 1.50527376e-01 1.31508927e-01 5.18868854e-01\n",
            " 1.08585012e-01 4.32893006e-01 7.31945549e-01 9.22653905e-01\n",
            " 3.30346719e-01 4.45355173e-01 3.61128662e-01 5.58526157e-01\n",
            " 3.60728396e-01 3.44392268e-01 1.41172617e-01 3.58222258e-01\n",
            " 2.14656820e-01 8.24686586e-01 1.53094614e-02 1.76246348e-01\n",
            " 8.69482696e-01 5.30074214e-01 5.91150201e-01 9.68483901e-01\n",
            " 1.88013352e-02 9.56912983e-01 7.54311415e-01 2.26692652e-01\n",
            " 2.24674341e-01 7.30843074e-01 7.80134435e-01 5.03530859e-01\n",
            " 6.70688079e-01 4.41728322e-01 4.81222001e-01 7.41305930e-01\n",
            " 7.13122937e-01 6.21247590e-01 4.25671746e-01 1.28268869e-01\n",
            " 1.83405291e-01 3.95185960e-02 4.56744311e-01 9.66003772e-01\n",
            " 7.32841794e-01 3.77751586e-01 6.34830857e-01 6.20827152e-01\n",
            " 9.87843370e-01 7.80320320e-01 3.89251185e-02 2.12557555e-02\n",
            " 4.39947436e-01 9.23126169e-01 7.33330166e-01 1.21817088e-01\n",
            " 8.69905164e-01 6.39529540e-01 7.90541126e-01 5.44650686e-01\n",
            " 3.75561871e-01 7.23069957e-01 5.64803641e-01 5.71638759e-01\n",
            " 9.00795869e-01 8.54931945e-01 9.17562114e-01 3.52883234e-01\n",
            " 1.52912803e-01 6.00815802e-02 4.64213691e-01 5.09975854e-01\n",
            " 7.33255748e-01 2.47002830e-01 7.54191045e-01 7.27689468e-01\n",
            " 4.18605730e-01 5.91263279e-01 5.20490706e-01 5.98496341e-02\n",
            " 3.79303760e-01 5.60869648e-01 4.47320273e-01 7.54063894e-01\n",
            " 3.01321652e-01 2.42374286e-01 7.79406569e-02 9.24791901e-01\n",
            " 8.28560123e-01 6.50325988e-01 2.49359910e-01 8.06480599e-01\n",
            " 2.94979449e-01 4.11475169e-01 8.66883160e-01 1.58788752e-01\n",
            " 5.04998969e-01 6.75222807e-01 1.15522124e-02 4.63290715e-01\n",
            " 2.41716704e-01 6.71057445e-01 7.37298345e-02 3.36853139e-01\n",
            " 5.99196305e-01 6.98710047e-01 4.76179069e-01 7.36169851e-01\n",
            " 2.69529603e-01 3.97818812e-02 5.99161926e-01 6.54888650e-01\n",
            " 8.57705692e-01 8.81525633e-01 5.47000907e-01 5.79061184e-01\n",
            " 5.18836611e-01 6.42389694e-02 9.40113736e-01 2.86040298e-01\n",
            " 5.89304118e-01 8.09431433e-01 6.37108641e-01 6.20787282e-01\n",
            " 6.86508981e-01 8.78518765e-01 5.58880309e-01 7.10119215e-01\n",
            " 8.87845751e-01 6.26410009e-02 5.66803090e-01 6.88831888e-01\n",
            " 3.21209803e-01 1.96603738e-01 6.51922469e-01 5.78430510e-01\n",
            " 5.42532724e-01 6.93850134e-01 1.00673060e-01 7.07244006e-01\n",
            " 8.52939009e-01 3.01903060e-01 8.39950633e-01 4.25526378e-03\n",
            " 3.55902614e-01 4.33390737e-01 4.71203920e-01 8.72347379e-01\n",
            " 4.26973594e-01 3.68596194e-01 1.23928402e-01 9.57426523e-01\n",
            " 9.42319968e-01 7.99715129e-01 1.20933168e-01 4.47309054e-01\n",
            " 4.15211208e-01 9.95302740e-01 9.86794796e-01 5.42824385e-01\n",
            " 8.38650490e-02 5.39321090e-01 9.04487026e-01 3.51111059e-01\n",
            " 7.45814764e-01 3.15386641e-01 4.76821680e-01 6.47128735e-01\n",
            " 5.12979151e-01 3.62598128e-01 1.20491348e-01 1.22102149e-01\n",
            " 8.24048904e-01 9.18227485e-01 3.22517468e-01 9.19803757e-01\n",
            " 8.20470162e-01 8.91608440e-01 5.08422190e-02 3.16037950e-01\n",
            " 5.24720084e-01 7.60289082e-01 9.55194058e-01 9.22102260e-01\n",
            " 3.70578884e-01 4.48556646e-02 5.31070656e-01 1.27183178e-01\n",
            " 6.75353617e-01 3.12332171e-01 5.38123966e-01 9.34845668e-01\n",
            " 5.64286543e-01 8.06118223e-01 7.59448761e-01 8.54646751e-01\n",
            " 9.23767733e-01 5.08542797e-01 4.74708951e-01 7.47059784e-01\n",
            " 8.40910617e-01 8.95334731e-01 6.54850955e-01 6.53085117e-01\n",
            " 4.59947155e-01 9.35805299e-01 6.02253458e-01 1.85645934e-01\n",
            " 8.17557113e-01 4.24612721e-01 1.08487460e-01 9.56793397e-01\n",
            " 5.11073820e-01 3.84492109e-01 1.78470104e-03 6.52212796e-01\n",
            " 3.91870853e-01 8.91266721e-01 6.93157088e-01 7.10007701e-01\n",
            " 3.21548237e-01 6.16634215e-01 2.41001599e-01 9.76108412e-01\n",
            " 5.34528604e-02 2.38587989e-01 6.80686026e-01 8.96826146e-01\n",
            " 7.59191581e-01 1.31066846e-01 9.52839985e-01 7.63219572e-01\n",
            " 3.51189485e-01 3.12031352e-01 6.50846892e-01 9.51228779e-01\n",
            " 6.56361944e-02 4.14802448e-01 6.71424991e-01 7.24655304e-01\n",
            " 4.50689495e-01 4.36965646e-01 3.02170572e-01 3.47369773e-01\n",
            " 9.14243512e-01 5.26842009e-01 6.84354602e-01 8.08344346e-01\n",
            " 3.56780675e-01 1.35709475e-01 8.21190318e-01 5.23938712e-01\n",
            " 6.08677345e-01 7.43509381e-01 1.88681323e-01 8.17712737e-01\n",
            " 4.36598838e-01 1.85154557e-01 2.67790948e-02 1.23887253e-01\n",
            " 8.83979315e-01 8.22423488e-01 3.53467156e-01 3.30652295e-01\n",
            " 1.70274376e-01 6.79643160e-01 3.33249413e-01 3.59763435e-01\n",
            " 2.02393657e-01 7.39909883e-01 2.94210619e-01 1.32875955e-01\n",
            " 9.47888551e-01 4.90610170e-01 8.91892130e-01 4.96185023e-01\n",
            " 2.90082964e-01 5.05409273e-01 9.76216723e-01 7.61708494e-01\n",
            " 6.80864108e-01 8.86366642e-01 1.55590201e-01 1.69772561e-01\n",
            " 3.49107396e-03 4.85778487e-01 5.48526348e-01 6.08971697e-01\n",
            " 7.79965492e-01 2.32202125e-02 9.60710378e-01 4.98682486e-01\n",
            " 1.77089496e-02 2.84957186e-01 2.87372792e-01 8.72565660e-01\n",
            " 4.91571751e-01 9.98679154e-01 8.85702953e-01 9.38915521e-01\n",
            " 5.02832270e-01 6.29910098e-01 4.21730076e-01 2.31130173e-01\n",
            " 2.01625746e-01 5.86527036e-01 5.49605183e-01 1.28965424e-01\n",
            " 3.09704470e-01 6.64152082e-01 1.59586032e-01 9.37452720e-01\n",
            " 4.62753061e-01 4.88954041e-01 5.80393471e-01 1.50183034e-01\n",
            " 3.28817143e-01 3.49197675e-01 8.42971001e-01 9.85932582e-04\n",
            " 8.40020876e-01 8.88295581e-01 5.07588355e-01 2.29082999e-01\n",
            " 7.34424896e-01 8.64172224e-01 9.62299206e-01 4.08080948e-01\n",
            " 6.83932375e-01 9.65256849e-01 7.87194974e-01 9.50574447e-01\n",
            " 9.17524128e-01 5.55167961e-01 4.84055879e-02 1.79645840e-01\n",
            " 8.35669616e-01 1.44613626e-01 4.61061936e-01 8.60273116e-01\n",
            " 3.41572369e-01 2.86030145e-01 8.13645680e-01 6.60195795e-01\n",
            " 8.03766294e-01 8.01778603e-01 7.65801427e-01 8.75319485e-01\n",
            " 7.72422982e-01 5.56232776e-01 1.32471811e-02 3.93994524e-01\n",
            " 1.36180491e-01 5.66385934e-01 3.46077515e-01 3.22100467e-01\n",
            " 5.48694831e-01 3.58899435e-01 9.19243172e-01 9.42783629e-01\n",
            " 1.31515252e-01 8.11250709e-01 9.53230199e-02 9.13616739e-01\n",
            " 2.90766510e-01 5.26221495e-01 1.96793181e-02 2.20669890e-01\n",
            " 5.53275309e-01 7.77841946e-01 8.03582939e-01 4.28568058e-01\n",
            " 9.60342034e-01 8.80798363e-01 5.73225229e-01 1.92927003e-01\n",
            " 2.23505265e-01 8.44343316e-01 3.44648721e-01 8.99773602e-01\n",
            " 4.82926417e-01 4.25300284e-01 3.66054725e-01 1.29944403e-01\n",
            " 3.39562286e-01 7.45669372e-01 5.07748401e-02 8.09106295e-01\n",
            " 4.79282702e-01 7.46164439e-02 7.43997632e-01 3.41507009e-01\n",
            " 1.00785966e-01 1.78697350e-01 4.88312628e-01 4.50369764e-01\n",
            " 4.82059339e-01 8.01276108e-01 5.29190743e-01 4.06795267e-01\n",
            " 3.44026836e-01 4.98172161e-01 5.00335907e-01 1.62840887e-01\n",
            " 2.15890461e-01 3.65939219e-01 7.40556054e-02 9.36200820e-01\n",
            " 8.30101924e-01 8.22052307e-01 6.89840444e-01 1.31454348e-02\n",
            " 5.51884897e-02 9.43938840e-01 1.14588205e-01 1.82752011e-01\n",
            " 4.55906246e-01 6.85874675e-01 6.27979952e-01 4.27370161e-01\n",
            " 5.84427602e-01 3.14080913e-01 8.03157688e-01 1.97736685e-01\n",
            " 8.83057475e-01 3.34526807e-01 6.64661770e-01 4.37645713e-01\n",
            " 1.40775179e-01 6.95748792e-01 3.11098707e-01 2.43323000e-01\n",
            " 5.13700647e-01 8.21904054e-02 2.83480630e-01 5.89304716e-01\n",
            " 7.58681747e-01 3.29399922e-02 5.39774454e-01 7.86014885e-01\n",
            " 4.27495655e-01 3.42535703e-01 2.11172872e-01 4.52569850e-01\n",
            " 5.26324818e-01 8.83257687e-01 2.38223526e-01 3.81670386e-01\n",
            " 9.08802532e-01 1.71426324e-01 7.18153603e-01 3.41594404e-01\n",
            " 6.14410406e-02 1.86799436e-01 1.39050996e-01 3.66674690e-01\n",
            " 8.58650714e-01 8.48401906e-02 6.01000700e-01 5.10936136e-01\n",
            " 3.04549167e-01 5.53905374e-01 5.50994115e-01 5.10326554e-01\n",
            " 6.41437717e-01 5.15193315e-01 8.51951608e-01 9.10816627e-01\n",
            " 9.99192157e-01 1.61761788e-01 3.76678047e-01 5.56214125e-01\n",
            " 6.44337839e-01 4.74816732e-01 7.05675702e-01 4.18485865e-01\n",
            " 3.90438567e-01 5.05247030e-01 2.00776045e-01 8.32707453e-01\n",
            " 5.45908899e-01 3.13658110e-01 4.03077503e-01 8.35679203e-01\n",
            " 2.83159215e-01 5.68473433e-01 4.08595611e-01 5.05475248e-01\n",
            " 4.46051582e-01 5.70505907e-01 3.88466041e-01 6.34312521e-01\n",
            " 7.90516405e-01 3.15671064e-01 6.81279807e-01 5.53105347e-01\n",
            " 8.63137750e-01 8.94505328e-01 9.34823149e-01 2.49741537e-01\n",
            " 5.66285542e-01 6.20585238e-01 1.76340376e-01 1.80977486e-01\n",
            " 2.57841922e-01 5.14307305e-01 7.87453946e-01 9.99273623e-01\n",
            " 7.56028261e-01 8.88523576e-01 8.56410648e-01 7.70486936e-01\n",
            " 4.52855523e-01 5.55681829e-01 9.73075491e-01 1.38738001e-01\n",
            " 4.10976972e-01 1.51747415e-01 4.86640572e-01 4.20656806e-01\n",
            " 9.37431052e-01 3.24845548e-01 7.88490678e-01 4.39976959e-01\n",
            " 3.54861618e-01 2.32346184e-01 3.11904426e-01 8.08411752e-01\n",
            " 5.76204825e-02 6.45742820e-01 2.54277044e-01 2.80789873e-01\n",
            " 5.12211909e-01 2.56305754e-01 7.06895895e-01 5.93989325e-01\n",
            " 8.93023055e-01 3.21470322e-01 3.46021724e-01 7.65359245e-01\n",
            " 5.22742456e-01 6.74900046e-01 3.92509086e-01 4.96193921e-01\n",
            " 1.90553992e-01 5.67510438e-01 7.18591531e-01 1.42892536e-01\n",
            " 1.48597208e-01 7.26186804e-01 9.94654700e-01 4.09031288e-02\n",
            " 2.41858720e-01 1.46850335e-01 3.03132067e-01 6.39308699e-01\n",
            " 5.83284262e-01 9.19920861e-01 7.64305768e-01 5.35893567e-02\n",
            " 3.69926730e-01 4.94980454e-01 5.34873521e-02 5.95006483e-01\n",
            " 3.33744457e-02 9.54952252e-01 5.66680997e-01 7.96386914e-02\n",
            " 1.23004661e-01 9.03003209e-01 4.64082440e-01 6.82425499e-01\n",
            " 7.83159779e-01 2.48260872e-01 3.92615167e-02 4.93944740e-01\n",
            " 5.45202161e-01 2.15219077e-02 3.24574861e-01 1.13636527e-01\n",
            " 8.14275028e-03 9.85196346e-01 3.52678464e-02 5.26839245e-01\n",
            " 2.76079628e-03 1.55649969e-01 9.86570210e-01 7.91477496e-02\n",
            " 5.01972608e-01 3.79801074e-01 8.58029520e-01 7.13743228e-02\n",
            " 1.13124599e-01 3.52858442e-02 6.32490487e-02 1.11823521e-01\n",
            " 4.94833800e-01 1.89932126e-01 9.86000153e-01 4.39261898e-02\n",
            " 5.95605599e-01 7.53532234e-02 2.16215825e-01 5.37824395e-01\n",
            " 5.90616429e-01 3.42375832e-02 5.99292632e-01 9.80977292e-01\n",
            " 3.36623884e-01 2.61110173e-01 5.53243566e-01 4.96098240e-01\n",
            " 2.64432909e-02 7.40234096e-01 3.25765437e-01 2.43680835e-01\n",
            " 3.68872286e-01 9.63166631e-01 1.69956823e-02 2.63982680e-01\n",
            " 3.35371198e-02 3.69421251e-02 2.13284328e-01 1.97456273e-01\n",
            " 9.87785584e-01 8.41319626e-01 8.25744093e-04 5.61893805e-01\n",
            " 4.09580152e-01 5.49685748e-01 4.75096385e-01 5.88986004e-02\n",
            " 1.44563359e-01 1.99165015e-01 3.47871182e-01 5.31721819e-01\n",
            " 1.94663917e-01 5.73278404e-01 4.19524929e-01 7.87366010e-01\n",
            " 5.86015509e-01 6.61869430e-01 1.43715976e-02 5.19965610e-01\n",
            " 1.99362228e-01 4.19705309e-01 9.87174067e-01 8.82176250e-01\n",
            " 2.22245528e-02 7.99786057e-01 1.09060929e-02 7.29852527e-01\n",
            " 2.52357155e-01 8.99867463e-01 4.16920553e-01 3.06410664e-02\n",
            " 7.73523291e-01 5.39437313e-01 7.27380305e-01 2.70977040e-01\n",
            " 8.96580268e-01 3.52090342e-01 9.49233524e-01 3.96654212e-01\n",
            " 1.66683074e-01 9.72132785e-01 6.54289680e-01 7.77813898e-01\n",
            " 3.57409477e-01 9.90471492e-01 5.79968450e-01 2.83676969e-01\n",
            " 9.99194822e-01 4.96849977e-01 1.07633752e-01 2.95241433e-01\n",
            " 4.27356285e-02 5.16315659e-01 8.34958580e-01 9.79384348e-01\n",
            " 8.26553067e-01 6.01646059e-02 2.12169798e-02 9.84049504e-01\n",
            " 9.33890419e-01 6.75560159e-01 8.88337225e-01 3.63289431e-01\n",
            " 2.72375893e-01 2.65675986e-01 8.45996787e-01 6.43712135e-01\n",
            " 8.45597868e-01 5.20309266e-01 5.62765351e-01 2.48967976e-01\n",
            " 8.12384216e-01 8.47938512e-01 2.32758702e-01 8.10884706e-01\n",
            " 1.96171556e-01 1.41709121e-02 6.41866114e-01 7.72937017e-02\n",
            " 2.59181621e-01 3.17668510e-01 9.10141951e-02 3.04368717e-01\n",
            " 3.95014841e-01 4.16160146e-01 9.91272401e-01 6.25523003e-01\n",
            " 1.11937827e-01 5.54791352e-01 2.07002927e-02 7.10329629e-01\n",
            " 5.04881097e-01 5.99341420e-01 2.86197057e-01 1.91384260e-02\n",
            " 6.54284142e-01 5.22721763e-01 9.93812776e-01 4.39402495e-01\n",
            " 4.74006032e-01 7.36589593e-01 9.08258897e-01 7.98511488e-01\n",
            " 2.73233526e-01 6.86312993e-01 3.60479556e-01 7.67985457e-02\n",
            " 8.62661385e-01 7.63720363e-01 4.38319400e-01 6.01901662e-01\n",
            " 4.74877373e-01 6.97481967e-01 6.05605248e-01 5.00198187e-01\n",
            " 2.66536575e-01 1.09009357e-01 6.46034669e-01 1.22825029e-01\n",
            " 7.25691565e-01 1.03573332e-01 6.10746665e-01 6.05009970e-01\n",
            " 5.33256733e-01 5.94008151e-01 8.82117067e-01 5.45461682e-01\n",
            " 1.14141089e-01 4.42431079e-01 8.64838368e-01 3.72705105e-01\n",
            " 1.89238557e-01 9.63934305e-01 5.30753802e-02 9.05026384e-01\n",
            " 1.44631957e-01 7.40913403e-01 3.76585246e-01 6.75893897e-01\n",
            " 4.99402693e-01 4.92518070e-01 7.50701464e-01 9.25318968e-01\n",
            " 2.48510600e-01 2.78026616e-01 6.03625769e-01 7.83916647e-01\n",
            " 3.01192792e-01 5.50517458e-01 7.59873272e-01 4.36592413e-01\n",
            " 8.60450517e-01 7.25226154e-01 5.76419223e-01 1.34824963e-01\n",
            " 8.28648946e-01 8.34871210e-01 3.55925621e-01 9.30814018e-01\n",
            " 5.72469673e-01 4.65655695e-01 8.49409968e-01 5.49236011e-02\n",
            " 7.47320217e-01 5.34832127e-01 5.94391303e-01 1.27858299e-01\n",
            " 4.71422858e-01 4.58309297e-01 3.51004648e-01 7.99128994e-01\n",
            " 7.09781927e-01 8.49092005e-01 7.81805271e-01 2.47445709e-01\n",
            " 9.54683938e-01 1.48336812e-01 5.63006658e-01 9.75571288e-01\n",
            " 6.95824722e-01 3.15184824e-01 2.93170048e-01 8.12821094e-01\n",
            " 1.11167921e-01 3.81639223e-01 9.65668529e-02 3.17440162e-01\n",
            " 8.00453566e-01 1.38515382e-01 8.96964470e-01 5.00542050e-01\n",
            " 4.24070117e-01 9.45751309e-01 1.04367979e-01 7.02045698e-02\n",
            " 2.93571761e-01 1.34898984e-01 2.61458776e-01 9.77744648e-01\n",
            " 4.37474715e-01 7.29978556e-01 6.60312373e-01 5.54727379e-01\n",
            " 6.64201425e-01 2.68471109e-02 2.97664488e-01 1.86187957e-01\n",
            " 1.46217643e-01 1.54756944e-01 4.90606570e-01 5.92788427e-01\n",
            " 1.70772930e-01 4.25988661e-01 5.07975126e-01 1.97208981e-01\n",
            " 7.05969584e-01 3.71638232e-01 8.79493040e-02 3.44246895e-01\n",
            " 2.28538574e-01 6.68367402e-01 2.64313884e-01 8.13076479e-01\n",
            " 4.18041322e-01 9.49375080e-01 5.42030820e-01 3.75730694e-01\n",
            " 4.99671351e-02 1.78570709e-01 2.60787421e-01 5.58389779e-01]\n"
          ],
          "name": "stdout"
        }
      ]
    },
    {
      "cell_type": "code",
      "metadata": {
        "colab": {
          "base_uri": "https://localhost:8080/"
        },
        "id": "6_0Km_T2z8j-",
        "outputId": "8b94025a-de9e-4fc8-e9a5-f266562231a6"
      },
      "source": [
        "#2\r\n",
        "print(A.shape)\r\n",
        "print(A.dtype)"
      ],
      "execution_count": null,
      "outputs": [
        {
          "output_type": "stream",
          "text": [
            "(1000,)\n",
            "float64\n"
          ],
          "name": "stdout"
        }
      ]
    },
    {
      "cell_type": "code",
      "metadata": {
        "colab": {
          "base_uri": "https://localhost:8080/"
        },
        "id": "sl7Tbdgoz8x1",
        "outputId": "86b63651-d158-4fc4-92b7-74234ff42d33"
      },
      "source": [
        "#3\r\n",
        "reshapeA= A.reshape(1,1000)\r\n",
        "print (reshapeA)\r\n",
        "print (reshapeA.shape)"
      ],
      "execution_count": null,
      "outputs": [
        {
          "output_type": "stream",
          "text": [
            "[[6.02911427e-01 2.21146392e-01 8.17566498e-01 3.03600241e-01\n",
            "  1.52682466e-01 1.40889398e-01 9.21318733e-01 5.54589224e-02\n",
            "  6.21808209e-01 1.43129279e-01 6.32689671e-02 2.09317260e-01\n",
            "  5.37429376e-01 1.84977187e-02 3.63482704e-01 9.58854510e-01\n",
            "  6.94319071e-01 1.32291659e-01 1.62937199e-01 5.52829574e-01\n",
            "  4.14317068e-01 2.11156578e-01 6.95998739e-01 5.61434996e-01\n",
            "  2.07772926e-01 5.61085742e-01 6.26251021e-01 6.48839822e-01\n",
            "  4.10241372e-01 7.78941212e-01 2.96274623e-01 1.72240665e-02\n",
            "  7.49363339e-01 6.07979785e-01 7.53700195e-01 6.95033771e-01\n",
            "  6.03203116e-01 6.70691128e-01 8.23736228e-01 8.92615577e-01\n",
            "  5.10466678e-01 3.13596209e-01 3.70637951e-01 9.03639116e-01\n",
            "  8.02426153e-01 3.99666671e-01 4.81389084e-01 4.74902312e-01\n",
            "  1.81220357e-01 4.18629164e-01 3.57151122e-01 1.23000719e-02\n",
            "  4.70776051e-01 5.66949020e-01 1.80378206e-01 8.87551593e-01\n",
            "  3.74530097e-01 1.12085952e-01 3.21091204e-01 8.05552093e-01\n",
            "  9.01875412e-01 3.02793761e-02 9.17695293e-02 5.74390474e-01\n",
            "  9.35779661e-01 4.45413390e-01 3.42186145e-01 7.07196117e-01\n",
            "  4.51213110e-01 5.37497111e-01 7.67787909e-01 2.61881402e-01\n",
            "  4.53418108e-01 9.63651417e-01 8.18126557e-02 2.77766842e-01\n",
            "  6.03533327e-01 1.20552203e-03 9.00917629e-01 9.42585009e-01\n",
            "  9.07936335e-01 8.43491319e-01 1.76413474e-01 3.37678898e-01\n",
            "  8.07964259e-01 8.76557329e-01 9.64967463e-01 6.71768277e-01\n",
            "  8.84622368e-01 2.80103075e-01 5.29745960e-02 7.27106982e-01\n",
            "  6.97555604e-01 2.17634828e-01 7.39342807e-01 5.54843391e-02\n",
            "  3.76363907e-01 2.21683197e-01 8.36106723e-01 7.51426396e-01\n",
            "  3.93043598e-01 2.85886604e-01 8.25131249e-01 8.39413545e-01\n",
            "  8.98555538e-01 3.69124728e-01 2.07280803e-01 7.85067570e-01\n",
            "  3.30256885e-01 2.07115741e-01 7.88377411e-02 2.95963947e-01\n",
            "  1.61278677e-01 9.79109212e-01 9.77098945e-01 7.36594807e-01\n",
            "  5.26043391e-03 9.24972085e-01 7.25497738e-01 2.31208642e-01\n",
            "  9.24705674e-01 2.18753861e-01 1.88202784e-01 7.48033175e-01\n",
            "  9.96722635e-01 8.68776244e-01 1.90685089e-01 8.53496810e-01\n",
            "  7.13948803e-02 7.33829598e-01 9.74905299e-01 4.84568652e-01\n",
            "  4.19953777e-01 2.34275893e-01 8.32880306e-02 4.12612904e-01\n",
            "  6.81976928e-01 6.55811544e-03 9.91255948e-01 7.14103240e-01\n",
            "  5.78328570e-01 3.05694272e-01 4.52689976e-01 9.76821677e-01\n",
            "  7.42818605e-01 1.50527376e-01 1.31508927e-01 5.18868854e-01\n",
            "  1.08585012e-01 4.32893006e-01 7.31945549e-01 9.22653905e-01\n",
            "  3.30346719e-01 4.45355173e-01 3.61128662e-01 5.58526157e-01\n",
            "  3.60728396e-01 3.44392268e-01 1.41172617e-01 3.58222258e-01\n",
            "  2.14656820e-01 8.24686586e-01 1.53094614e-02 1.76246348e-01\n",
            "  8.69482696e-01 5.30074214e-01 5.91150201e-01 9.68483901e-01\n",
            "  1.88013352e-02 9.56912983e-01 7.54311415e-01 2.26692652e-01\n",
            "  2.24674341e-01 7.30843074e-01 7.80134435e-01 5.03530859e-01\n",
            "  6.70688079e-01 4.41728322e-01 4.81222001e-01 7.41305930e-01\n",
            "  7.13122937e-01 6.21247590e-01 4.25671746e-01 1.28268869e-01\n",
            "  1.83405291e-01 3.95185960e-02 4.56744311e-01 9.66003772e-01\n",
            "  7.32841794e-01 3.77751586e-01 6.34830857e-01 6.20827152e-01\n",
            "  9.87843370e-01 7.80320320e-01 3.89251185e-02 2.12557555e-02\n",
            "  4.39947436e-01 9.23126169e-01 7.33330166e-01 1.21817088e-01\n",
            "  8.69905164e-01 6.39529540e-01 7.90541126e-01 5.44650686e-01\n",
            "  3.75561871e-01 7.23069957e-01 5.64803641e-01 5.71638759e-01\n",
            "  9.00795869e-01 8.54931945e-01 9.17562114e-01 3.52883234e-01\n",
            "  1.52912803e-01 6.00815802e-02 4.64213691e-01 5.09975854e-01\n",
            "  7.33255748e-01 2.47002830e-01 7.54191045e-01 7.27689468e-01\n",
            "  4.18605730e-01 5.91263279e-01 5.20490706e-01 5.98496341e-02\n",
            "  3.79303760e-01 5.60869648e-01 4.47320273e-01 7.54063894e-01\n",
            "  3.01321652e-01 2.42374286e-01 7.79406569e-02 9.24791901e-01\n",
            "  8.28560123e-01 6.50325988e-01 2.49359910e-01 8.06480599e-01\n",
            "  2.94979449e-01 4.11475169e-01 8.66883160e-01 1.58788752e-01\n",
            "  5.04998969e-01 6.75222807e-01 1.15522124e-02 4.63290715e-01\n",
            "  2.41716704e-01 6.71057445e-01 7.37298345e-02 3.36853139e-01\n",
            "  5.99196305e-01 6.98710047e-01 4.76179069e-01 7.36169851e-01\n",
            "  2.69529603e-01 3.97818812e-02 5.99161926e-01 6.54888650e-01\n",
            "  8.57705692e-01 8.81525633e-01 5.47000907e-01 5.79061184e-01\n",
            "  5.18836611e-01 6.42389694e-02 9.40113736e-01 2.86040298e-01\n",
            "  5.89304118e-01 8.09431433e-01 6.37108641e-01 6.20787282e-01\n",
            "  6.86508981e-01 8.78518765e-01 5.58880309e-01 7.10119215e-01\n",
            "  8.87845751e-01 6.26410009e-02 5.66803090e-01 6.88831888e-01\n",
            "  3.21209803e-01 1.96603738e-01 6.51922469e-01 5.78430510e-01\n",
            "  5.42532724e-01 6.93850134e-01 1.00673060e-01 7.07244006e-01\n",
            "  8.52939009e-01 3.01903060e-01 8.39950633e-01 4.25526378e-03\n",
            "  3.55902614e-01 4.33390737e-01 4.71203920e-01 8.72347379e-01\n",
            "  4.26973594e-01 3.68596194e-01 1.23928402e-01 9.57426523e-01\n",
            "  9.42319968e-01 7.99715129e-01 1.20933168e-01 4.47309054e-01\n",
            "  4.15211208e-01 9.95302740e-01 9.86794796e-01 5.42824385e-01\n",
            "  8.38650490e-02 5.39321090e-01 9.04487026e-01 3.51111059e-01\n",
            "  7.45814764e-01 3.15386641e-01 4.76821680e-01 6.47128735e-01\n",
            "  5.12979151e-01 3.62598128e-01 1.20491348e-01 1.22102149e-01\n",
            "  8.24048904e-01 9.18227485e-01 3.22517468e-01 9.19803757e-01\n",
            "  8.20470162e-01 8.91608440e-01 5.08422190e-02 3.16037950e-01\n",
            "  5.24720084e-01 7.60289082e-01 9.55194058e-01 9.22102260e-01\n",
            "  3.70578884e-01 4.48556646e-02 5.31070656e-01 1.27183178e-01\n",
            "  6.75353617e-01 3.12332171e-01 5.38123966e-01 9.34845668e-01\n",
            "  5.64286543e-01 8.06118223e-01 7.59448761e-01 8.54646751e-01\n",
            "  9.23767733e-01 5.08542797e-01 4.74708951e-01 7.47059784e-01\n",
            "  8.40910617e-01 8.95334731e-01 6.54850955e-01 6.53085117e-01\n",
            "  4.59947155e-01 9.35805299e-01 6.02253458e-01 1.85645934e-01\n",
            "  8.17557113e-01 4.24612721e-01 1.08487460e-01 9.56793397e-01\n",
            "  5.11073820e-01 3.84492109e-01 1.78470104e-03 6.52212796e-01\n",
            "  3.91870853e-01 8.91266721e-01 6.93157088e-01 7.10007701e-01\n",
            "  3.21548237e-01 6.16634215e-01 2.41001599e-01 9.76108412e-01\n",
            "  5.34528604e-02 2.38587989e-01 6.80686026e-01 8.96826146e-01\n",
            "  7.59191581e-01 1.31066846e-01 9.52839985e-01 7.63219572e-01\n",
            "  3.51189485e-01 3.12031352e-01 6.50846892e-01 9.51228779e-01\n",
            "  6.56361944e-02 4.14802448e-01 6.71424991e-01 7.24655304e-01\n",
            "  4.50689495e-01 4.36965646e-01 3.02170572e-01 3.47369773e-01\n",
            "  9.14243512e-01 5.26842009e-01 6.84354602e-01 8.08344346e-01\n",
            "  3.56780675e-01 1.35709475e-01 8.21190318e-01 5.23938712e-01\n",
            "  6.08677345e-01 7.43509381e-01 1.88681323e-01 8.17712737e-01\n",
            "  4.36598838e-01 1.85154557e-01 2.67790948e-02 1.23887253e-01\n",
            "  8.83979315e-01 8.22423488e-01 3.53467156e-01 3.30652295e-01\n",
            "  1.70274376e-01 6.79643160e-01 3.33249413e-01 3.59763435e-01\n",
            "  2.02393657e-01 7.39909883e-01 2.94210619e-01 1.32875955e-01\n",
            "  9.47888551e-01 4.90610170e-01 8.91892130e-01 4.96185023e-01\n",
            "  2.90082964e-01 5.05409273e-01 9.76216723e-01 7.61708494e-01\n",
            "  6.80864108e-01 8.86366642e-01 1.55590201e-01 1.69772561e-01\n",
            "  3.49107396e-03 4.85778487e-01 5.48526348e-01 6.08971697e-01\n",
            "  7.79965492e-01 2.32202125e-02 9.60710378e-01 4.98682486e-01\n",
            "  1.77089496e-02 2.84957186e-01 2.87372792e-01 8.72565660e-01\n",
            "  4.91571751e-01 9.98679154e-01 8.85702953e-01 9.38915521e-01\n",
            "  5.02832270e-01 6.29910098e-01 4.21730076e-01 2.31130173e-01\n",
            "  2.01625746e-01 5.86527036e-01 5.49605183e-01 1.28965424e-01\n",
            "  3.09704470e-01 6.64152082e-01 1.59586032e-01 9.37452720e-01\n",
            "  4.62753061e-01 4.88954041e-01 5.80393471e-01 1.50183034e-01\n",
            "  3.28817143e-01 3.49197675e-01 8.42971001e-01 9.85932582e-04\n",
            "  8.40020876e-01 8.88295581e-01 5.07588355e-01 2.29082999e-01\n",
            "  7.34424896e-01 8.64172224e-01 9.62299206e-01 4.08080948e-01\n",
            "  6.83932375e-01 9.65256849e-01 7.87194974e-01 9.50574447e-01\n",
            "  9.17524128e-01 5.55167961e-01 4.84055879e-02 1.79645840e-01\n",
            "  8.35669616e-01 1.44613626e-01 4.61061936e-01 8.60273116e-01\n",
            "  3.41572369e-01 2.86030145e-01 8.13645680e-01 6.60195795e-01\n",
            "  8.03766294e-01 8.01778603e-01 7.65801427e-01 8.75319485e-01\n",
            "  7.72422982e-01 5.56232776e-01 1.32471811e-02 3.93994524e-01\n",
            "  1.36180491e-01 5.66385934e-01 3.46077515e-01 3.22100467e-01\n",
            "  5.48694831e-01 3.58899435e-01 9.19243172e-01 9.42783629e-01\n",
            "  1.31515252e-01 8.11250709e-01 9.53230199e-02 9.13616739e-01\n",
            "  2.90766510e-01 5.26221495e-01 1.96793181e-02 2.20669890e-01\n",
            "  5.53275309e-01 7.77841946e-01 8.03582939e-01 4.28568058e-01\n",
            "  9.60342034e-01 8.80798363e-01 5.73225229e-01 1.92927003e-01\n",
            "  2.23505265e-01 8.44343316e-01 3.44648721e-01 8.99773602e-01\n",
            "  4.82926417e-01 4.25300284e-01 3.66054725e-01 1.29944403e-01\n",
            "  3.39562286e-01 7.45669372e-01 5.07748401e-02 8.09106295e-01\n",
            "  4.79282702e-01 7.46164439e-02 7.43997632e-01 3.41507009e-01\n",
            "  1.00785966e-01 1.78697350e-01 4.88312628e-01 4.50369764e-01\n",
            "  4.82059339e-01 8.01276108e-01 5.29190743e-01 4.06795267e-01\n",
            "  3.44026836e-01 4.98172161e-01 5.00335907e-01 1.62840887e-01\n",
            "  2.15890461e-01 3.65939219e-01 7.40556054e-02 9.36200820e-01\n",
            "  8.30101924e-01 8.22052307e-01 6.89840444e-01 1.31454348e-02\n",
            "  5.51884897e-02 9.43938840e-01 1.14588205e-01 1.82752011e-01\n",
            "  4.55906246e-01 6.85874675e-01 6.27979952e-01 4.27370161e-01\n",
            "  5.84427602e-01 3.14080913e-01 8.03157688e-01 1.97736685e-01\n",
            "  8.83057475e-01 3.34526807e-01 6.64661770e-01 4.37645713e-01\n",
            "  1.40775179e-01 6.95748792e-01 3.11098707e-01 2.43323000e-01\n",
            "  5.13700647e-01 8.21904054e-02 2.83480630e-01 5.89304716e-01\n",
            "  7.58681747e-01 3.29399922e-02 5.39774454e-01 7.86014885e-01\n",
            "  4.27495655e-01 3.42535703e-01 2.11172872e-01 4.52569850e-01\n",
            "  5.26324818e-01 8.83257687e-01 2.38223526e-01 3.81670386e-01\n",
            "  9.08802532e-01 1.71426324e-01 7.18153603e-01 3.41594404e-01\n",
            "  6.14410406e-02 1.86799436e-01 1.39050996e-01 3.66674690e-01\n",
            "  8.58650714e-01 8.48401906e-02 6.01000700e-01 5.10936136e-01\n",
            "  3.04549167e-01 5.53905374e-01 5.50994115e-01 5.10326554e-01\n",
            "  6.41437717e-01 5.15193315e-01 8.51951608e-01 9.10816627e-01\n",
            "  9.99192157e-01 1.61761788e-01 3.76678047e-01 5.56214125e-01\n",
            "  6.44337839e-01 4.74816732e-01 7.05675702e-01 4.18485865e-01\n",
            "  3.90438567e-01 5.05247030e-01 2.00776045e-01 8.32707453e-01\n",
            "  5.45908899e-01 3.13658110e-01 4.03077503e-01 8.35679203e-01\n",
            "  2.83159215e-01 5.68473433e-01 4.08595611e-01 5.05475248e-01\n",
            "  4.46051582e-01 5.70505907e-01 3.88466041e-01 6.34312521e-01\n",
            "  7.90516405e-01 3.15671064e-01 6.81279807e-01 5.53105347e-01\n",
            "  8.63137750e-01 8.94505328e-01 9.34823149e-01 2.49741537e-01\n",
            "  5.66285542e-01 6.20585238e-01 1.76340376e-01 1.80977486e-01\n",
            "  2.57841922e-01 5.14307305e-01 7.87453946e-01 9.99273623e-01\n",
            "  7.56028261e-01 8.88523576e-01 8.56410648e-01 7.70486936e-01\n",
            "  4.52855523e-01 5.55681829e-01 9.73075491e-01 1.38738001e-01\n",
            "  4.10976972e-01 1.51747415e-01 4.86640572e-01 4.20656806e-01\n",
            "  9.37431052e-01 3.24845548e-01 7.88490678e-01 4.39976959e-01\n",
            "  3.54861618e-01 2.32346184e-01 3.11904426e-01 8.08411752e-01\n",
            "  5.76204825e-02 6.45742820e-01 2.54277044e-01 2.80789873e-01\n",
            "  5.12211909e-01 2.56305754e-01 7.06895895e-01 5.93989325e-01\n",
            "  8.93023055e-01 3.21470322e-01 3.46021724e-01 7.65359245e-01\n",
            "  5.22742456e-01 6.74900046e-01 3.92509086e-01 4.96193921e-01\n",
            "  1.90553992e-01 5.67510438e-01 7.18591531e-01 1.42892536e-01\n",
            "  1.48597208e-01 7.26186804e-01 9.94654700e-01 4.09031288e-02\n",
            "  2.41858720e-01 1.46850335e-01 3.03132067e-01 6.39308699e-01\n",
            "  5.83284262e-01 9.19920861e-01 7.64305768e-01 5.35893567e-02\n",
            "  3.69926730e-01 4.94980454e-01 5.34873521e-02 5.95006483e-01\n",
            "  3.33744457e-02 9.54952252e-01 5.66680997e-01 7.96386914e-02\n",
            "  1.23004661e-01 9.03003209e-01 4.64082440e-01 6.82425499e-01\n",
            "  7.83159779e-01 2.48260872e-01 3.92615167e-02 4.93944740e-01\n",
            "  5.45202161e-01 2.15219077e-02 3.24574861e-01 1.13636527e-01\n",
            "  8.14275028e-03 9.85196346e-01 3.52678464e-02 5.26839245e-01\n",
            "  2.76079628e-03 1.55649969e-01 9.86570210e-01 7.91477496e-02\n",
            "  5.01972608e-01 3.79801074e-01 8.58029520e-01 7.13743228e-02\n",
            "  1.13124599e-01 3.52858442e-02 6.32490487e-02 1.11823521e-01\n",
            "  4.94833800e-01 1.89932126e-01 9.86000153e-01 4.39261898e-02\n",
            "  5.95605599e-01 7.53532234e-02 2.16215825e-01 5.37824395e-01\n",
            "  5.90616429e-01 3.42375832e-02 5.99292632e-01 9.80977292e-01\n",
            "  3.36623884e-01 2.61110173e-01 5.53243566e-01 4.96098240e-01\n",
            "  2.64432909e-02 7.40234096e-01 3.25765437e-01 2.43680835e-01\n",
            "  3.68872286e-01 9.63166631e-01 1.69956823e-02 2.63982680e-01\n",
            "  3.35371198e-02 3.69421251e-02 2.13284328e-01 1.97456273e-01\n",
            "  9.87785584e-01 8.41319626e-01 8.25744093e-04 5.61893805e-01\n",
            "  4.09580152e-01 5.49685748e-01 4.75096385e-01 5.88986004e-02\n",
            "  1.44563359e-01 1.99165015e-01 3.47871182e-01 5.31721819e-01\n",
            "  1.94663917e-01 5.73278404e-01 4.19524929e-01 7.87366010e-01\n",
            "  5.86015509e-01 6.61869430e-01 1.43715976e-02 5.19965610e-01\n",
            "  1.99362228e-01 4.19705309e-01 9.87174067e-01 8.82176250e-01\n",
            "  2.22245528e-02 7.99786057e-01 1.09060929e-02 7.29852527e-01\n",
            "  2.52357155e-01 8.99867463e-01 4.16920553e-01 3.06410664e-02\n",
            "  7.73523291e-01 5.39437313e-01 7.27380305e-01 2.70977040e-01\n",
            "  8.96580268e-01 3.52090342e-01 9.49233524e-01 3.96654212e-01\n",
            "  1.66683074e-01 9.72132785e-01 6.54289680e-01 7.77813898e-01\n",
            "  3.57409477e-01 9.90471492e-01 5.79968450e-01 2.83676969e-01\n",
            "  9.99194822e-01 4.96849977e-01 1.07633752e-01 2.95241433e-01\n",
            "  4.27356285e-02 5.16315659e-01 8.34958580e-01 9.79384348e-01\n",
            "  8.26553067e-01 6.01646059e-02 2.12169798e-02 9.84049504e-01\n",
            "  9.33890419e-01 6.75560159e-01 8.88337225e-01 3.63289431e-01\n",
            "  2.72375893e-01 2.65675986e-01 8.45996787e-01 6.43712135e-01\n",
            "  8.45597868e-01 5.20309266e-01 5.62765351e-01 2.48967976e-01\n",
            "  8.12384216e-01 8.47938512e-01 2.32758702e-01 8.10884706e-01\n",
            "  1.96171556e-01 1.41709121e-02 6.41866114e-01 7.72937017e-02\n",
            "  2.59181621e-01 3.17668510e-01 9.10141951e-02 3.04368717e-01\n",
            "  3.95014841e-01 4.16160146e-01 9.91272401e-01 6.25523003e-01\n",
            "  1.11937827e-01 5.54791352e-01 2.07002927e-02 7.10329629e-01\n",
            "  5.04881097e-01 5.99341420e-01 2.86197057e-01 1.91384260e-02\n",
            "  6.54284142e-01 5.22721763e-01 9.93812776e-01 4.39402495e-01\n",
            "  4.74006032e-01 7.36589593e-01 9.08258897e-01 7.98511488e-01\n",
            "  2.73233526e-01 6.86312993e-01 3.60479556e-01 7.67985457e-02\n",
            "  8.62661385e-01 7.63720363e-01 4.38319400e-01 6.01901662e-01\n",
            "  4.74877373e-01 6.97481967e-01 6.05605248e-01 5.00198187e-01\n",
            "  2.66536575e-01 1.09009357e-01 6.46034669e-01 1.22825029e-01\n",
            "  7.25691565e-01 1.03573332e-01 6.10746665e-01 6.05009970e-01\n",
            "  5.33256733e-01 5.94008151e-01 8.82117067e-01 5.45461682e-01\n",
            "  1.14141089e-01 4.42431079e-01 8.64838368e-01 3.72705105e-01\n",
            "  1.89238557e-01 9.63934305e-01 5.30753802e-02 9.05026384e-01\n",
            "  1.44631957e-01 7.40913403e-01 3.76585246e-01 6.75893897e-01\n",
            "  4.99402693e-01 4.92518070e-01 7.50701464e-01 9.25318968e-01\n",
            "  2.48510600e-01 2.78026616e-01 6.03625769e-01 7.83916647e-01\n",
            "  3.01192792e-01 5.50517458e-01 7.59873272e-01 4.36592413e-01\n",
            "  8.60450517e-01 7.25226154e-01 5.76419223e-01 1.34824963e-01\n",
            "  8.28648946e-01 8.34871210e-01 3.55925621e-01 9.30814018e-01\n",
            "  5.72469673e-01 4.65655695e-01 8.49409968e-01 5.49236011e-02\n",
            "  7.47320217e-01 5.34832127e-01 5.94391303e-01 1.27858299e-01\n",
            "  4.71422858e-01 4.58309297e-01 3.51004648e-01 7.99128994e-01\n",
            "  7.09781927e-01 8.49092005e-01 7.81805271e-01 2.47445709e-01\n",
            "  9.54683938e-01 1.48336812e-01 5.63006658e-01 9.75571288e-01\n",
            "  6.95824722e-01 3.15184824e-01 2.93170048e-01 8.12821094e-01\n",
            "  1.11167921e-01 3.81639223e-01 9.65668529e-02 3.17440162e-01\n",
            "  8.00453566e-01 1.38515382e-01 8.96964470e-01 5.00542050e-01\n",
            "  4.24070117e-01 9.45751309e-01 1.04367979e-01 7.02045698e-02\n",
            "  2.93571761e-01 1.34898984e-01 2.61458776e-01 9.77744648e-01\n",
            "  4.37474715e-01 7.29978556e-01 6.60312373e-01 5.54727379e-01\n",
            "  6.64201425e-01 2.68471109e-02 2.97664488e-01 1.86187957e-01\n",
            "  1.46217643e-01 1.54756944e-01 4.90606570e-01 5.92788427e-01\n",
            "  1.70772930e-01 4.25988661e-01 5.07975126e-01 1.97208981e-01\n",
            "  7.05969584e-01 3.71638232e-01 8.79493040e-02 3.44246895e-01\n",
            "  2.28538574e-01 6.68367402e-01 2.64313884e-01 8.13076479e-01\n",
            "  4.18041322e-01 9.49375080e-01 5.42030820e-01 3.75730694e-01\n",
            "  4.99671351e-02 1.78570709e-01 2.60787421e-01 5.58389779e-01]]\n",
            "(1, 1000)\n"
          ],
          "name": "stdout"
        }
      ]
    },
    {
      "cell_type": "code",
      "metadata": {
        "colab": {
          "base_uri": "https://localhost:8080/"
        },
        "id": "5dIVJ2dMz9CP",
        "outputId": "b0e5d45e-e86c-44d7-c95f-d9bda86975e6"
      },
      "source": [
        "#4\r\n",
        "A = A.T\r\n",
        "print(A.shape)\r\n"
      ],
      "execution_count": null,
      "outputs": [
        {
          "output_type": "stream",
          "text": [
            "(1000,)\n"
          ],
          "name": "stdout"
        }
      ]
    },
    {
      "cell_type": "code",
      "metadata": {
        "colab": {
          "base_uri": "https://localhost:8080/"
        },
        "id": "Uae8Ir1Sz9QZ",
        "outputId": "46f5a01e-0d5d-45f4-c065-5cd9c5b713e4"
      },
      "source": [
        "#5\r\n",
        "B=np.where(A>=0.5,1,0)\r\n",
        "print(B)\r\n"
      ],
      "execution_count": null,
      "outputs": [
        {
          "output_type": "stream",
          "text": [
            "check this out!!!\n",
            "[1 0 1 0 0 0 1 0 1 0 0 0 1 0 0 1 1 0 0 1 0 0 1 1 0 1 1 1 0 1 0 0 1 1 1 1 1\n",
            " 1 1 1 1 0 0 1 1 0 0 0 0 0 0 0 0 1 0 1 0 0 0 1 1 0 0 1 1 0 0 1 0 1 1 0 0 1\n",
            " 0 0 1 0 1 1 1 1 0 0 1 1 1 1 1 0 0 1 1 0 1 0 0 0 1 1 0 0 1 1 1 0 0 1 0 0 0\n",
            " 0 0 1 1 1 0 1 1 0 1 0 0 1 1 1 0 1 0 1 1 0 0 0 0 0 1 0 1 1 1 0 0 1 1 0 0 1\n",
            " 0 0 1 1 0 0 0 1 0 0 0 0 0 1 0 0 1 1 1 1 0 1 1 0 0 1 1 1 1 0 0 1 1 1 0 0 0\n",
            " 0 0 1 1 0 1 1 1 1 0 0 0 1 1 0 1 1 1 1 0 1 1 1 1 1 1 0 0 0 0 1 1 0 1 1 0 1\n",
            " 1 0 0 1 0 1 0 0 0 1 1 1 0 1 0 0 1 0 1 1 0 0 0 1 0 0 1 1 0 1 0 0 1 1 1 1 1\n",
            " 1 1 0 1 0 1 1 1 1 1 1 1 1 1 0 1 1 0 0 1 1 1 1 0 1 1 0 1 0 0 0 0 1 0 0 0 1\n",
            " 1 1 0 0 0 1 1 1 0 1 1 0 1 0 0 1 1 0 0 0 1 1 0 1 1 1 0 0 1 1 1 1 0 0 1 0 1\n",
            " 0 1 1 1 1 1 1 1 1 0 1 1 1 1 1 0 1 1 0 1 0 0 1 1 0 0 1 0 1 1 1 0 1 0 1 0 0\n",
            " 1 1 1 0 1 1 0 0 1 1 0 0 1 1 0 0 0 0 1 1 1 1 0 0 1 1 1 1 0 1 0 0 0 0 1 1 0\n",
            " 0 0 1 0 0 0 1 0 0 1 0 1 0 0 1 1 1 1 1 0 0 0 0 1 1 1 0 1 0 0 0 0 1 0 1 1 1\n",
            " 1 1 0 0 0 1 1 0 0 1 0 1 0 0 1 0 0 0 1 0 1 1 1 0 1 1 1 0 1 1 1 1 1 1 0 0 1\n",
            " 0 0 1 0 0 1 1 1 1 1 1 1 1 0 0 0 1 0 0 1 0 1 1 0 1 0 1 0 1 0 0 1 1 1 0 1 1\n",
            " 1 0 0 1 0 1 0 0 0 0 0 1 0 1 0 0 1 0 0 0 0 0 0 1 1 0 0 0 1 0 0 0 0 1 1 1 1\n",
            " 0 0 1 0 0 0 1 1 0 1 0 1 0 1 0 1 0 0 1 0 0 1 0 0 1 1 0 1 1 0 0 0 0 1 1 0 0\n",
            " 1 0 1 0 0 0 0 0 1 0 1 1 0 1 1 1 1 1 1 1 1 0 0 1 1 0 1 0 0 1 0 1 1 0 0 1 0\n",
            " 1 0 1 0 1 0 1 1 0 1 1 1 1 1 0 1 1 0 0 0 1 1 1 1 1 1 1 0 1 1 0 0 0 0 0 1 0\n",
            " 1 0 0 0 0 1 0 1 0 0 1 0 1 1 1 0 0 1 1 1 0 0 0 1 1 0 0 1 1 0 0 0 0 1 1 1 1\n",
            " 0 0 0 0 1 0 1 1 0 0 1 0 1 1 0 0 0 1 0 0 0 0 1 0 1 0 0 1 0 1 0 1 0 0 0 0 0\n",
            " 0 0 1 0 1 0 0 1 1 0 1 1 0 0 1 0 0 1 0 0 0 1 0 0 0 0 0 0 1 1 0 1 0 1 0 0 0\n",
            " 0 0 1 0 1 0 1 1 1 0 1 0 0 1 1 0 1 0 1 0 1 0 0 1 1 1 0 1 0 1 0 0 1 1 1 0 1\n",
            " 1 0 1 0 0 0 0 1 1 1 1 0 0 1 1 1 1 0 0 0 1 1 1 1 1 0 1 1 0 1 0 0 1 0 0 0 0\n",
            " 0 0 0 1 1 0 1 0 1 1 1 0 0 1 1 1 0 0 1 1 1 0 1 0 0 1 1 0 1 0 1 1 1 0 0 1 0\n",
            " 1 0 1 1 1 1 1 1 0 0 1 0 0 1 0 1 0 1 0 1 0 0 1 1 0 0 1 1 0 1 1 0 1 1 1 0 1\n",
            " 1 0 1 1 0 1 0 1 1 1 0 0 0 0 1 1 1 1 0 1 0 1 1 1 0 0 1 0 0 0 0 1 0 1 1 0 1\n",
            " 0 0 0 0 0 1 0 1 1 1 1 0 0 0 0 0 0 1 0 0 1 0 1 0 0 0 0 1 0 1 0 1 1 0 0 0 0\n",
            " 1]\n"
          ],
          "name": "stdout"
        }
      ]
    },
    {
      "cell_type": "code",
      "metadata": {
        "colab": {
          "base_uri": "https://localhost:8080/"
        },
        "id": "sUl9LNNrz9dd",
        "outputId": "0993c9a3-659d-432f-9db4-e79a1497d170"
      },
      "source": [
        "#6\r\n",
        "C = np.random.random((3,3,3))\r\n",
        "print(C)\r\n",
        "print(C.shape)"
      ],
      "execution_count": null,
      "outputs": [
        {
          "output_type": "stream",
          "text": [
            "[[[0.47610409 0.70678428 0.90906391]\n",
            "  [0.08878593 0.67580461 0.74648107]\n",
            "  [0.39425989 0.45278095 0.95580036]]\n",
            "\n",
            " [[0.22272025 0.2212092  0.56351884]\n",
            "  [0.15419123 0.61563491 0.97942136]\n",
            "  [0.6831254  0.43938445 0.8346992 ]]\n",
            "\n",
            " [[0.83321441 0.29440141 0.68083307]\n",
            "  [0.93790308 0.68010221 0.62358832]\n",
            "  [0.92533209 0.55409848 0.81545298]]]\n",
            "(3, 3, 3)\n"
          ],
          "name": "stdout"
        }
      ]
    },
    {
      "cell_type": "code",
      "metadata": {
        "colab": {
          "base_uri": "https://localhost:8080/"
        },
        "id": "1OFJ4_chz9v0",
        "outputId": "d26f2bd4-fe77-4501-e1d9-fd095ce6755f"
      },
      "source": [
        "#7\r\n",
        "InverseC = np.linalg.inv(C)\r\n",
        "print(InverseC)\r\n",
        "print(InverseC.shape)"
      ],
      "execution_count": null,
      "outputs": [
        {
          "output_type": "stream",
          "text": [
            "[[[ 3.46091668 -2.96636134 -0.97495452]\n",
            "  [ 2.35393397  1.08627017 -3.0872101 ]\n",
            "  [-2.54270363  0.70901296  2.91087498]]\n",
            "\n",
            " [[-1.37660605 -1.03760791  2.14687974]\n",
            "  [-8.90568095  3.2805135   2.16307147]\n",
            "  [ 5.81456446 -0.87766984 -1.69762718]]\n",
            "\n",
            " [[ 4.72259813  3.09877831 -6.31264233]\n",
            "  [-4.24206481  1.11705952  2.68752806]\n",
            "  [-2.47647628 -4.27536607  6.56338927]]]\n",
            "(3, 3, 3)\n"
          ],
          "name": "stdout"
        }
      ]
    },
    {
      "cell_type": "code",
      "metadata": {
        "colab": {
          "base_uri": "https://localhost:8080/"
        },
        "id": "1UyowE7pz-Du",
        "outputId": "87cdc22d-390c-4554-f090-50ddf68fa464"
      },
      "source": [
        "#8 \r\n",
        "prod = np.dot(C, InverseC)\r\n",
        "print(prod)\r\n",
        "print(prod.shape)"
      ],
      "execution_count": null,
      "outputs": [
        {
          "output_type": "stream",
          "text": [
            "[[[[ 1.00000000e+00  1.07070702e-16 -1.66479720e-17]\n",
            "   [-1.66399234e+00  1.02674802e+00  1.00771153e+00]\n",
            "   [-3.00105163e+00 -1.62171987e+00  4.86056807e+00]]\n",
            "\n",
            "  [[ 9.84268949e-17  1.00000000e+00 -9.35420392e-17]\n",
            "   [-1.80026121e+00  1.46969725e+00  3.85179832e-01]\n",
            "   [-4.29614936e+00 -2.16143795e+00  6.15521588e+00]]\n",
            "\n",
            "  [[-2.86061226e-16  1.62064309e-16  1.00000000e+00]\n",
            "   [ 9.82499640e-01  2.37389680e-01  2.03233432e-01]\n",
            "   [-2.42581204e+00 -2.35888920e+00  5.00132971e+00]]]\n",
            "\n",
            "\n",
            " [[[-1.41333336e-01 -2.08336050e-02  7.40271499e-01]\n",
            "   [ 1.00000000e+00 -3.53612728e-17  6.81527839e-17]\n",
            "   [-1.28210660e+00 -1.47198482e+00  2.88714621e+00]]\n",
            "\n",
            "  [[-5.07571351e-01  9.05781382e-01  8.00049400e-01]\n",
            "   [ 9.17070467e-16  1.00000000e+00  2.71810369e-17]\n",
            "   [-4.30889374e+00 -3.02187960e+00  7.10950568e+00]]\n",
            "\n",
            "  [[ 1.27612938e+00 -9.57293993e-01  4.07216701e-01]\n",
            "   [-2.12665701e-16  7.24533402e-17  1.00000000e+00]\n",
            "   [-7.04883350e-01 -9.60971883e-01  2.34698749e+00]]]\n",
            "\n",
            "\n",
            " [[[ 1.84553038e+00 -1.66909606e+00  2.60594811e-01]\n",
            "   [ 1.89894798e-01 -4.96308720e-01  1.26982169e+00]\n",
            "   [ 1.00000000e+00 -2.57319217e-16  7.58372106e-17]]\n",
            "\n",
            "  [[ 3.26131979e+00 -1.60125248e+00 -1.19884360e+00]\n",
            "   [-3.72200182e+00  7.10604161e-01  2.42605431e+00]\n",
            "   [-3.30850788e-16  1.00000000e+00 -1.74261118e-16]]\n",
            "\n",
            "  [[ 2.43335324e+00 -1.56480196e+00 -2.39093456e-01]\n",
            "   [-1.46693812e+00  1.41897162e-01  1.80079619e+00]\n",
            "   [-4.99003774e-16  2.43051227e-16  1.00000000e+00]]]]\n",
            "(3, 3, 3, 3)\n"
          ],
          "name": "stdout"
        }
      ]
    },
    {
      "cell_type": "code",
      "metadata": {
        "colab": {
          "base_uri": "https://localhost:8080/"
        },
        "id": "yO0ve8_20Iro",
        "outputId": "723f9317-f5b8-4ac3-9af8-f3d85e3e79dc"
      },
      "source": [
        "#9\r\n",
        "D = np.linspace(-1,1,1000)\r\n",
        "print(D)"
      ],
      "execution_count": null,
      "outputs": [
        {
          "output_type": "stream",
          "text": [
            "[-1.         -0.997998   -0.995996   -0.99399399 -0.99199199 -0.98998999\n",
            " -0.98798799 -0.98598599 -0.98398398 -0.98198198 -0.97997998 -0.97797798\n",
            " -0.97597598 -0.97397397 -0.97197197 -0.96996997 -0.96796797 -0.96596597\n",
            " -0.96396396 -0.96196196 -0.95995996 -0.95795796 -0.95595596 -0.95395395\n",
            " -0.95195195 -0.94994995 -0.94794795 -0.94594595 -0.94394394 -0.94194194\n",
            " -0.93993994 -0.93793794 -0.93593594 -0.93393393 -0.93193193 -0.92992993\n",
            " -0.92792793 -0.92592593 -0.92392392 -0.92192192 -0.91991992 -0.91791792\n",
            " -0.91591592 -0.91391391 -0.91191191 -0.90990991 -0.90790791 -0.90590591\n",
            " -0.9039039  -0.9019019  -0.8998999  -0.8978979  -0.8958959  -0.89389389\n",
            " -0.89189189 -0.88988989 -0.88788789 -0.88588589 -0.88388388 -0.88188188\n",
            " -0.87987988 -0.87787788 -0.87587588 -0.87387387 -0.87187187 -0.86986987\n",
            " -0.86786787 -0.86586587 -0.86386386 -0.86186186 -0.85985986 -0.85785786\n",
            " -0.85585586 -0.85385385 -0.85185185 -0.84984985 -0.84784785 -0.84584585\n",
            " -0.84384384 -0.84184184 -0.83983984 -0.83783784 -0.83583584 -0.83383383\n",
            " -0.83183183 -0.82982983 -0.82782783 -0.82582583 -0.82382382 -0.82182182\n",
            " -0.81981982 -0.81781782 -0.81581582 -0.81381381 -0.81181181 -0.80980981\n",
            " -0.80780781 -0.80580581 -0.8038038  -0.8018018  -0.7997998  -0.7977978\n",
            " -0.7957958  -0.79379379 -0.79179179 -0.78978979 -0.78778779 -0.78578579\n",
            " -0.78378378 -0.78178178 -0.77977978 -0.77777778 -0.77577578 -0.77377377\n",
            " -0.77177177 -0.76976977 -0.76776777 -0.76576577 -0.76376376 -0.76176176\n",
            " -0.75975976 -0.75775776 -0.75575576 -0.75375375 -0.75175175 -0.74974975\n",
            " -0.74774775 -0.74574575 -0.74374374 -0.74174174 -0.73973974 -0.73773774\n",
            " -0.73573574 -0.73373373 -0.73173173 -0.72972973 -0.72772773 -0.72572573\n",
            " -0.72372372 -0.72172172 -0.71971972 -0.71771772 -0.71571572 -0.71371371\n",
            " -0.71171171 -0.70970971 -0.70770771 -0.70570571 -0.7037037  -0.7017017\n",
            " -0.6996997  -0.6976977  -0.6956957  -0.69369369 -0.69169169 -0.68968969\n",
            " -0.68768769 -0.68568569 -0.68368368 -0.68168168 -0.67967968 -0.67767768\n",
            " -0.67567568 -0.67367367 -0.67167167 -0.66966967 -0.66766767 -0.66566567\n",
            " -0.66366366 -0.66166166 -0.65965966 -0.65765766 -0.65565566 -0.65365365\n",
            " -0.65165165 -0.64964965 -0.64764765 -0.64564565 -0.64364364 -0.64164164\n",
            " -0.63963964 -0.63763764 -0.63563564 -0.63363363 -0.63163163 -0.62962963\n",
            " -0.62762763 -0.62562563 -0.62362362 -0.62162162 -0.61961962 -0.61761762\n",
            " -0.61561562 -0.61361361 -0.61161161 -0.60960961 -0.60760761 -0.60560561\n",
            " -0.6036036  -0.6016016  -0.5995996  -0.5975976  -0.5955956  -0.59359359\n",
            " -0.59159159 -0.58958959 -0.58758759 -0.58558559 -0.58358358 -0.58158158\n",
            " -0.57957958 -0.57757758 -0.57557558 -0.57357357 -0.57157157 -0.56956957\n",
            " -0.56756757 -0.56556557 -0.56356356 -0.56156156 -0.55955956 -0.55755756\n",
            " -0.55555556 -0.55355355 -0.55155155 -0.54954955 -0.54754755 -0.54554555\n",
            " -0.54354354 -0.54154154 -0.53953954 -0.53753754 -0.53553554 -0.53353353\n",
            " -0.53153153 -0.52952953 -0.52752753 -0.52552553 -0.52352352 -0.52152152\n",
            " -0.51951952 -0.51751752 -0.51551552 -0.51351351 -0.51151151 -0.50950951\n",
            " -0.50750751 -0.50550551 -0.5035035  -0.5015015  -0.4994995  -0.4974975\n",
            " -0.4954955  -0.49349349 -0.49149149 -0.48948949 -0.48748749 -0.48548549\n",
            " -0.48348348 -0.48148148 -0.47947948 -0.47747748 -0.47547548 -0.47347347\n",
            " -0.47147147 -0.46946947 -0.46746747 -0.46546547 -0.46346346 -0.46146146\n",
            " -0.45945946 -0.45745746 -0.45545546 -0.45345345 -0.45145145 -0.44944945\n",
            " -0.44744745 -0.44544545 -0.44344344 -0.44144144 -0.43943944 -0.43743744\n",
            " -0.43543544 -0.43343343 -0.43143143 -0.42942943 -0.42742743 -0.42542543\n",
            " -0.42342342 -0.42142142 -0.41941942 -0.41741742 -0.41541542 -0.41341341\n",
            " -0.41141141 -0.40940941 -0.40740741 -0.40540541 -0.4034034  -0.4014014\n",
            " -0.3993994  -0.3973974  -0.3953954  -0.39339339 -0.39139139 -0.38938939\n",
            " -0.38738739 -0.38538539 -0.38338338 -0.38138138 -0.37937938 -0.37737738\n",
            " -0.37537538 -0.37337337 -0.37137137 -0.36936937 -0.36736737 -0.36536537\n",
            " -0.36336336 -0.36136136 -0.35935936 -0.35735736 -0.35535536 -0.35335335\n",
            " -0.35135135 -0.34934935 -0.34734735 -0.34534535 -0.34334334 -0.34134134\n",
            " -0.33933934 -0.33733734 -0.33533534 -0.33333333 -0.33133133 -0.32932933\n",
            " -0.32732733 -0.32532533 -0.32332332 -0.32132132 -0.31931932 -0.31731732\n",
            " -0.31531532 -0.31331331 -0.31131131 -0.30930931 -0.30730731 -0.30530531\n",
            " -0.3033033  -0.3013013  -0.2992993  -0.2972973  -0.2952953  -0.29329329\n",
            " -0.29129129 -0.28928929 -0.28728729 -0.28528529 -0.28328328 -0.28128128\n",
            " -0.27927928 -0.27727728 -0.27527528 -0.27327327 -0.27127127 -0.26926927\n",
            " -0.26726727 -0.26526527 -0.26326326 -0.26126126 -0.25925926 -0.25725726\n",
            " -0.25525526 -0.25325325 -0.25125125 -0.24924925 -0.24724725 -0.24524525\n",
            " -0.24324324 -0.24124124 -0.23923924 -0.23723724 -0.23523524 -0.23323323\n",
            " -0.23123123 -0.22922923 -0.22722723 -0.22522523 -0.22322322 -0.22122122\n",
            " -0.21921922 -0.21721722 -0.21521522 -0.21321321 -0.21121121 -0.20920921\n",
            " -0.20720721 -0.20520521 -0.2032032  -0.2012012  -0.1991992  -0.1971972\n",
            " -0.1951952  -0.19319319 -0.19119119 -0.18918919 -0.18718719 -0.18518519\n",
            " -0.18318318 -0.18118118 -0.17917918 -0.17717718 -0.17517518 -0.17317317\n",
            " -0.17117117 -0.16916917 -0.16716717 -0.16516517 -0.16316316 -0.16116116\n",
            " -0.15915916 -0.15715716 -0.15515516 -0.15315315 -0.15115115 -0.14914915\n",
            " -0.14714715 -0.14514515 -0.14314314 -0.14114114 -0.13913914 -0.13713714\n",
            " -0.13513514 -0.13313313 -0.13113113 -0.12912913 -0.12712713 -0.12512513\n",
            " -0.12312312 -0.12112112 -0.11911912 -0.11711712 -0.11511512 -0.11311311\n",
            " -0.11111111 -0.10910911 -0.10710711 -0.10510511 -0.1031031  -0.1011011\n",
            " -0.0990991  -0.0970971  -0.0950951  -0.09309309 -0.09109109 -0.08908909\n",
            " -0.08708709 -0.08508509 -0.08308308 -0.08108108 -0.07907908 -0.07707708\n",
            " -0.07507508 -0.07307307 -0.07107107 -0.06906907 -0.06706707 -0.06506507\n",
            " -0.06306306 -0.06106106 -0.05905906 -0.05705706 -0.05505506 -0.05305305\n",
            " -0.05105105 -0.04904905 -0.04704705 -0.04504505 -0.04304304 -0.04104104\n",
            " -0.03903904 -0.03703704 -0.03503504 -0.03303303 -0.03103103 -0.02902903\n",
            " -0.02702703 -0.02502503 -0.02302302 -0.02102102 -0.01901902 -0.01701702\n",
            " -0.01501502 -0.01301301 -0.01101101 -0.00900901 -0.00700701 -0.00500501\n",
            " -0.003003   -0.001001    0.001001    0.003003    0.00500501  0.00700701\n",
            "  0.00900901  0.01101101  0.01301301  0.01501502  0.01701702  0.01901902\n",
            "  0.02102102  0.02302302  0.02502503  0.02702703  0.02902903  0.03103103\n",
            "  0.03303303  0.03503504  0.03703704  0.03903904  0.04104104  0.04304304\n",
            "  0.04504505  0.04704705  0.04904905  0.05105105  0.05305305  0.05505506\n",
            "  0.05705706  0.05905906  0.06106106  0.06306306  0.06506507  0.06706707\n",
            "  0.06906907  0.07107107  0.07307307  0.07507508  0.07707708  0.07907908\n",
            "  0.08108108  0.08308308  0.08508509  0.08708709  0.08908909  0.09109109\n",
            "  0.09309309  0.0950951   0.0970971   0.0990991   0.1011011   0.1031031\n",
            "  0.10510511  0.10710711  0.10910911  0.11111111  0.11311311  0.11511512\n",
            "  0.11711712  0.11911912  0.12112112  0.12312312  0.12512513  0.12712713\n",
            "  0.12912913  0.13113113  0.13313313  0.13513514  0.13713714  0.13913914\n",
            "  0.14114114  0.14314314  0.14514515  0.14714715  0.14914915  0.15115115\n",
            "  0.15315315  0.15515516  0.15715716  0.15915916  0.16116116  0.16316316\n",
            "  0.16516517  0.16716717  0.16916917  0.17117117  0.17317317  0.17517518\n",
            "  0.17717718  0.17917918  0.18118118  0.18318318  0.18518519  0.18718719\n",
            "  0.18918919  0.19119119  0.19319319  0.1951952   0.1971972   0.1991992\n",
            "  0.2012012   0.2032032   0.20520521  0.20720721  0.20920921  0.21121121\n",
            "  0.21321321  0.21521522  0.21721722  0.21921922  0.22122122  0.22322322\n",
            "  0.22522523  0.22722723  0.22922923  0.23123123  0.23323323  0.23523524\n",
            "  0.23723724  0.23923924  0.24124124  0.24324324  0.24524525  0.24724725\n",
            "  0.24924925  0.25125125  0.25325325  0.25525526  0.25725726  0.25925926\n",
            "  0.26126126  0.26326326  0.26526527  0.26726727  0.26926927  0.27127127\n",
            "  0.27327327  0.27527528  0.27727728  0.27927928  0.28128128  0.28328328\n",
            "  0.28528529  0.28728729  0.28928929  0.29129129  0.29329329  0.2952953\n",
            "  0.2972973   0.2992993   0.3013013   0.3033033   0.30530531  0.30730731\n",
            "  0.30930931  0.31131131  0.31331331  0.31531532  0.31731732  0.31931932\n",
            "  0.32132132  0.32332332  0.32532533  0.32732733  0.32932933  0.33133133\n",
            "  0.33333333  0.33533534  0.33733734  0.33933934  0.34134134  0.34334334\n",
            "  0.34534535  0.34734735  0.34934935  0.35135135  0.35335335  0.35535536\n",
            "  0.35735736  0.35935936  0.36136136  0.36336336  0.36536537  0.36736737\n",
            "  0.36936937  0.37137137  0.37337337  0.37537538  0.37737738  0.37937938\n",
            "  0.38138138  0.38338338  0.38538539  0.38738739  0.38938939  0.39139139\n",
            "  0.39339339  0.3953954   0.3973974   0.3993994   0.4014014   0.4034034\n",
            "  0.40540541  0.40740741  0.40940941  0.41141141  0.41341341  0.41541542\n",
            "  0.41741742  0.41941942  0.42142142  0.42342342  0.42542543  0.42742743\n",
            "  0.42942943  0.43143143  0.43343343  0.43543544  0.43743744  0.43943944\n",
            "  0.44144144  0.44344344  0.44544545  0.44744745  0.44944945  0.45145145\n",
            "  0.45345345  0.45545546  0.45745746  0.45945946  0.46146146  0.46346346\n",
            "  0.46546547  0.46746747  0.46946947  0.47147147  0.47347347  0.47547548\n",
            "  0.47747748  0.47947948  0.48148148  0.48348348  0.48548549  0.48748749\n",
            "  0.48948949  0.49149149  0.49349349  0.4954955   0.4974975   0.4994995\n",
            "  0.5015015   0.5035035   0.50550551  0.50750751  0.50950951  0.51151151\n",
            "  0.51351351  0.51551552  0.51751752  0.51951952  0.52152152  0.52352352\n",
            "  0.52552553  0.52752753  0.52952953  0.53153153  0.53353353  0.53553554\n",
            "  0.53753754  0.53953954  0.54154154  0.54354354  0.54554555  0.54754755\n",
            "  0.54954955  0.55155155  0.55355355  0.55555556  0.55755756  0.55955956\n",
            "  0.56156156  0.56356356  0.56556557  0.56756757  0.56956957  0.57157157\n",
            "  0.57357357  0.57557558  0.57757758  0.57957958  0.58158158  0.58358358\n",
            "  0.58558559  0.58758759  0.58958959  0.59159159  0.59359359  0.5955956\n",
            "  0.5975976   0.5995996   0.6016016   0.6036036   0.60560561  0.60760761\n",
            "  0.60960961  0.61161161  0.61361361  0.61561562  0.61761762  0.61961962\n",
            "  0.62162162  0.62362362  0.62562563  0.62762763  0.62962963  0.63163163\n",
            "  0.63363363  0.63563564  0.63763764  0.63963964  0.64164164  0.64364364\n",
            "  0.64564565  0.64764765  0.64964965  0.65165165  0.65365365  0.65565566\n",
            "  0.65765766  0.65965966  0.66166166  0.66366366  0.66566567  0.66766767\n",
            "  0.66966967  0.67167167  0.67367367  0.67567568  0.67767768  0.67967968\n",
            "  0.68168168  0.68368368  0.68568569  0.68768769  0.68968969  0.69169169\n",
            "  0.69369369  0.6956957   0.6976977   0.6996997   0.7017017   0.7037037\n",
            "  0.70570571  0.70770771  0.70970971  0.71171171  0.71371371  0.71571572\n",
            "  0.71771772  0.71971972  0.72172172  0.72372372  0.72572573  0.72772773\n",
            "  0.72972973  0.73173173  0.73373373  0.73573574  0.73773774  0.73973974\n",
            "  0.74174174  0.74374374  0.74574575  0.74774775  0.74974975  0.75175175\n",
            "  0.75375375  0.75575576  0.75775776  0.75975976  0.76176176  0.76376376\n",
            "  0.76576577  0.76776777  0.76976977  0.77177177  0.77377377  0.77577578\n",
            "  0.77777778  0.77977978  0.78178178  0.78378378  0.78578579  0.78778779\n",
            "  0.78978979  0.79179179  0.79379379  0.7957958   0.7977978   0.7997998\n",
            "  0.8018018   0.8038038   0.80580581  0.80780781  0.80980981  0.81181181\n",
            "  0.81381381  0.81581582  0.81781782  0.81981982  0.82182182  0.82382382\n",
            "  0.82582583  0.82782783  0.82982983  0.83183183  0.83383383  0.83583584\n",
            "  0.83783784  0.83983984  0.84184184  0.84384384  0.84584585  0.84784785\n",
            "  0.84984985  0.85185185  0.85385385  0.85585586  0.85785786  0.85985986\n",
            "  0.86186186  0.86386386  0.86586587  0.86786787  0.86986987  0.87187187\n",
            "  0.87387387  0.87587588  0.87787788  0.87987988  0.88188188  0.88388388\n",
            "  0.88588589  0.88788789  0.88988989  0.89189189  0.89389389  0.8958959\n",
            "  0.8978979   0.8998999   0.9019019   0.9039039   0.90590591  0.90790791\n",
            "  0.90990991  0.91191191  0.91391391  0.91591592  0.91791792  0.91991992\n",
            "  0.92192192  0.92392392  0.92592593  0.92792793  0.92992993  0.93193193\n",
            "  0.93393393  0.93593594  0.93793794  0.93993994  0.94194194  0.94394394\n",
            "  0.94594595  0.94794795  0.94994995  0.95195195  0.95395395  0.95595596\n",
            "  0.95795796  0.95995996  0.96196196  0.96396396  0.96596597  0.96796797\n",
            "  0.96996997  0.97197197  0.97397397  0.97597598  0.97797798  0.97997998\n",
            "  0.98198198  0.98398398  0.98598599  0.98798799  0.98998999  0.99199199\n",
            "  0.99399399  0.995996    0.997998    1.        ]\n"
          ],
          "name": "stdout"
        }
      ]
    },
    {
      "cell_type": "code",
      "metadata": {
        "id": "_w1ZV0pr0J60"
      },
      "source": [
        "#10 \r\n",
        "import math\r\n",
        "\r\n",
        "eps = np.random.normal(0,1,size=500);\r\n",
        "\r\n",
        "def myFunc(x, eps):\r\n",
        "  sig = 0.1;\r\n",
        "  return (np.sqrt(x) + 1.0 + (sig*eps));\r\n",
        "\r\n",
        "#print(myFunc(x,eps)); \r\n",
        "\r\n",
        "#error becuase we're trying to compute square root of negative numbers"
      ],
      "execution_count": null,
      "outputs": []
    },
    {
      "cell_type": "code",
      "metadata": {
        "colab": {
          "base_uri": "https://localhost:8080/"
        },
        "id": "HkK8LZjN8iMq",
        "outputId": "9a74a63e-f112-44bc-ddc7-56c872f10411"
      },
      "source": [
        "#remove negative numbers from D\r\n",
        "eps = np.random.normal(0,1,size=500);\r\n",
        "E = np.array(list(filter(lambda x : x>=0,D)))\r\n",
        "print(E)"
      ],
      "execution_count": null,
      "outputs": [
        {
          "output_type": "stream",
          "text": [
            "[0.001001   0.003003   0.00500501 0.00700701 0.00900901 0.01101101\n",
            " 0.01301301 0.01501502 0.01701702 0.01901902 0.02102102 0.02302302\n",
            " 0.02502503 0.02702703 0.02902903 0.03103103 0.03303303 0.03503504\n",
            " 0.03703704 0.03903904 0.04104104 0.04304304 0.04504505 0.04704705\n",
            " 0.04904905 0.05105105 0.05305305 0.05505506 0.05705706 0.05905906\n",
            " 0.06106106 0.06306306 0.06506507 0.06706707 0.06906907 0.07107107\n",
            " 0.07307307 0.07507508 0.07707708 0.07907908 0.08108108 0.08308308\n",
            " 0.08508509 0.08708709 0.08908909 0.09109109 0.09309309 0.0950951\n",
            " 0.0970971  0.0990991  0.1011011  0.1031031  0.10510511 0.10710711\n",
            " 0.10910911 0.11111111 0.11311311 0.11511512 0.11711712 0.11911912\n",
            " 0.12112112 0.12312312 0.12512513 0.12712713 0.12912913 0.13113113\n",
            " 0.13313313 0.13513514 0.13713714 0.13913914 0.14114114 0.14314314\n",
            " 0.14514515 0.14714715 0.14914915 0.15115115 0.15315315 0.15515516\n",
            " 0.15715716 0.15915916 0.16116116 0.16316316 0.16516517 0.16716717\n",
            " 0.16916917 0.17117117 0.17317317 0.17517518 0.17717718 0.17917918\n",
            " 0.18118118 0.18318318 0.18518519 0.18718719 0.18918919 0.19119119\n",
            " 0.19319319 0.1951952  0.1971972  0.1991992  0.2012012  0.2032032\n",
            " 0.20520521 0.20720721 0.20920921 0.21121121 0.21321321 0.21521522\n",
            " 0.21721722 0.21921922 0.22122122 0.22322322 0.22522523 0.22722723\n",
            " 0.22922923 0.23123123 0.23323323 0.23523524 0.23723724 0.23923924\n",
            " 0.24124124 0.24324324 0.24524525 0.24724725 0.24924925 0.25125125\n",
            " 0.25325325 0.25525526 0.25725726 0.25925926 0.26126126 0.26326326\n",
            " 0.26526527 0.26726727 0.26926927 0.27127127 0.27327327 0.27527528\n",
            " 0.27727728 0.27927928 0.28128128 0.28328328 0.28528529 0.28728729\n",
            " 0.28928929 0.29129129 0.29329329 0.2952953  0.2972973  0.2992993\n",
            " 0.3013013  0.3033033  0.30530531 0.30730731 0.30930931 0.31131131\n",
            " 0.31331331 0.31531532 0.31731732 0.31931932 0.32132132 0.32332332\n",
            " 0.32532533 0.32732733 0.32932933 0.33133133 0.33333333 0.33533534\n",
            " 0.33733734 0.33933934 0.34134134 0.34334334 0.34534535 0.34734735\n",
            " 0.34934935 0.35135135 0.35335335 0.35535536 0.35735736 0.35935936\n",
            " 0.36136136 0.36336336 0.36536537 0.36736737 0.36936937 0.37137137\n",
            " 0.37337337 0.37537538 0.37737738 0.37937938 0.38138138 0.38338338\n",
            " 0.38538539 0.38738739 0.38938939 0.39139139 0.39339339 0.3953954\n",
            " 0.3973974  0.3993994  0.4014014  0.4034034  0.40540541 0.40740741\n",
            " 0.40940941 0.41141141 0.41341341 0.41541542 0.41741742 0.41941942\n",
            " 0.42142142 0.42342342 0.42542543 0.42742743 0.42942943 0.43143143\n",
            " 0.43343343 0.43543544 0.43743744 0.43943944 0.44144144 0.44344344\n",
            " 0.44544545 0.44744745 0.44944945 0.45145145 0.45345345 0.45545546\n",
            " 0.45745746 0.45945946 0.46146146 0.46346346 0.46546547 0.46746747\n",
            " 0.46946947 0.47147147 0.47347347 0.47547548 0.47747748 0.47947948\n",
            " 0.48148148 0.48348348 0.48548549 0.48748749 0.48948949 0.49149149\n",
            " 0.49349349 0.4954955  0.4974975  0.4994995  0.5015015  0.5035035\n",
            " 0.50550551 0.50750751 0.50950951 0.51151151 0.51351351 0.51551552\n",
            " 0.51751752 0.51951952 0.52152152 0.52352352 0.52552553 0.52752753\n",
            " 0.52952953 0.53153153 0.53353353 0.53553554 0.53753754 0.53953954\n",
            " 0.54154154 0.54354354 0.54554555 0.54754755 0.54954955 0.55155155\n",
            " 0.55355355 0.55555556 0.55755756 0.55955956 0.56156156 0.56356356\n",
            " 0.56556557 0.56756757 0.56956957 0.57157157 0.57357357 0.57557558\n",
            " 0.57757758 0.57957958 0.58158158 0.58358358 0.58558559 0.58758759\n",
            " 0.58958959 0.59159159 0.59359359 0.5955956  0.5975976  0.5995996\n",
            " 0.6016016  0.6036036  0.60560561 0.60760761 0.60960961 0.61161161\n",
            " 0.61361361 0.61561562 0.61761762 0.61961962 0.62162162 0.62362362\n",
            " 0.62562563 0.62762763 0.62962963 0.63163163 0.63363363 0.63563564\n",
            " 0.63763764 0.63963964 0.64164164 0.64364364 0.64564565 0.64764765\n",
            " 0.64964965 0.65165165 0.65365365 0.65565566 0.65765766 0.65965966\n",
            " 0.66166166 0.66366366 0.66566567 0.66766767 0.66966967 0.67167167\n",
            " 0.67367367 0.67567568 0.67767768 0.67967968 0.68168168 0.68368368\n",
            " 0.68568569 0.68768769 0.68968969 0.69169169 0.69369369 0.6956957\n",
            " 0.6976977  0.6996997  0.7017017  0.7037037  0.70570571 0.70770771\n",
            " 0.70970971 0.71171171 0.71371371 0.71571572 0.71771772 0.71971972\n",
            " 0.72172172 0.72372372 0.72572573 0.72772773 0.72972973 0.73173173\n",
            " 0.73373373 0.73573574 0.73773774 0.73973974 0.74174174 0.74374374\n",
            " 0.74574575 0.74774775 0.74974975 0.75175175 0.75375375 0.75575576\n",
            " 0.75775776 0.75975976 0.76176176 0.76376376 0.76576577 0.76776777\n",
            " 0.76976977 0.77177177 0.77377377 0.77577578 0.77777778 0.77977978\n",
            " 0.78178178 0.78378378 0.78578579 0.78778779 0.78978979 0.79179179\n",
            " 0.79379379 0.7957958  0.7977978  0.7997998  0.8018018  0.8038038\n",
            " 0.80580581 0.80780781 0.80980981 0.81181181 0.81381381 0.81581582\n",
            " 0.81781782 0.81981982 0.82182182 0.82382382 0.82582583 0.82782783\n",
            " 0.82982983 0.83183183 0.83383383 0.83583584 0.83783784 0.83983984\n",
            " 0.84184184 0.84384384 0.84584585 0.84784785 0.84984985 0.85185185\n",
            " 0.85385385 0.85585586 0.85785786 0.85985986 0.86186186 0.86386386\n",
            " 0.86586587 0.86786787 0.86986987 0.87187187 0.87387387 0.87587588\n",
            " 0.87787788 0.87987988 0.88188188 0.88388388 0.88588589 0.88788789\n",
            " 0.88988989 0.89189189 0.89389389 0.8958959  0.8978979  0.8998999\n",
            " 0.9019019  0.9039039  0.90590591 0.90790791 0.90990991 0.91191191\n",
            " 0.91391391 0.91591592 0.91791792 0.91991992 0.92192192 0.92392392\n",
            " 0.92592593 0.92792793 0.92992993 0.93193193 0.93393393 0.93593594\n",
            " 0.93793794 0.93993994 0.94194194 0.94394394 0.94594595 0.94794795\n",
            " 0.94994995 0.95195195 0.95395395 0.95595596 0.95795796 0.95995996\n",
            " 0.96196196 0.96396396 0.96596597 0.96796797 0.96996997 0.97197197\n",
            " 0.97397397 0.97597598 0.97797798 0.97997998 0.98198198 0.98398398\n",
            " 0.98598599 0.98798799 0.98998999 0.99199199 0.99399399 0.995996\n",
            " 0.997998   1.        ]\n"
          ],
          "name": "stdout"
        }
      ]
    },
    {
      "cell_type": "code",
      "metadata": {
        "colab": {
          "base_uri": "https://localhost:8080/"
        },
        "id": "Qx0JjBUH8tNt",
        "outputId": "317561de-f7f6-4873-fc23-ddc5b61ad129"
      },
      "source": [
        "\r\n",
        "eps = np.random.normal(0,1,size=500);\r\n",
        "res = myFunc(E,eps);\r\n",
        "print(res);\r\n"
      ],
      "execution_count": null,
      "outputs": [
        {
          "output_type": "stream",
          "text": [
            "[0.97565138 1.19446133 1.15932169 1.14239531 0.99562402 1.27929759\n",
            " 1.13770403 1.10136051 0.97912628 1.24530853 1.10353606 1.09670483\n",
            " 1.1557557  1.19239109 1.25229994 1.10788124 1.04949063 1.26086685\n",
            " 1.28547349 1.26680915 1.37073961 1.0579112  1.2485587  1.25745257\n",
            " 1.20652991 1.3518511  1.10108365 1.2427524  1.16624963 1.19047063\n",
            " 1.3203146  1.17723945 1.4496313  1.19720891 1.20410221 1.40952812\n",
            " 1.27234469 1.28727944 1.54327045 1.16566379 1.22708252 1.33411214\n",
            " 1.27927776 1.44532263 1.3482117  1.33044745 1.18588769 1.33581734\n",
            " 1.28222122 1.13804758 1.28136635 1.24721031 1.45739878 1.34346464\n",
            " 1.3828618  1.35705984 1.26382521 1.27310397 1.30675147 1.43846999\n",
            " 1.31206102 1.51458925 1.42076911 1.40555635 1.30389331 1.27804288\n",
            " 1.45199265 1.43354959 1.30780704 1.31879084 1.41724252 1.38915901\n",
            " 1.35252478 1.50165057 1.21590213 1.32765114 1.38003297 1.34596231\n",
            " 1.36435521 1.30103805 1.50796378 1.38784405 1.39329454 1.51242429\n",
            " 1.4643674  1.28289412 1.45887444 1.44320686 1.31495678 1.51869416\n",
            " 1.40012008 1.4123722  1.39840343 1.44099367 1.60357978 1.40810135\n",
            " 1.47978809 1.62956452 1.29846954 1.37535014 1.35690634 1.28138857\n",
            " 1.54669598 1.29658603 1.39633787 1.40825059 1.62745728 1.47754786\n",
            " 1.4967377  1.52843809 1.5709993  1.5360072  1.51637887 1.40605717\n",
            " 1.55816221 1.51942339 1.6076705  1.41503094 1.41744928 1.58691115\n",
            " 1.48342044 1.63490687 1.66826121 1.49834361 1.29446793 1.44849098\n",
            " 1.46557809 1.68757368 1.47244826 1.59216675 1.51773184 1.58802641\n",
            " 1.38806437 1.18554401 1.50041529 1.6017231  1.37696052 1.58029669\n",
            " 1.47482807 1.54415065 1.43720186 1.73253387 1.64700728 1.52240235\n",
            " 1.49005652 1.31767974 1.49281996 1.61099925 1.48272011 1.49991159\n",
            " 1.55128025 1.47002093 1.56013827 1.47658001 1.67770449 1.5328861\n",
            " 1.51469056 1.55259267 1.40563688 1.6627105  1.58388171 1.57055015\n",
            " 1.60803385 1.48027177 1.60703126 1.66463208 1.62475465 1.53257129\n",
            " 1.60959094 1.46978322 1.63481634 1.74797163 1.74265941 1.5603012\n",
            " 1.41423439 1.50368483 1.6976166  1.46127467 1.4520685  1.52409125\n",
            " 1.50461804 1.66650307 1.86051405 1.66825157 1.68175944 1.72650249\n",
            " 1.57169226 1.6853784  1.6429478  1.44039751 1.58881142 1.64788602\n",
            " 1.59066263 1.5930598  1.52272508 1.50695642 1.59780329 1.61070978\n",
            " 1.63615606 1.74048099 1.63566006 1.43582593 1.62723522 1.75671029\n",
            " 1.44589241 1.53106619 1.65135478 1.72388525 1.62398858 1.70923173\n",
            " 1.66894606 1.66227663 1.7011957  1.70977076 1.63132127 1.53297133\n",
            " 1.60365695 1.509833   1.61249492 1.67143733 1.75727695 1.74240888\n",
            " 1.63663959 1.56786117 1.54103697 1.82012911 1.6438128  1.63657599\n",
            " 1.86578926 1.76549757 1.70583082 1.57078598 1.7445509  1.7855305\n",
            " 1.44995043 1.77005767 1.70554872 1.69811813 1.80227946 1.72691364\n",
            " 1.62548795 1.6157575  1.84400336 1.71864013 1.73561157 1.57816272\n",
            " 1.89272461 1.83652843 1.63459629 1.67029894 1.66072265 1.79565898\n",
            " 1.67438664 1.74186465 1.89706517 1.83090021 1.81319135 1.96354021\n",
            " 1.79737559 1.63525326 1.71473077 1.63572991 1.71692636 1.58372043\n",
            " 1.65099095 1.53197238 1.74158265 1.80470224 2.00107015 1.63971491\n",
            " 1.48918405 1.75348604 1.78832201 1.82316692 1.84875647 1.72687984\n",
            " 1.77534238 1.65862343 1.68587021 1.84294993 1.80839582 1.83368229\n",
            " 1.66363622 1.56959294 1.77309964 1.6176319  1.70715333 1.85138209\n",
            " 1.87975148 1.70487513 1.67674138 1.67896723 1.80598843 1.75528129\n",
            " 1.7477784  1.60265214 1.8332015  1.75125535 1.61684256 1.70661882\n",
            " 1.65481685 1.70908988 1.72377966 1.62191744 1.62342568 1.69852837\n",
            " 1.74498028 1.78520301 1.71317629 1.95609956 1.80148636 1.67393424\n",
            " 1.98282035 1.83871939 1.66676859 1.82152242 1.74776848 1.82131647\n",
            " 1.90117062 1.92796792 1.75780325 1.74673163 1.84150303 1.94490596\n",
            " 1.85272928 1.80349434 1.82316467 1.70160184 2.00548452 1.93057666\n",
            " 1.87392321 1.63643483 1.92573094 1.8511469  1.85380909 1.71416177\n",
            " 1.83645884 1.84279843 1.82168722 1.77997768 2.04312692 1.71195323\n",
            " 1.65506314 2.01572607 1.71622227 1.78391555 1.71547214 1.93160446\n",
            " 1.79485823 1.83437767 1.89845632 1.6910502  1.9897647  1.96242512\n",
            " 1.95228855 1.79071366 1.92657656 1.66959878 1.80272156 1.9525779\n",
            " 1.91024356 1.66282151 1.77913016 1.9521851  1.90317699 1.93924887\n",
            " 1.99123983 1.66018567 1.7770067  1.6684303  1.7771327  1.88552714\n",
            " 1.78516771 1.7983341  1.81146163 1.87376862 1.8470509  1.92450193\n",
            " 1.97570236 1.76781317 1.90252992 1.86462417 1.96711685 1.92699679\n",
            " 1.91496762 1.9425977  1.8302426  1.99036849 2.00453506 1.93217056\n",
            " 1.66249145 1.93287841 1.79894476 1.84608384 1.96367066 1.96362234\n",
            " 1.85473636 1.74954868 1.94819501 1.91833842 1.79519053 1.91523024\n",
            " 1.84134047 2.00182643 2.03994379 1.89153381 1.7637629  1.90667116\n",
            " 1.78058089 2.16470345 1.86136935 1.93477929 1.95380541 1.85329093\n",
            " 2.076829   1.93169564 2.05958853 2.01414207 1.91441209 1.91643259\n",
            " 2.10728149 1.79495073 1.90181433 1.87574892 1.81895668 1.86740357\n",
            " 1.78072242 2.02616343 1.89859534 2.17637711 2.06256972 1.81212419\n",
            " 1.97929127 1.8997784  2.03004536 1.88886234 1.76694452 1.86859964\n",
            " 1.81937222 1.93082297 2.12951009 1.8629361  1.98440618 1.95843237\n",
            " 1.90995039 1.97990085 2.05360459 2.08923444 1.99208767 2.07525298\n",
            " 1.87355998 1.93059573 2.15504382 1.91104291 2.00372045 2.06638464\n",
            " 2.00672939 2.00002059 1.86442707 1.97729762 1.99506453 2.00382469\n",
            " 2.08253682 2.26977231 1.87519583 2.07286771 1.98735221 1.85281698\n",
            " 1.88861924 2.1025144  2.0393014  1.97250535 1.9373108  2.08113288\n",
            " 1.82033617 2.08520964 2.02705435 2.11991963 2.20837425 1.96875754\n",
            " 1.93419133 2.05297217 1.84774689 2.08638192 2.08387213 2.11469535\n",
            " 2.04069514 1.95201599 1.99438494 1.85700774 1.92784146 1.98993637\n",
            " 2.0221159  2.0404161  1.83905729 1.9749471  2.01558176 2.05094181\n",
            " 2.03657192 1.97258345]\n"
          ],
          "name": "stdout"
        }
      ]
    },
    {
      "cell_type": "code",
      "metadata": {
        "colab": {
          "base_uri": "https://localhost:8080/",
          "height": 265
        },
        "id": "Vh2ZwbvtBoNS",
        "outputId": "fc8a1a4e-cbde-49a8-9761-e5df510477b3"
      },
      "source": [
        "import matplotlib.pyplot as plt\r\n",
        "\r\n",
        "x = E\r\n",
        "y = myFunc(x,eps)\r\n",
        "plt.figure()\r\n",
        "plt.plot(x, y, \"-b\")\r\n",
        "\r\n",
        "plt.legend([\"function\"])\r\n",
        "plt.show()\r\n",
        "\r\n"
      ],
      "execution_count": null,
      "outputs": [
        {
          "output_type": "display_data",
          "data": {
            "image/png": "[encoded data removed]",
            "text/plain": [
              "<Figure size 432x288 with 1 Axes>"
            ]
          },
          "metadata": {
            "tags": [],
            "needs_background": "light"
          }
        }
      ]
    }
  ]
}