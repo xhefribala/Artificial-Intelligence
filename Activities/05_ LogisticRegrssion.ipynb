{
  "nbformat": 4,
  "nbformat_minor": 0,
  "metadata": {
    "colab": {
      "name": "Classification .ipynb",
      "provenance": [],
      "collapsed_sections": [],
      "toc_visible": true
    },
    "kernelspec": {
      "name": "python3",
      "display_name": "Python 3"
    },
    "widgets": {
      "application/vnd.jupyter.widget-state+json": {
        "0230fc1d4525454b90f74405b3927a27": {
          "model_module": "@jupyter-widgets/controls",
          "model_name": "HBoxModel",
          "state": {
            "_view_name": "HBoxView",
            "_dom_classes": [],
            "_model_name": "HBoxModel",
            "_view_module": "@jupyter-widgets/controls",
            "_model_module_version": "1.5.0",
            "_view_count": null,
            "_view_module_version": "1.5.0",
            "box_style": "",
            "layout": "IPY_MODEL_55f7ad9360c149939b5b03bc296b9e04",
            "_model_module": "@jupyter-widgets/controls",
            "children": [
              "IPY_MODEL_42ff634717f24dd896405d321ea7432b",
              "IPY_MODEL_d99e3075ccf44cf1af3a7874bfd5013c"
            ]
          }
        },
        "55f7ad9360c149939b5b03bc296b9e04": {
          "model_module": "@jupyter-widgets/base",
          "model_name": "LayoutModel",
          "state": {
            "_view_name": "LayoutView",
            "grid_template_rows": null,
            "right": null,
            "justify_content": null,
            "_view_module": "@jupyter-widgets/base",
            "overflow": null,
            "_model_module_version": "1.2.0",
            "_view_count": null,
            "flex_flow": null,
            "width": null,
            "min_width": null,
            "border": null,
            "align_items": null,
            "bottom": null,
            "_model_module": "@jupyter-widgets/base",
            "top": null,
            "grid_column": null,
            "overflow_y": null,
            "overflow_x": null,
            "grid_auto_flow": null,
            "grid_area": null,
            "grid_template_columns": null,
            "flex": null,
            "_model_name": "LayoutModel",
            "justify_items": null,
            "grid_row": null,
            "max_height": null,
            "align_content": null,
            "visibility": null,
            "align_self": null,
            "height": null,
            "min_height": null,
            "padding": null,
            "grid_auto_rows": null,
            "grid_gap": null,
            "max_width": null,
            "order": null,
            "_view_module_version": "1.2.0",
            "grid_template_areas": null,
            "object_position": null,
            "object_fit": null,
            "grid_auto_columns": null,
            "margin": null,
            "display": null,
            "left": null
          }
        },
        "42ff634717f24dd896405d321ea7432b": {
          "model_module": "@jupyter-widgets/controls",
          "model_name": "IntProgressModel",
          "state": {
            "_view_name": "ProgressView",
            "style": "IPY_MODEL_a2ae8b7139894beaa3c9bd9304fb9c86",
            "_dom_classes": [],
            "description": "",
            "_model_name": "IntProgressModel",
            "bar_style": "info",
            "max": 1,
            "_view_module": "@jupyter-widgets/controls",
            "_model_module_version": "1.5.0",
            "value": 1,
            "_view_count": null,
            "_view_module_version": "1.5.0",
            "orientation": "horizontal",
            "min": 0,
            "description_tooltip": null,
            "_model_module": "@jupyter-widgets/controls",
            "layout": "IPY_MODEL_c5ddde683683404e8a87819913bb8a33"
          }
        },
        "d99e3075ccf44cf1af3a7874bfd5013c": {
          "model_module": "@jupyter-widgets/controls",
          "model_name": "HTMLModel",
          "state": {
            "_view_name": "HTMLView",
            "style": "IPY_MODEL_747f9834784d4d61be455fc547be8607",
            "_dom_classes": [],
            "description": "",
            "_model_name": "HTMLModel",
            "placeholder": "​",
            "_view_module": "@jupyter-widgets/controls",
            "_model_module_version": "1.5.0",
            "value": " 9920512/? [00:20&lt;00:00, 10893578.30it/s]",
            "_view_count": null,
            "_view_module_version": "1.5.0",
            "description_tooltip": null,
            "_model_module": "@jupyter-widgets/controls",
            "layout": "IPY_MODEL_a416223c28b44793beecf99a04d87d87"
          }
        },
        "a2ae8b7139894beaa3c9bd9304fb9c86": {
          "model_module": "@jupyter-widgets/controls",
          "model_name": "ProgressStyleModel",
          "state": {
            "_view_name": "StyleView",
            "_model_name": "ProgressStyleModel",
            "description_width": "initial",
            "_view_module": "@jupyter-widgets/base",
            "_model_module_version": "1.5.0",
            "_view_count": null,
            "_view_module_version": "1.2.0",
            "bar_color": null,
            "_model_module": "@jupyter-widgets/controls"
          }
        },
        "c5ddde683683404e8a87819913bb8a33": {
          "model_module": "@jupyter-widgets/base",
          "model_name": "LayoutModel",
          "state": {
            "_view_name": "LayoutView",
            "grid_template_rows": null,
            "right": null,
            "justify_content": null,
            "_view_module": "@jupyter-widgets/base",
            "overflow": null,
            "_model_module_version": "1.2.0",
            "_view_count": null,
            "flex_flow": null,
            "width": null,
            "min_width": null,
            "border": null,
            "align_items": null,
            "bottom": null,
            "_model_module": "@jupyter-widgets/base",
            "top": null,
            "grid_column": null,
            "overflow_y": null,
            "overflow_x": null,
            "grid_auto_flow": null,
            "grid_area": null,
            "grid_template_columns": null,
            "flex": null,
            "_model_name": "LayoutModel",
            "justify_items": null,
            "grid_row": null,
            "max_height": null,
            "align_content": null,
            "visibility": null,
            "align_self": null,
            "height": null,
            "min_height": null,
            "padding": null,
            "grid_auto_rows": null,
            "grid_gap": null,
            "max_width": null,
            "order": null,
            "_view_module_version": "1.2.0",
            "grid_template_areas": null,
            "object_position": null,
            "object_fit": null,
            "grid_auto_columns": null,
            "margin": null,
            "display": null,
            "left": null
          }
        },
        "747f9834784d4d61be455fc547be8607": {
          "model_module": "@jupyter-widgets/controls",
          "model_name": "DescriptionStyleModel",
          "state": {
            "_view_name": "StyleView",
            "_model_name": "DescriptionStyleModel",
            "description_width": "",
            "_view_module": "@jupyter-widgets/base",
            "_model_module_version": "1.5.0",
            "_view_count": null,
            "_view_module_version": "1.2.0",
            "_model_module": "@jupyter-widgets/controls"
          }
        },
        "a416223c28b44793beecf99a04d87d87": {
          "model_module": "@jupyter-widgets/base",
          "model_name": "LayoutModel",
          "state": {
            "_view_name": "LayoutView",
            "grid_template_rows": null,
            "right": null,
            "justify_content": null,
            "_view_module": "@jupyter-widgets/base",
            "overflow": null,
            "_model_module_version": "1.2.0",
            "_view_count": null,
            "flex_flow": null,
            "width": null,
            "min_width": null,
            "border": null,
            "align_items": null,
            "bottom": null,
            "_model_module": "@jupyter-widgets/base",
            "top": null,
            "grid_column": null,
            "overflow_y": null,
            "overflow_x": null,
            "grid_auto_flow": null,
            "grid_area": null,
            "grid_template_columns": null,
            "flex": null,
            "_model_name": "LayoutModel",
            "justify_items": null,
            "grid_row": null,
            "max_height": null,
            "align_content": null,
            "visibility": null,
            "align_self": null,
            "height": null,
            "min_height": null,
            "padding": null,
            "grid_auto_rows": null,
            "grid_gap": null,
            "max_width": null,
            "order": null,
            "_view_module_version": "1.2.0",
            "grid_template_areas": null,
            "object_position": null,
            "object_fit": null,
            "grid_auto_columns": null,
            "margin": null,
            "display": null,
            "left": null
          }
        },
        "adb009525fef4d9b9d36f7cd4390b6b5": {
          "model_module": "@jupyter-widgets/controls",
          "model_name": "HBoxModel",
          "state": {
            "_view_name": "HBoxView",
            "_dom_classes": [],
            "_model_name": "HBoxModel",
            "_view_module": "@jupyter-widgets/controls",
            "_model_module_version": "1.5.0",
            "_view_count": null,
            "_view_module_version": "1.5.0",
            "box_style": "",
            "layout": "IPY_MODEL_b54f3733c2424191a89d0deaf0ceb28a",
            "_model_module": "@jupyter-widgets/controls",
            "children": [
              "IPY_MODEL_9fb26fbeb66e4779a63220ab0e6f97dc",
              "IPY_MODEL_c2f89930ad364866ad6f6d0669450c03"
            ]
          }
        },
        "b54f3733c2424191a89d0deaf0ceb28a": {
          "model_module": "@jupyter-widgets/base",
          "model_name": "LayoutModel",
          "state": {
            "_view_name": "LayoutView",
            "grid_template_rows": null,
            "right": null,
            "justify_content": null,
            "_view_module": "@jupyter-widgets/base",
            "overflow": null,
            "_model_module_version": "1.2.0",
            "_view_count": null,
            "flex_flow": null,
            "width": null,
            "min_width": null,
            "border": null,
            "align_items": null,
            "bottom": null,
            "_model_module": "@jupyter-widgets/base",
            "top": null,
            "grid_column": null,
            "overflow_y": null,
            "overflow_x": null,
            "grid_auto_flow": null,
            "grid_area": null,
            "grid_template_columns": null,
            "flex": null,
            "_model_name": "LayoutModel",
            "justify_items": null,
            "grid_row": null,
            "max_height": null,
            "align_content": null,
            "visibility": null,
            "align_self": null,
            "height": null,
            "min_height": null,
            "padding": null,
            "grid_auto_rows": null,
            "grid_gap": null,
            "max_width": null,
            "order": null,
            "_view_module_version": "1.2.0",
            "grid_template_areas": null,
            "object_position": null,
            "object_fit": null,
            "grid_auto_columns": null,
            "margin": null,
            "display": null,
            "left": null
          }
        },
        "9fb26fbeb66e4779a63220ab0e6f97dc": {
          "model_module": "@jupyter-widgets/controls",
          "model_name": "IntProgressModel",
          "state": {
            "_view_name": "ProgressView",
            "style": "IPY_MODEL_d5e94e9c988249d8a49293bed7fc197c",
            "_dom_classes": [],
            "description": "",
            "_model_name": "IntProgressModel",
            "bar_style": "success",
            "max": 1,
            "_view_module": "@jupyter-widgets/controls",
            "_model_module_version": "1.5.0",
            "value": 1,
            "_view_count": null,
            "_view_module_version": "1.5.0",
            "orientation": "horizontal",
            "min": 0,
            "description_tooltip": null,
            "_model_module": "@jupyter-widgets/controls",
            "layout": "IPY_MODEL_8795a3f55d504b9bbff5d101ea82b44f"
          }
        },
        "c2f89930ad364866ad6f6d0669450c03": {
          "model_module": "@jupyter-widgets/controls",
          "model_name": "HTMLModel",
          "state": {
            "_view_name": "HTMLView",
            "style": "IPY_MODEL_ba937a54297c490389098438c0ad588a",
            "_dom_classes": [],
            "description": "",
            "_model_name": "HTMLModel",
            "placeholder": "​",
            "_view_module": "@jupyter-widgets/controls",
            "_model_module_version": "1.5.0",
            "value": " 32768/? [00:00&lt;00:00, 84790.55it/s]",
            "_view_count": null,
            "_view_module_version": "1.5.0",
            "description_tooltip": null,
            "_model_module": "@jupyter-widgets/controls",
            "layout": "IPY_MODEL_6f0f3c225a6643a8acb557ea25a1ff5d"
          }
        },
        "d5e94e9c988249d8a49293bed7fc197c": {
          "model_module": "@jupyter-widgets/controls",
          "model_name": "ProgressStyleModel",
          "state": {
            "_view_name": "StyleView",
            "_model_name": "ProgressStyleModel",
            "description_width": "initial",
            "_view_module": "@jupyter-widgets/base",
            "_model_module_version": "1.5.0",
            "_view_count": null,
            "_view_module_version": "1.2.0",
            "bar_color": null,
            "_model_module": "@jupyter-widgets/controls"
          }
        },
        "8795a3f55d504b9bbff5d101ea82b44f": {
          "model_module": "@jupyter-widgets/base",
          "model_name": "LayoutModel",
          "state": {
            "_view_name": "LayoutView",
            "grid_template_rows": null,
            "right": null,
            "justify_content": null,
            "_view_module": "@jupyter-widgets/base",
            "overflow": null,
            "_model_module_version": "1.2.0",
            "_view_count": null,
            "flex_flow": null,
            "width": null,
            "min_width": null,
            "border": null,
            "align_items": null,
            "bottom": null,
            "_model_module": "@jupyter-widgets/base",
            "top": null,
            "grid_column": null,
            "overflow_y": null,
            "overflow_x": null,
            "grid_auto_flow": null,
            "grid_area": null,
            "grid_template_columns": null,
            "flex": null,
            "_model_name": "LayoutModel",
            "justify_items": null,
            "grid_row": null,
            "max_height": null,
            "align_content": null,
            "visibility": null,
            "align_self": null,
            "height": null,
            "min_height": null,
            "padding": null,
            "grid_auto_rows": null,
            "grid_gap": null,
            "max_width": null,
            "order": null,
            "_view_module_version": "1.2.0",
            "grid_template_areas": null,
            "object_position": null,
            "object_fit": null,
            "grid_auto_columns": null,
            "margin": null,
            "display": null,
            "left": null
          }
        },
        "ba937a54297c490389098438c0ad588a": {
          "model_module": "@jupyter-widgets/controls",
          "model_name": "DescriptionStyleModel",
          "state": {
            "_view_name": "StyleView",
            "_model_name": "DescriptionStyleModel",
            "description_width": "",
            "_view_module": "@jupyter-widgets/base",
            "_model_module_version": "1.5.0",
            "_view_count": null,
            "_view_module_version": "1.2.0",
            "_model_module": "@jupyter-widgets/controls"
          }
        },
        "6f0f3c225a6643a8acb557ea25a1ff5d": {
          "model_module": "@jupyter-widgets/base",
          "model_name": "LayoutModel",
          "state": {
            "_view_name": "LayoutView",
            "grid_template_rows": null,
            "right": null,
            "justify_content": null,
            "_view_module": "@jupyter-widgets/base",
            "overflow": null,
            "_model_module_version": "1.2.0",
            "_view_count": null,
            "flex_flow": null,
            "width": null,
            "min_width": null,
            "border": null,
            "align_items": null,
            "bottom": null,
            "_model_module": "@jupyter-widgets/base",
            "top": null,
            "grid_column": null,
            "overflow_y": null,
            "overflow_x": null,
            "grid_auto_flow": null,
            "grid_area": null,
            "grid_template_columns": null,
            "flex": null,
            "_model_name": "LayoutModel",
            "justify_items": null,
            "grid_row": null,
            "max_height": null,
            "align_content": null,
            "visibility": null,
            "align_self": null,
            "height": null,
            "min_height": null,
            "padding": null,
            "grid_auto_rows": null,
            "grid_gap": null,
            "max_width": null,
            "order": null,
            "_view_module_version": "1.2.0",
            "grid_template_areas": null,
            "object_position": null,
            "object_fit": null,
            "grid_auto_columns": null,
            "margin": null,
            "display": null,
            "left": null
          }
        },
        "eb9bf5bf3ec34e01b27d25d6f1f25b63": {
          "model_module": "@jupyter-widgets/controls",
          "model_name": "HBoxModel",
          "state": {
            "_view_name": "HBoxView",
            "_dom_classes": [],
            "_model_name": "HBoxModel",
            "_view_module": "@jupyter-widgets/controls",
            "_model_module_version": "1.5.0",
            "_view_count": null,
            "_view_module_version": "1.5.0",
            "box_style": "",
            "layout": "IPY_MODEL_f6a7e75c7dee48b7b91e6a3a141fb10b",
            "_model_module": "@jupyter-widgets/controls",
            "children": [
              "IPY_MODEL_c86905af2db64619b43ef6b14f8c8921",
              "IPY_MODEL_18f1cfc2a4234b25999f89c655b12a88"
            ]
          }
        },
        "f6a7e75c7dee48b7b91e6a3a141fb10b": {
          "model_module": "@jupyter-widgets/base",
          "model_name": "LayoutModel",
          "state": {
            "_view_name": "LayoutView",
            "grid_template_rows": null,
            "right": null,
            "justify_content": null,
            "_view_module": "@jupyter-widgets/base",
            "overflow": null,
            "_model_module_version": "1.2.0",
            "_view_count": null,
            "flex_flow": null,
            "width": null,
            "min_width": null,
            "border": null,
            "align_items": null,
            "bottom": null,
            "_model_module": "@jupyter-widgets/base",
            "top": null,
            "grid_column": null,
            "overflow_y": null,
            "overflow_x": null,
            "grid_auto_flow": null,
            "grid_area": null,
            "grid_template_columns": null,
            "flex": null,
            "_model_name": "LayoutModel",
            "justify_items": null,
            "grid_row": null,
            "max_height": null,
            "align_content": null,
            "visibility": null,
            "align_self": null,
            "height": null,
            "min_height": null,
            "padding": null,
            "grid_auto_rows": null,
            "grid_gap": null,
            "max_width": null,
            "order": null,
            "_view_module_version": "1.2.0",
            "grid_template_areas": null,
            "object_position": null,
            "object_fit": null,
            "grid_auto_columns": null,
            "margin": null,
            "display": null,
            "left": null
          }
        },
        "c86905af2db64619b43ef6b14f8c8921": {
          "model_module": "@jupyter-widgets/controls",
          "model_name": "IntProgressModel",
          "state": {
            "_view_name": "ProgressView",
            "style": "IPY_MODEL_62ce94dea3cc47fb8b803847e4e50b11",
            "_dom_classes": [],
            "description": "",
            "_model_name": "IntProgressModel",
            "bar_style": "success",
            "max": 1,
            "_view_module": "@jupyter-widgets/controls",
            "_model_module_version": "1.5.0",
            "value": 1,
            "_view_count": null,
            "_view_module_version": "1.5.0",
            "orientation": "horizontal",
            "min": 0,
            "description_tooltip": null,
            "_model_module": "@jupyter-widgets/controls",
            "layout": "IPY_MODEL_b08e6dcda0b347239fbf6bba5cc55412"
          }
        },
        "18f1cfc2a4234b25999f89c655b12a88": {
          "model_module": "@jupyter-widgets/controls",
          "model_name": "HTMLModel",
          "state": {
            "_view_name": "HTMLView",
            "style": "IPY_MODEL_c13307d480e04495b1d0bc4133e06618",
            "_dom_classes": [],
            "description": "",
            "_model_name": "HTMLModel",
            "placeholder": "​",
            "_view_module": "@jupyter-widgets/controls",
            "_model_module_version": "1.5.0",
            "value": " 1654784/? [00:00&lt;00:00, 5937385.55it/s]",
            "_view_count": null,
            "_view_module_version": "1.5.0",
            "description_tooltip": null,
            "_model_module": "@jupyter-widgets/controls",
            "layout": "IPY_MODEL_fbff94d5106845a9ac18de364a5e73a8"
          }
        },
        "62ce94dea3cc47fb8b803847e4e50b11": {
          "model_module": "@jupyter-widgets/controls",
          "model_name": "ProgressStyleModel",
          "state": {
            "_view_name": "StyleView",
            "_model_name": "ProgressStyleModel",
            "description_width": "initial",
            "_view_module": "@jupyter-widgets/base",
            "_model_module_version": "1.5.0",
            "_view_count": null,
            "_view_module_version": "1.2.0",
            "bar_color": null,
            "_model_module": "@jupyter-widgets/controls"
          }
        },
        "b08e6dcda0b347239fbf6bba5cc55412": {
          "model_module": "@jupyter-widgets/base",
          "model_name": "LayoutModel",
          "state": {
            "_view_name": "LayoutView",
            "grid_template_rows": null,
            "right": null,
            "justify_content": null,
            "_view_module": "@jupyter-widgets/base",
            "overflow": null,
            "_model_module_version": "1.2.0",
            "_view_count": null,
            "flex_flow": null,
            "width": null,
            "min_width": null,
            "border": null,
            "align_items": null,
            "bottom": null,
            "_model_module": "@jupyter-widgets/base",
            "top": null,
            "grid_column": null,
            "overflow_y": null,
            "overflow_x": null,
            "grid_auto_flow": null,
            "grid_area": null,
            "grid_template_columns": null,
            "flex": null,
            "_model_name": "LayoutModel",
            "justify_items": null,
            "grid_row": null,
            "max_height": null,
            "align_content": null,
            "visibility": null,
            "align_self": null,
            "height": null,
            "min_height": null,
            "padding": null,
            "grid_auto_rows": null,
            "grid_gap": null,
            "max_width": null,
            "order": null,
            "_view_module_version": "1.2.0",
            "grid_template_areas": null,
            "object_position": null,
            "object_fit": null,
            "grid_auto_columns": null,
            "margin": null,
            "display": null,
            "left": null
          }
        },
        "c13307d480e04495b1d0bc4133e06618": {
          "model_module": "@jupyter-widgets/controls",
          "model_name": "DescriptionStyleModel",
          "state": {
            "_view_name": "StyleView",
            "_model_name": "DescriptionStyleModel",
            "description_width": "",
            "_view_module": "@jupyter-widgets/base",
            "_model_module_version": "1.5.0",
            "_view_count": null,
            "_view_module_version": "1.2.0",
            "_model_module": "@jupyter-widgets/controls"
          }
        },
        "fbff94d5106845a9ac18de364a5e73a8": {
          "model_module": "@jupyter-widgets/base",
          "model_name": "LayoutModel",
          "state": {
            "_view_name": "LayoutView",
            "grid_template_rows": null,
            "right": null,
            "justify_content": null,
            "_view_module": "@jupyter-widgets/base",
            "overflow": null,
            "_model_module_version": "1.2.0",
            "_view_count": null,
            "flex_flow": null,
            "width": null,
            "min_width": null,
            "border": null,
            "align_items": null,
            "bottom": null,
            "_model_module": "@jupyter-widgets/base",
            "top": null,
            "grid_column": null,
            "overflow_y": null,
            "overflow_x": null,
            "grid_auto_flow": null,
            "grid_area": null,
            "grid_template_columns": null,
            "flex": null,
            "_model_name": "LayoutModel",
            "justify_items": null,
            "grid_row": null,
            "max_height": null,
            "align_content": null,
            "visibility": null,
            "align_self": null,
            "height": null,
            "min_height": null,
            "padding": null,
            "grid_auto_rows": null,
            "grid_gap": null,
            "max_width": null,
            "order": null,
            "_view_module_version": "1.2.0",
            "grid_template_areas": null,
            "object_position": null,
            "object_fit": null,
            "grid_auto_columns": null,
            "margin": null,
            "display": null,
            "left": null
          }
        },
        "3d927eff90ea407f81c842e01520f2ea": {
          "model_module": "@jupyter-widgets/controls",
          "model_name": "HBoxModel",
          "state": {
            "_view_name": "HBoxView",
            "_dom_classes": [],
            "_model_name": "HBoxModel",
            "_view_module": "@jupyter-widgets/controls",
            "_model_module_version": "1.5.0",
            "_view_count": null,
            "_view_module_version": "1.5.0",
            "box_style": "",
            "layout": "IPY_MODEL_b86d464339814889ba6caca043a4569e",
            "_model_module": "@jupyter-widgets/controls",
            "children": [
              "IPY_MODEL_84e981b7014048008e7dc790d774fb0b",
              "IPY_MODEL_47005d8fbd954b1ea31882cea29e0b9c"
            ]
          }
        },
        "b86d464339814889ba6caca043a4569e": {
          "model_module": "@jupyter-widgets/base",
          "model_name": "LayoutModel",
          "state": {
            "_view_name": "LayoutView",
            "grid_template_rows": null,
            "right": null,
            "justify_content": null,
            "_view_module": "@jupyter-widgets/base",
            "overflow": null,
            "_model_module_version": "1.2.0",
            "_view_count": null,
            "flex_flow": null,
            "width": null,
            "min_width": null,
            "border": null,
            "align_items": null,
            "bottom": null,
            "_model_module": "@jupyter-widgets/base",
            "top": null,
            "grid_column": null,
            "overflow_y": null,
            "overflow_x": null,
            "grid_auto_flow": null,
            "grid_area": null,
            "grid_template_columns": null,
            "flex": null,
            "_model_name": "LayoutModel",
            "justify_items": null,
            "grid_row": null,
            "max_height": null,
            "align_content": null,
            "visibility": null,
            "align_self": null,
            "height": null,
            "min_height": null,
            "padding": null,
            "grid_auto_rows": null,
            "grid_gap": null,
            "max_width": null,
            "order": null,
            "_view_module_version": "1.2.0",
            "grid_template_areas": null,
            "object_position": null,
            "object_fit": null,
            "grid_auto_columns": null,
            "margin": null,
            "display": null,
            "left": null
          }
        },
        "84e981b7014048008e7dc790d774fb0b": {
          "model_module": "@jupyter-widgets/controls",
          "model_name": "IntProgressModel",
          "state": {
            "_view_name": "ProgressView",
            "style": "IPY_MODEL_41fa2f753db04f20960a9a84c4d182e4",
            "_dom_classes": [],
            "description": "",
            "_model_name": "IntProgressModel",
            "bar_style": "info",
            "max": 1,
            "_view_module": "@jupyter-widgets/controls",
            "_model_module_version": "1.5.0",
            "value": 0,
            "_view_count": null,
            "_view_module_version": "1.5.0",
            "orientation": "horizontal",
            "min": 0,
            "description_tooltip": null,
            "_model_module": "@jupyter-widgets/controls",
            "layout": "IPY_MODEL_c2435fcc530a4ccb86cb50faf66980c2"
          }
        },
        "47005d8fbd954b1ea31882cea29e0b9c": {
          "model_module": "@jupyter-widgets/controls",
          "model_name": "HTMLModel",
          "state": {
            "_view_name": "HTMLView",
            "style": "IPY_MODEL_ee9d51d0884b409fa3f021f672008e3f",
            "_dom_classes": [],
            "description": "",
            "_model_name": "HTMLModel",
            "placeholder": "​",
            "_view_module": "@jupyter-widgets/controls",
            "_model_module_version": "1.5.0",
            "value": " 0/? [00:00&lt;?, ?it/s]",
            "_view_count": null,
            "_view_module_version": "1.5.0",
            "description_tooltip": null,
            "_model_module": "@jupyter-widgets/controls",
            "layout": "IPY_MODEL_62b3a8d70cb7481d84c808633635a038"
          }
        },
        "41fa2f753db04f20960a9a84c4d182e4": {
          "model_module": "@jupyter-widgets/controls",
          "model_name": "ProgressStyleModel",
          "state": {
            "_view_name": "StyleView",
            "_model_name": "ProgressStyleModel",
            "description_width": "initial",
            "_view_module": "@jupyter-widgets/base",
            "_model_module_version": "1.5.0",
            "_view_count": null,
            "_view_module_version": "1.2.0",
            "bar_color": null,
            "_model_module": "@jupyter-widgets/controls"
          }
        },
        "c2435fcc530a4ccb86cb50faf66980c2": {
          "model_module": "@jupyter-widgets/base",
          "model_name": "LayoutModel",
          "state": {
            "_view_name": "LayoutView",
            "grid_template_rows": null,
            "right": null,
            "justify_content": null,
            "_view_module": "@jupyter-widgets/base",
            "overflow": null,
            "_model_module_version": "1.2.0",
            "_view_count": null,
            "flex_flow": null,
            "width": null,
            "min_width": null,
            "border": null,
            "align_items": null,
            "bottom": null,
            "_model_module": "@jupyter-widgets/base",
            "top": null,
            "grid_column": null,
            "overflow_y": null,
            "overflow_x": null,
            "grid_auto_flow": null,
            "grid_area": null,
            "grid_template_columns": null,
            "flex": null,
            "_model_name": "LayoutModel",
            "justify_items": null,
            "grid_row": null,
            "max_height": null,
            "align_content": null,
            "visibility": null,
            "align_self": null,
            "height": null,
            "min_height": null,
            "padding": null,
            "grid_auto_rows": null,
            "grid_gap": null,
            "max_width": null,
            "order": null,
            "_view_module_version": "1.2.0",
            "grid_template_areas": null,
            "object_position": null,
            "object_fit": null,
            "grid_auto_columns": null,
            "margin": null,
            "display": null,
            "left": null
          }
        },
        "ee9d51d0884b409fa3f021f672008e3f": {
          "model_module": "@jupyter-widgets/controls",
          "model_name": "DescriptionStyleModel",
          "state": {
            "_view_name": "StyleView",
            "_model_name": "DescriptionStyleModel",
            "description_width": "",
            "_view_module": "@jupyter-widgets/base",
            "_model_module_version": "1.5.0",
            "_view_count": null,
            "_view_module_version": "1.2.0",
            "_model_module": "@jupyter-widgets/controls"
          }
        },
        "62b3a8d70cb7481d84c808633635a038": {
          "model_module": "@jupyter-widgets/base",
          "model_name": "LayoutModel",
          "state": {
            "_view_name": "LayoutView",
            "grid_template_rows": null,
            "right": null,
            "justify_content": null,
            "_view_module": "@jupyter-widgets/base",
            "overflow": null,
            "_model_module_version": "1.2.0",
            "_view_count": null,
            "flex_flow": null,
            "width": null,
            "min_width": null,
            "border": null,
            "align_items": null,
            "bottom": null,
            "_model_module": "@jupyter-widgets/base",
            "top": null,
            "grid_column": null,
            "overflow_y": null,
            "overflow_x": null,
            "grid_auto_flow": null,
            "grid_area": null,
            "grid_template_columns": null,
            "flex": null,
            "_model_name": "LayoutModel",
            "justify_items": null,
            "grid_row": null,
            "max_height": null,
            "align_content": null,
            "visibility": null,
            "align_self": null,
            "height": null,
            "min_height": null,
            "padding": null,
            "grid_auto_rows": null,
            "grid_gap": null,
            "max_width": null,
            "order": null,
            "_view_module_version": "1.2.0",
            "grid_template_areas": null,
            "object_position": null,
            "object_fit": null,
            "grid_auto_columns": null,
            "margin": null,
            "display": null,
            "left": null
          }
        }
      }
    }
  },
  "cells": [
    {
      "cell_type": "code",
      "metadata": {
        "id": "UVdMPTVLQ5OX"
      },
      "source": [
        ""
      ],
      "execution_count": null,
      "outputs": []
    },
    {
      "cell_type": "markdown",
      "metadata": {
        "id": "AtIpqBeZgqVq"
      },
      "source": [
        "# Classification\n",
        "\n",
        "## 1. Introduction\n",
        "So in our last lesson we went through regression, which is where we fit a function to continuous data (and for now, I want you to think of a function as a line, or a surface that goes through the data points). This week, we're going to go through **classification**.\n",
        "\n",
        "So remember last week when I mentioned that there are three problems that most AI methods aim to solve? In order, they were:\n",
        "\n",
        "1. Regression;\n",
        "2. Classification; and,\n",
        "3. Clustering.\n",
        "\n",
        "Well, this week, we're going to cover classification, which is where we have **discrete labeled data** (think of these as separate buckets, and we know the names of each bucket) and we're trying to figure out which bucket some new example belongs to. For example, say we have data on the spending habits of many different people -- a classification task might involve guessing if a person is a guy or a girl based on how they spend their money. This is different to regression, because regression requires that we guess an actual value (e.g. how much money they spend).\n",
        "\n",
        "As with regression, the goal of classification is that we learn a model that we can use to make predictions, except now, we aren't predicting a value, but a class. For example, say we were selling a product online, and we wanted to know how to spend our money on advertising to generate the most sales. One way to go about it would be to figure out who is buying your product, and target the with advertising. Figuring out who is buying your product is a **classification problem**. Similarly, imagine if we have a bunch of health data, and we want to know if someone has an illness -- again, this would fall into the realm of classification.\n",
        "\n",
        "So what does classification look like? What problem are we actually solving? I think a good intuition for that is to imagine something like this:\n",
        "\n",
        "![img](https://paperswithcode.com/media/thumbnails/task/task-0000001592-811f0118_3TU7fCb.jpg)\n",
        "\n",
        "So what are we looking at here? We have two separate groups (Class A and Class B), and we have a line separating them. This line is called the **decision boundary** -- it's the line where the probability of being from Class A or Class B is 50% (i.e. it could be either). Above this line, we know that the probability of being in class A is higher. Below this line, the probability of being in Class B is higher. The decision boundary isn't always so clear cut, for example:\n",
        "\n",
        "![img2](https://sebastianraschka.com/images/blog/2014/intro_supervised_learning/classify_example.png)\n",
        "\n",
        "We can see that sometimes we get examples of classes on the wrong side of the decision boundary. Rather it tells us that **on average** examples on one side of the boundary will belong to a given class. When we mis-classify classes, if we are looking at two classes, we call these **false positives** and **false negatives**. \n",
        "\n",
        "So how do we do this? We'll go through that next.\n",
        "\n",
        "## 2. Logistic Regression\n",
        "You'll notice that the title of this section includes regression, and that's because what we're doing is largely the same as what we did for regression. That is, we need the same four components:\n",
        "\n",
        "1. A dataset;\n",
        "2. A function that we can fit to the data by finding the right **parameters**;\n",
        "3. A cost function; and,\n",
        "4. An optimizer. \n",
        "\n",
        "As with last week, we won't worry about the last two components too much, since they will be taken care of for us in most ML libraries. Instead, we need to focus on the first two -- having a dataset, and having a function that we can learn the parameters of.\n",
        "\n",
        "So let's think about the dataset; we want a set of features -- the same as with regression -- but our target is no longer a continuous value. Rather, our target is a class (e.g. \"yes\" or \"no\", \"male\" or \"female\", or, for a more complex example, \"cat\" or \"dog\" or \"pig\").That is, we say that our target is a **label**, where the label is the name of the class. Our job is to predict this label!\n",
        "\n",
        "In the case where we have two labels, we can always reframe this as a \"yes\" or \"no\" question, which is **binary classification**. When we have more than two classes, we would call this **multi-class classification**. For the purposes of this notebook, and for the second part of Assignment 1, we'll be focusing on binary classification only.\n",
        "\n",
        "Okay, so what about the function, then? Let's think about it; say we have two classes, then we could have a function that outputs a single value between 0 and 1. If the value is $\\geq 0.5$, we could say that our function is predicting class A. Similarly, if it's $< 0.5$, we could say that it's predicting class B. We can extend this to any number of classes (say, A, B and C) by reformulating the problem as A vs B and C, B vs A and C, or C vs A and B. This is **logistic regression**.\n",
        "\n",
        "So what function can we use that has this property? That is, we can feed it a bunch of inputs, and it will always output a value between 0 and 1? The one we use is called the **logit** or **sigmoid function**:\n",
        "\n",
        "$$f(z) = \\frac{1}{1 + e^{-z}}$$\n",
        "\n",
        "Where $z$ is our input (we'll define this in a bit), and $e$ is Euler's number. Let's graph this function to see what it looks like:"
      ]
    },
    {
      "cell_type": "code",
      "metadata": {
        "id": "sDCB_TK0ousE",
        "colab": {
          "base_uri": "https://localhost:8080/",
          "height": 404
        },
        "outputId": "3f6a68b4-c398-46e9-d74b-94a54ca040ac"
      },
      "source": [
        "import numpy as np\n",
        "import matplotlib.pyplot as plt\n",
        "\n",
        "sigmoid = lambda z : 1/(1+np.exp(-z))\n",
        "\n",
        "zs = np.linspace(-10, 10, 1000)\n",
        "outputs = sigmoid(zs)\n",
        "\n",
        "plt.figure(figsize=(8,6))\n",
        "plt.plot(zs, outputs)\n",
        "plt.title(\"Logit or Sigmoid Function\")\n",
        "plt.xlabel(\"Z input\")\n",
        "plt.ylabel(\"Logit output\")\n",
        "plt.show()"
      ],
      "execution_count": null,
      "outputs": [
        {
          "output_type": "display_data",
          "data": {
            "image/png": "[encoded data removed]",
            "text/plain": [
              "<Figure size 576x432 with 1 Axes>"
            ]
          },
          "metadata": {
            "tags": [],
            "needs_background": "light"
          }
        }
      ]
    },
    {
      "cell_type": "markdown",
      "metadata": {
        "id": "ft2lzu8Epe1L"
      },
      "source": [
        "As we can see, this function always takes a value between 0 and 1. As $z \\rightarrow -\\infty$, $f(z) \\rightarrow 0$. Similarly, as $z \\rightarrow \\infty$, $f(z) \\rightarrow 1$. That is, we can think of this function as **squashing all of our input values** to the interval $(0, 1)$.\n",
        "\n",
        "Okay, so how do we use this with our features? Well, we can extend the same ideas that we used for regression to classification; that is, we let:\n",
        "\n",
        "$$z = \\alpha + \\beta X$$\n",
        "\n",
        "In the case where we only have one feature, and:\n",
        "\n",
        "$$z = \\alpha + \\beta_1 X_1 + \\beta_2 X_2 + ... + \\beta_n X_n$$\n",
        "\n",
        "When we have multiple features. Similar to regression, our goal is to find the parameters $\\alpha$ and $\\beta$ that let our function output $f(z) \\geq 0.5$ for our target labels. A good way to think of this is that we're doing **the same thing as we did with linear regression, except now, we're passing the output through a squashing function so that it's between 0 and 1**.\n",
        "\n",
        "## 3. An Example with Dummy Data\n",
        "\n",
        "Let's generate some dummy data -- here, we'll have two separate clusters that we'll call A and B, and we want to train a classifier to distinguish between them. The features will be the values of X and Y."
      ]
    },
    {
      "cell_type": "code",
      "metadata": {
        "id": "lqfi_EAu46w2",
        "colab": {
          "base_uri": "https://localhost:8080/",
          "height": 513
        },
        "outputId": "314884b1-7a8c-445d-a8ee-1946c13d1637"
      },
      "source": [
        "import random\n",
        "\n",
        "mux_1, stdx_1 = 1.5, 0.5\n",
        "muy_1, stdy_1 = 1.5, 0.5\n",
        "\n",
        "mux_2, stdx_2 = -0.5, 0.5\n",
        "muy_2, stdy_2 = -0.5, 0.5\n",
        "\n",
        "samples = 500\n",
        "\n",
        "# cluster 1\n",
        "x_1 = np.array([random.gauss(mux_1, stdx_1) for _ in range(samples)])\n",
        "y_1 = np.array([random.gauss(muy_1, stdy_1) for _ in range(samples)])\n",
        "\n",
        "# cluster 2\n",
        "x_2 = np.array([random.gauss(mux_2, stdx_2) for _ in range(samples)])\n",
        "y_2 = np.array([random.gauss(muy_2, stdy_2) for _ in range(samples)])\n",
        "\n",
        "# plot our clusters\n",
        "plt.figure(figsize=(8,8))\n",
        "plt.scatter(x_1, y_1, alpha=0.5)\n",
        "plt.scatter(x_2, y_2, alpha=0.5)\n",
        "plt.title(\"Number of Pets Owned by Gender\")\n",
        "plt.xlabel(\"Number of Cats Owned\")\n",
        "plt.ylabel(\"Number of Dogs Owned\")\n",
        "plt.legend([\"boys\", \"girls\"])\n",
        "plt.show()"
      ],
      "execution_count": null,
      "outputs": [
        {
          "output_type": "display_data",
          "data": {
            "image/png": "[encoded data removed]",
            "text/plain": [
              "<Figure size 576x576 with 1 Axes>"
            ]
          },
          "metadata": {
            "tags": [],
            "needs_background": "light"
          }
        }
      ]
    },
    {
      "cell_type": "markdown",
      "metadata": {
        "id": "-XfAjcTmEMl7"
      },
      "source": [
        "Now that we have some data, let's create our features (the **$x$** and **$y$** locations of the two clusters:"
      ]
    },
    {
      "cell_type": "code",
      "metadata": {
        "id": "xmftZJDnpFvQ",
        "colab": {
          "base_uri": "https://localhost:8080/",
          "height": 51
        },
        "outputId": "f9d1b509-db2f-4cb2-84d6-ef1cb3bfdb38"
      },
      "source": [
        "# combine into a set of features\n",
        "features = np.hstack([np.vstack([np.ones(x_1.shape), x_1, y_1]),            # xy of A\n",
        "                      np.vstack([np.ones(x_2.shape), x_2, y_2])])           # xy of B\n",
        "\n",
        "# combine into a set of labels\n",
        "labels = np.hstack([np.ones(x_1.shape), np.zeros(x_2.shape)]).reshape(1, -1)\n",
        "\n",
        "print(features.shape)\n",
        "print(labels.shape)"
      ],
      "execution_count": null,
      "outputs": [
        {
          "output_type": "stream",
          "text": [
            "(3, 1000)\n",
            "(1, 1000)\n"
          ],
          "name": "stdout"
        }
      ]
    },
    {
      "cell_type": "markdown",
      "metadata": {
        "id": "cevbMBoyExD1"
      },
      "source": [
        "So this looks a bit confusing, so let's tie it back to our regression example. In regression, we learn parameters for a function $f(.) = \\alpha + \\beta_1 x_1 + ... + \\beta_n x_n$. Let's re-frame this as being:\n",
        "\n",
        "$$f(\\theta) = \\Theta^TX$$\n",
        "\n",
        "Where $\\theta$ is a **vector** of parameters. That is:\n",
        "\n",
        "$$\\Theta =\\begin{bmatrix}\n",
        "        \\theta_0 & \\theta_1 & ... & \\theta_n\n",
        "\\end{bmatrix}^T$$\n",
        "\n",
        "And $X$ is a **vector** of feature values (i.e. the $x$ and $y$ locations of each point in this case, or the values of LSTAT and RM in our regression example last week). This looks like:\n",
        "\n",
        "$$X =\\begin{bmatrix}\n",
        "        1 & x_1 & ... & x_n\n",
        "\\end{bmatrix}^T$$\n",
        "\n",
        "Multiplying this out gives us $\\theta_0 + \\theta_1 x_1 + ... + \\theta_n x_n$, where the $\\theta_0$ is there to take the place of $\\alpha$ in our original equation.\n",
        "\n",
        "In the below cell, I'll define a **cost function** (again, don't worry too much about this), and find the parameters $\\theta$ that minimize this cost using an **optimization method** (an algorithm for finding the inputs that give the minimum value of a cost function)."
      ]
    },
    {
      "cell_type": "code",
      "metadata": {
        "id": "AM2CwJnk5KMl",
        "colab": {
          "base_uri": "https://localhost:8080/",
          "height": 153
        },
        "outputId": "ae55fb54-0bb3-4519-c5f5-8648049595db"
      },
      "source": [
        "from scipy.optimize import minimize\n",
        "\n",
        "def cost(theta, x, y):\n",
        "    \"\"\"\n",
        "    Our cost function -- don't worry about this for now -- this is generally \n",
        "    given to us by the problem. E.g. for regression, we use MSE. For sigmoid \n",
        "    classification, we use Binary Cross Entropy (the loss function here).\n",
        "    \"\"\"\n",
        "    h = sigmoid(theta.reshape(1, -1).dot(x))\n",
        "    loss = (-y*np.log(h)-(1-y)*np.log(1-h)).mean()\n",
        "    return loss\n",
        "\n",
        "# here is where I call a minimize function\n",
        "theta_0 = np.random.randn(1,3)\n",
        "theta = minimize(cost, theta_0, args=(features, labels), method=\"CG\", tol=1e-3)\n",
        "print(\"Found weight parameters: {}\".format(theta.x))\n",
        "\n",
        "test_pred = sigmoid(np.array(theta.x).reshape(1,-1).dot(features))\n",
        "test_pred = (test_pred >= 0.5)*1\n",
        "\n",
        "print(\"Predictions\")\n",
        "print(test_pred[:,:5])\n",
        "print()\n",
        "print(\"Labels\")\n",
        "print(labels[:, :5])\n",
        "print()\n",
        "print(\"Classifier accuracy: {:.5f}\".format((pred == labels).mean()))"
      ],
      "execution_count": null,
      "outputs": [
        {
          "output_type": "stream",
          "text": [
            "Found weight parameters: [-5.79608845  5.05310527  6.25165454]\n",
            "Predictions\n",
            "[[1 1 1 1 1]]\n",
            "\n",
            "Labels\n",
            "[[1. 1. 1. 1. 1.]]\n",
            "\n",
            "Classifier accuracy: 0.99600\n"
          ],
          "name": "stdout"
        }
      ]
    },
    {
      "cell_type": "markdown",
      "metadata": {
        "id": "6rN9f4ezIrIV"
      },
      "source": [
        "So here, we can see that our classifier has found a number of weights, and has an accuracy of 99.7% on the training data (this is a toy problem, so that's to be expected -- normally you would be suspicious of such a high accuracy). In effect, what we've done is a form of **multilinear regression**, since we have two features -- $x$ and $y$, and we've used them to fit a function that chooses between 1 and 0 (as opposed to linear regression, where we choose a value).\n",
        "\n",
        "Now that that's done, let's visualize what's happening:"
      ]
    },
    {
      "cell_type": "code",
      "metadata": {
        "id": "FZP6WWkr5Mfn",
        "colab": {
          "base_uri": "https://localhost:8080/",
          "height": 530
        },
        "outputId": "5bafe684-b162-4030-8d72-69c5ac529b2d"
      },
      "source": [
        "min_x_val = min(x_1.min(), x_2.min())\n",
        "max_x_val = max(x_1.max(), x_2.max())\n",
        "\n",
        "min_y_val = min(x_1.min(), x_2.min())\n",
        "max_y_val = max(x_1.max(), x_2.max())\n",
        "\n",
        "x_, y_ = np.meshgrid(np.linspace(min_x_val, max_x_val, 50), np.linspace(min_y_val, max_y_val, 50))\n",
        "\n",
        "u = np.linspace(min_x_val, max_x_val, 50)\n",
        "data = []\n",
        "for i in range(50):\n",
        "    v = y_[i,:]\n",
        "    xs = np.array([np.ones(u.shape), u, v])\n",
        "    p = sigmoid(np.array(theta.x).reshape(1,-1).dot(xs))\n",
        "    data.append(p[0,:])\n",
        "data = np.vstack(data)\n",
        "\n",
        "thetas = np.array(theta.x).reshape(-1,1)\n",
        "new_data = np.array([1, 1, 2]).reshape(-1, 1)             # [1, x, y]\n",
        "new_pred = sigmoid(thetas.T.dot(new_data))\n",
        "print(\"Predicted label is: \", new_pred)\n",
        "\n",
        "plt.figure(figsize=(8,8))\n",
        "plt.scatter(x_1, y_1, alpha=0.5)\n",
        "plt.scatter(x_2, y_2, alpha=0.5)\n",
        "plt.contour(x_, y_, data, [0.5], linewidths=2.5, linestyles=\"dashed\", colors=\"r\")\n",
        "plt.plot(new_data[1,:], new_data[2,:], \"yo\", markersize=15, markeredgecolor=\"k\")\n",
        "plt.title(\"Number of Pets Owned by Gender\")\n",
        "plt.xlabel(\"Number of Cats Owned\")\n",
        "plt.ylabel(\"Number of Dogs Owned\")\n",
        "plt.legend([\"prediction\", \"boys\", \"girls\"])\n",
        "plt.show()"
      ],
      "execution_count": null,
      "outputs": [
        {
          "output_type": "stream",
          "text": [
            "Predicted label is:  [[0.99999219]]\n"
          ],
          "name": "stdout"
        },
        {
          "output_type": "display_data",
          "data": {
            "image/png": "[encoded data removed]",
            "text/plain": [
              "<Figure size 576x576 with 1 Axes>"
            ]
          },
          "metadata": {
            "tags": [],
            "needs_background": "light"
          }
        }
      ]
    },
    {
      "cell_type": "markdown",
      "metadata": {
        "id": "YZ9C__5KIyFf"
      },
      "source": [
        "As we can see, we get a line that splits the data roughly down the middle. This is the **decision boundary** that separates the two clusters. We can see that for this toy example, our model predicts that above this line, we could predict that a person who owns 1 cat and 2 dogs is probably a boy. Likewise, someone who owns no cats or dogs is most likely a girl.\n",
        "\n",
        "### 3.1 Linear Separability\n",
        "One potential hiccup to be aware of is the potential for data that isn't linearly separable. For example, consider the following data:"
      ]
    },
    {
      "cell_type": "code",
      "metadata": {
        "id": "-bZYmRsB5hkr",
        "colab": {
          "base_uri": "https://localhost:8080/",
          "height": 513
        },
        "outputId": "bb8d3575-2e45-4d5a-ebc8-d2bf0d6f805d"
      },
      "source": [
        "samples = 250\n",
        "\n",
        "x_1 = np.array([random.gauss(0, 0.1) for _ in range(samples)])\n",
        "y_1 = np.array([random.gauss(0, 0.1) for _ in range(samples)])\n",
        "\n",
        "x_2 = np.array([random.gauss(1, 0.1) for _ in range(samples)])\n",
        "y_2 = np.array([random.gauss(0, 0.1) for _ in range(samples)])\n",
        "\n",
        "x_3 = np.array([random.gauss(0, 0.1) for _ in range(samples)])\n",
        "y_3 = np.array([random.gauss(1, 0.1) for _ in range(samples)])\n",
        "\n",
        "x_4 = np.array([random.gauss(1, 0.1) for _ in range(samples)])\n",
        "y_4 = np.array([random.gauss(1, 0.1) for _ in range(samples)])\n",
        "\n",
        "x1, y1 = np.hstack([x_1, x_4]), np.hstack([y_1, y_4])\n",
        "x2, y2 = np.hstack([x_2, x_3]), np.hstack([y_2, y_3])\n",
        "\n",
        "plt.figure(figsize=(8,8))\n",
        "plt.scatter(x1, y1, alpha=0.5)\n",
        "plt.scatter(x2, y2, alpha=0.5)\n",
        "plt.title(\"Number of Pets Owned by Gender\")\n",
        "plt.xlabel(\"Number of Cats Owned\")\n",
        "plt.ylabel(\"Number of Dogs Owned\")\n",
        "plt.legend([\"boys\", \"girls\"])\n",
        "plt.show()"
      ],
      "execution_count": null,
      "outputs": [
        {
          "output_type": "display_data",
          "data": {
            "image/png": "[encoded data removed]",
            "text/plain": [
              "<Figure size 576x576 with 1 Axes>"
            ]
          },
          "metadata": {
            "tags": [],
            "needs_background": "light"
          }
        }
      ]
    },
    {
      "cell_type": "markdown",
      "metadata": {
        "id": "LoOISyww5t87"
      },
      "source": [
        "Can't be linearly separated. That is, **there is no straight line that can be drawn so that all orange labels are on one side, and all blue labels are on the other**. We would need to draw a minimum of two lines to separate this dataset. The way we would typically handle this type of problem is with a **nonlinear function approximator** (i.e. something like a neural net, or an SVM).\n",
        "\n",
        "## 4. Using SKLearn and Real Data\n",
        "As I mentioned earlier, we won't worry too much about the cost function and optimizer -- instead, we'll work with SKLearn, where these are implemented for us. For this task, we will use the Pima Indian's Diabetes dataset, which you can find on Canvas under this week's course materials. Note that this task is **very similar to what you will be doing for the second part of assignment 1.**"
      ]
    },
    {
      "cell_type": "code",
      "metadata": {
        "id": "2Iq9At-gCMpg",
        "colab": {
          "base_uri": "https://localhost:8080/",
          "height": 34
        },
        "outputId": "865a1f7b-96eb-4e86-9fcc-05e5e1b3deb5"
      },
      "source": [
        "from google.colab import drive\n",
        "import pandas as pd\n",
        "\n",
        "drive.mount('/content/gdrive')"
      ],
      "execution_count": null,
      "outputs": [
        {
          "output_type": "stream",
          "text": [
            "Drive already mounted at /content/gdrive; to attempt to forcibly remount, call drive.mount(\"/content/gdrive\", force_remount=True).\n"
          ],
          "name": "stdout"
        }
      ]
    },
    {
      "cell_type": "markdown",
      "metadata": {
        "id": "OZNlWrapkLwE"
      },
      "source": [
        "Now, we'll load the dataset:"
      ]
    },
    {
      "cell_type": "code",
      "metadata": {
        "id": "lTiYV0PGkMHX",
        "colab": {
          "base_uri": "https://localhost:8080/",
          "height": 204
        },
        "outputId": "c6fb9bbd-b497-483b-9579-88db8b352434"
      },
      "source": [
        "dta_diabetes = pd.read_csv('/content/gdrive/My Drive/Colab Notebooks/diabetes.csv')\n",
        "#view first 5 rows\n",
        "dta_diabetes.head(5)"
      ],
      "execution_count": null,
      "outputs": [
        {
          "output_type": "execute_result",
          "data": {
            "text/html": [
              "<div>\n",
              "<style scoped>\n",
              "    .dataframe tbody tr th:only-of-type {\n",
              "        vertical-align: middle;\n",
              "    }\n",
              "\n",
              "    .dataframe tbody tr th {\n",
              "        vertical-align: top;\n",
              "    }\n",
              "\n",
              "    .dataframe thead th {\n",
              "        text-align: right;\n",
              "    }\n",
              "</style>\n",
              "<table border=\"1\" class=\"dataframe\">\n",
              "  <thead>\n",
              "    <tr style=\"text-align: right;\">\n",
              "      <th></th>\n",
              "      <th>Pregnancies</th>\n",
              "      <th>Glucose</th>\n",
              "      <th>BloodPressure</th>\n",
              "      <th>SkinThickness</th>\n",
              "      <th>Insulin</th>\n",
              "      <th>BMI</th>\n",
              "      <th>DiabetesPedigreeFunction</th>\n",
              "      <th>Age</th>\n",
              "      <th>Outcome</th>\n",
              "    </tr>\n",
              "  </thead>\n",
              "  <tbody>\n",
              "    <tr>\n",
              "      <th>0</th>\n",
              "      <td>6</td>\n",
              "      <td>148</td>\n",
              "      <td>72</td>\n",
              "      <td>35</td>\n",
              "      <td>0</td>\n",
              "      <td>33.6</td>\n",
              "      <td>0.627</td>\n",
              "      <td>50</td>\n",
              "      <td>1</td>\n",
              "    </tr>\n",
              "    <tr>\n",
              "      <th>1</th>\n",
              "      <td>1</td>\n",
              "      <td>85</td>\n",
              "      <td>66</td>\n",
              "      <td>29</td>\n",
              "      <td>0</td>\n",
              "      <td>26.6</td>\n",
              "      <td>0.351</td>\n",
              "      <td>31</td>\n",
              "      <td>0</td>\n",
              "    </tr>\n",
              "    <tr>\n",
              "      <th>2</th>\n",
              "      <td>8</td>\n",
              "      <td>183</td>\n",
              "      <td>64</td>\n",
              "      <td>0</td>\n",
              "      <td>0</td>\n",
              "      <td>23.3</td>\n",
              "      <td>0.672</td>\n",
              "      <td>32</td>\n",
              "      <td>1</td>\n",
              "    </tr>\n",
              "    <tr>\n",
              "      <th>3</th>\n",
              "      <td>1</td>\n",
              "      <td>89</td>\n",
              "      <td>66</td>\n",
              "      <td>23</td>\n",
              "      <td>94</td>\n",
              "      <td>28.1</td>\n",
              "      <td>0.167</td>\n",
              "      <td>21</td>\n",
              "      <td>0</td>\n",
              "    </tr>\n",
              "    <tr>\n",
              "      <th>4</th>\n",
              "      <td>0</td>\n",
              "      <td>137</td>\n",
              "      <td>40</td>\n",
              "      <td>35</td>\n",
              "      <td>168</td>\n",
              "      <td>43.1</td>\n",
              "      <td>2.288</td>\n",
              "      <td>33</td>\n",
              "      <td>1</td>\n",
              "    </tr>\n",
              "  </tbody>\n",
              "</table>\n",
              "</div>"
            ],
            "text/plain": [
              "   Pregnancies  Glucose  BloodPressure  ...  DiabetesPedigreeFunction  Age  Outcome\n",
              "0            6      148             72  ...                     0.627   50        1\n",
              "1            1       85             66  ...                     0.351   31        0\n",
              "2            8      183             64  ...                     0.672   32        1\n",
              "3            1       89             66  ...                     0.167   21        0\n",
              "4            0      137             40  ...                     2.288   33        1\n",
              "\n",
              "[5 rows x 9 columns]"
            ]
          },
          "metadata": {
            "tags": []
          },
          "execution_count": 5
        }
      ]
    },
    {
      "cell_type": "markdown",
      "metadata": {
        "id": "KQNxsuX8j3yk"
      },
      "source": [
        "Most of these are pretty self-explanatory here, so I won't put a table together this week. The pedigree function is just a function that predicts the likelihood of diabetes given a family history. Let's do what we did last week, and do a quick visualization of the data. **It doesn't normally make sense to do correlation between continuous and binary data like this**, so we'll just try a quick eyeball test to see how things look:\n"
      ]
    },
    {
      "cell_type": "code",
      "metadata": {
        "id": "6yvsCPk0pTmw",
        "colab": {
          "base_uri": "https://localhost:8080/",
          "height": 621
        },
        "outputId": "268a819a-78f1-4730-b9f7-a97486485a1a"
      },
      "source": [
        "mat_1 = dta_diabetes[dta_diabetes[\"Outcome\"] == 1]\n",
        "mat_2 = dta_diabetes[dta_diabetes[\"Outcome\"] == 0]\n",
        "plt.figure(figsize=(10,10))\n",
        "plt.scatter(mat_1[\"Glucose\"], mat_1[\"BMI\"], alpha=0.5)\n",
        "plt.scatter(mat_2[\"Glucose\"], mat_2[\"BMI\"], alpha=0.5)\n",
        "plt.title(\"Glucose vs BMI Diabetes Clusters\")\n",
        "plt.xlabel(\"Blood Glucose Levels\")\n",
        "plt.ylabel(\"BMI\")\n",
        "plt.legend([\"diabetes present\", \"no diabetes present\"])\n",
        "plt.show()"
      ],
      "execution_count": null,
      "outputs": [
        {
          "output_type": "display_data",
          "data": {
            "image/png": "[encoded data removed]",
            "text/plain": [
              "<Figure size 720x720 with 1 Axes>"
            ]
          },
          "metadata": {
            "tags": [],
            "needs_background": "light"
          }
        }
      ]
    },
    {
      "cell_type": "markdown",
      "metadata": {
        "id": "Fa2SOsDmoxiJ"
      },
      "source": [
        "So as we would expect, we can see that there are indeed two reasonably distinct clusterings here, for blood glucose and BMI. That said, there's a fair bit of overlap between the groups, but hopefully a multilinear classifier will still give us a decent fit.\n",
        "\n",
        "Next, we'll slice the features that we're going to use to predice whether or not a person has diabetes:"
      ]
    },
    {
      "cell_type": "code",
      "metadata": {
        "id": "wePaO1VZCeTu"
      },
      "source": [
        "predictors = [\"Pregnancies\", \n",
        "              \"Glucose\", \n",
        "              \"BloodPressure\", \n",
        "              \"SkinThickness\", \n",
        "              \"Insulin\", \n",
        "              \"BMI\", \n",
        "              \"DiabetesPedigreeFunction\",\n",
        "              \"Age\"]\n",
        "features = dta_diabetes[predictors] \n",
        "target = dta_diabetes[\"Outcome\"]"
      ],
      "execution_count": null,
      "outputs": []
    },
    {
      "cell_type": "markdown",
      "metadata": {
        "id": "IbfMUZifkuiV"
      },
      "source": [
        "Now to set up our train-test-split, the same as we did last week. Remember, the purpose of this is to separate a small portion of the data so that we can test on it, which helps us avoid overfitting to the training data:"
      ]
    },
    {
      "cell_type": "code",
      "metadata": {
        "id": "v4pnAcR-ChE-"
      },
      "source": [
        "from sklearn.model_selection import train_test_split\n",
        "\n",
        "X_train,X_test, y_train, y_test = train_test_split(features,target, test_size=0.25,\n",
        "random_state=0)"
      ],
      "execution_count": null,
      "outputs": []
    },
    {
      "cell_type": "markdown",
      "metadata": {
        "id": "GCpiwCiok-Fz"
      },
      "source": [
        "And now we'll fit the data. To do this, we'll use the **LogisticRegression** model in SKLearn. As with the linear regression model we used last week, we call the .fit() function to train it. I'll bump up the number of iterations, because the default (100) can sometimes not converge on this dataset (that is, it needs to take a few more steps in order to find the parameters that give us the lowest cost)."
      ]
    },
    {
      "cell_type": "code",
      "metadata": {
        "id": "meAiNiy5CkYG",
        "colab": {
          "base_uri": "https://localhost:8080/",
          "height": 102
        },
        "outputId": "5ad80e88-6c1e-4666-971f-a23d4ce2ced8"
      },
      "source": [
        "#import the logistic regression model\n",
        "from sklearn.linear_model import LogisticRegression\n",
        "\n",
        "#model instantiation\n",
        "diabetes1 = LogisticRegression(max_iter=1000)\n",
        "\n",
        "#fitting the model\n",
        "diabetes1.fit(X_train, y_train)"
      ],
      "execution_count": null,
      "outputs": [
        {
          "output_type": "execute_result",
          "data": {
            "text/plain": [
              "LogisticRegression(C=1.0, class_weight=None, dual=False, fit_intercept=True,\n",
              "                   intercept_scaling=1, l1_ratio=None, max_iter=1000,\n",
              "                   multi_class='auto', n_jobs=None, penalty='l2',\n",
              "                   random_state=None, solver='lbfgs', tol=0.0001, verbose=0,\n",
              "                   warm_start=False)"
            ]
          },
          "metadata": {
            "tags": []
          },
          "execution_count": 47
        }
      ]
    },
    {
      "cell_type": "markdown",
      "metadata": {
        "id": "AtCVyzJOmah1"
      },
      "source": [
        "Now that it's trained, let's it and see how accurate it is using the test data:"
      ]
    },
    {
      "cell_type": "code",
      "metadata": {
        "id": "GKBkm2islk6c",
        "colab": {
          "base_uri": "https://localhost:8080/",
          "height": 68
        },
        "outputId": "09781be3-b68e-4145-fa64-ebe3e7094f95"
      },
      "source": [
        "#make predictions\n",
        "pred1 = diabetes1.predict(X_test)\n",
        "print(\"Classifier Accuracy is:\")\n",
        "print((pred1 == y_test).sum()/len(y_test))\n",
        "print()"
      ],
      "execution_count": null,
      "outputs": [
        {
          "output_type": "stream",
          "text": [
            "Classifier Accuracy is:\n",
            "0.8020833333333334\n",
            "\n"
          ],
          "name": "stdout"
        }
      ]
    },
    {
      "cell_type": "markdown",
      "metadata": {
        "id": "29ua2RqFJisV"
      },
      "source": [
        "That's not bad! We would expect 50% accuracy if the classifier took random guesses (since we have two classes), but we're getting around 80%. Next, we'll look at our confusion matrix.\n",
        "\n",
        "### 4.1 Confusion Matrix\n",
        "\n",
        "Now that we've done that, let's generate a confusion matrix so that we can calculate a performance metrics. First up, the matrix:"
      ]
    },
    {
      "cell_type": "code",
      "metadata": {
        "id": "0QNohtUMCn1g",
        "colab": {
          "base_uri": "https://localhost:8080/",
          "height": 51
        },
        "outputId": "598263b1-8670-40ed-91a5-d174f686a5e8"
      },
      "source": [
        "from sklearn import metrics\n",
        "cnf_matrix = metrics.confusion_matrix(y_test, pred1) \n",
        "\n",
        "print(cnf_matrix)"
      ],
      "execution_count": null,
      "outputs": [
        {
          "output_type": "stream",
          "text": [
            "[[118  12]\n",
            " [ 26  36]]\n"
          ],
          "name": "stdout"
        }
      ]
    },
    {
      "cell_type": "markdown",
      "metadata": {
        "id": "rOfxvKDAaSpc"
      },
      "source": [
        "Now that we have that, let's use it to generate a heatmap that gives us our values:"
      ]
    },
    {
      "cell_type": "code",
      "metadata": {
        "id": "EO0xxHK6Ct7V",
        "colab": {
          "base_uri": "https://localhost:8080/",
          "height": 342
        },
        "outputId": "38718485-93bb-4311-b963-5f3c76075139"
      },
      "source": [
        "#create heatmaps\n",
        "# import required modules import numpy as np\n",
        "import matplotlib.pyplot as plt \n",
        "import seaborn as sns \n",
        "import numpy as np\n",
        "%matplotlib inline\n",
        "\n",
        "#store class names in array\n",
        "cls_name = [1,0]\n",
        "\n",
        "#create subplots\n",
        "fig, ax = plt.subplots()\n",
        "#setting tick marks\n",
        "t_marks = np.arange(len(cls_name)) \n",
        "plt.xticks(t_marks,cls_name) \n",
        "plt.yticks(t_marks,cls_name)\n",
        "\n",
        "#creating heatmaps\n",
        "sns.heatmap(pd.DataFrame(cnf_matrix), annot=True, cmap=\"copper\", fmt=\"g\")\n",
        "ax.xaxis.set_label_position(\"top\")\n",
        "plt.tight_layout()\n",
        "plt.title(\"Confusion Matrix\", y=1.1) \n",
        "plt.ylabel(\"Predicted\") \n",
        "plt.xlabel(\"Actual\")"
      ],
      "execution_count": null,
      "outputs": [
        {
          "output_type": "execute_result",
          "data": {
            "text/plain": [
              "Text(0.5, 257.44, 'Actual')"
            ]
          },
          "metadata": {
            "tags": []
          },
          "execution_count": 123
        },
        {
          "output_type": "display_data",
          "data": {
            "image/png": "[encoded data removed]",
            "text/plain": [
              "<Figure size 432x288 with 2 Axes>"
            ]
          },
          "metadata": {
            "tags": [],
            "needs_background": "light"
          }
        }
      ]
    },
    {
      "cell_type": "markdown",
      "metadata": {
        "id": "yrebBO7LCK9R"
      },
      "source": [
        "So what does this tell us? It tells us that we have 118 **true positives** and 36 **true negatives**. Interestingly, the classifier predicts **false positives** more than twice as oftens as **false negatives**. We can use these to calculate our precision, recall, accuracy, sensitivity, specificity, etc.\n",
        "\n",
        "**Why do we need these other metrics?**\n",
        "\n",
        "Imagine we have a case where we're trying to predict a rare disease, such that of 1000 people we test, only one person will have it. If our classifier always predicts \"negative\" on this data, it will be correct 999 out of 1000 times. As a result, it's important to measure the rate of true positives, true negatives, false positives, and false negatives, so we can tell if our classifier is actually producing a useful prediction.\n",
        "\n",
        "## 5. Neural Network Classifiers\n",
        "Okay, so I'm going to expand on some of the stuff I showed you last week, and demonstrate how we can use neural nets for classification. It's exactly the same as when we use the sigmoid function, except now we have a neural network as our parameters, rather than a linear combination of features. That is:\n",
        "\n",
        "$$g(\\theta) = 1/(1+e^{-f(\\theta)})$$ \n",
        "\n",
        "Where $g(\\theta)$ is a prediction value output by the network (i.e. a number in [0, 1] for two classes), and $f(\\theta)$ is the raw output of our neural network. This sounds complicated, but it's actually pretty straightforward. First, I'll import the dataset and then split it into train and test sets:"
      ]
    },
    {
      "cell_type": "code",
      "metadata": {
        "id": "DZzuJ7BQ5j9d",
        "colab": {
          "base_uri": "https://localhost:8080/",
          "height": 386,
          "referenced_widgets": [
            "0230fc1d4525454b90f74405b3927a27",
            "55f7ad9360c149939b5b03bc296b9e04",
            "42ff634717f24dd896405d321ea7432b",
            "d99e3075ccf44cf1af3a7874bfd5013c",
            "a2ae8b7139894beaa3c9bd9304fb9c86",
            "c5ddde683683404e8a87819913bb8a33",
            "747f9834784d4d61be455fc547be8607",
            "a416223c28b44793beecf99a04d87d87",
            "adb009525fef4d9b9d36f7cd4390b6b5",
            "b54f3733c2424191a89d0deaf0ceb28a",
            "9fb26fbeb66e4779a63220ab0e6f97dc",
            "c2f89930ad364866ad6f6d0669450c03",
            "d5e94e9c988249d8a49293bed7fc197c",
            "8795a3f55d504b9bbff5d101ea82b44f",
            "ba937a54297c490389098438c0ad588a",
            "6f0f3c225a6643a8acb557ea25a1ff5d",
            "eb9bf5bf3ec34e01b27d25d6f1f25b63",
            "f6a7e75c7dee48b7b91e6a3a141fb10b",
            "c86905af2db64619b43ef6b14f8c8921",
            "18f1cfc2a4234b25999f89c655b12a88",
            "62ce94dea3cc47fb8b803847e4e50b11",
            "b08e6dcda0b347239fbf6bba5cc55412",
            "c13307d480e04495b1d0bc4133e06618",
            "fbff94d5106845a9ac18de364a5e73a8",
            "3d927eff90ea407f81c842e01520f2ea",
            "b86d464339814889ba6caca043a4569e",
            "84e981b7014048008e7dc790d774fb0b",
            "47005d8fbd954b1ea31882cea29e0b9c",
            "41fa2f753db04f20960a9a84c4d182e4",
            "c2435fcc530a4ccb86cb50faf66980c2",
            "ee9d51d0884b409fa3f021f672008e3f",
            "62b3a8d70cb7481d84c808633635a038"
          ]
        },
        "outputId": "9d7526ad-e163-44da-e491-f3b1eb3a0712"
      },
      "source": [
        "import torch\n",
        "import torch.nn as nn\n",
        "import torch.nn.functional as F\n",
        "import torch.optim as optim\n",
        "import torchvision\n",
        "from torchvision import datasets, transforms\n",
        "\n",
        "batch_size = 256\n",
        "test_batch_size = 4\n",
        "\n",
        "transform = transforms.Compose([transforms.ToTensor(), transforms.Normalize((0.1307,), (0.3081,))])\n",
        "\n",
        "train_loader = torch.utils.data.DataLoader(\n",
        "                datasets.MNIST('../data', train=True, download=True, transform=transform),\n",
        "                batch_size=batch_size, shuffle=True)\n",
        "\n",
        "test_loader = torch.utils.data.DataLoader(\n",
        "                datasets.MNIST('../data', train=False, transform=transform),\n",
        "                batch_size=test_batch_size, shuffle=True)"
      ],
      "execution_count": null,
      "outputs": [
        {
          "output_type": "stream",
          "text": [
            "Downloading http://yann.lecun.com/exdb/mnist/train-images-idx3-ubyte.gz to ../data/MNIST/raw/train-images-idx3-ubyte.gz\n"
          ],
          "name": "stdout"
        },
        {
          "output_type": "display_data",
          "data": {
            "application/vnd.jupyter.widget-view+json": {
              "model_id": "0230fc1d4525454b90f74405b3927a27",
              "version_minor": 0,
              "version_major": 2
            },
            "text/plain": [
              "HBox(children=(IntProgress(value=1, bar_style='info', max=1), HTML(value='')))"
            ]
          },
          "metadata": {
            "tags": []
          }
        },
        {
          "output_type": "stream",
          "text": [
            "Extracting ../data/MNIST/raw/train-images-idx3-ubyte.gz to ../data/MNIST/raw\n",
            "Downloading http://yann.lecun.com/exdb/mnist/train-labels-idx1-ubyte.gz to ../data/MNIST/raw/train-labels-idx1-ubyte.gz\n"
          ],
          "name": "stdout"
        },
        {
          "output_type": "display_data",
          "data": {
            "application/vnd.jupyter.widget-view+json": {
              "model_id": "adb009525fef4d9b9d36f7cd4390b6b5",
              "version_minor": 0,
              "version_major": 2
            },
            "text/plain": [
              "HBox(children=(IntProgress(value=1, bar_style='info', max=1), HTML(value='')))"
            ]
          },
          "metadata": {
            "tags": []
          }
        },
        {
          "output_type": "stream",
          "text": [
            "Extracting ../data/MNIST/raw/train-labels-idx1-ubyte.gz to ../data/MNIST/raw\n",
            "Downloading http://yann.lecun.com/exdb/mnist/t10k-images-idx3-ubyte.gz to ../data/MNIST/raw/t10k-images-idx3-ubyte.gz\n"
          ],
          "name": "stdout"
        },
        {
          "output_type": "display_data",
          "data": {
            "application/vnd.jupyter.widget-view+json": {
              "model_id": "eb9bf5bf3ec34e01b27d25d6f1f25b63",
              "version_minor": 0,
              "version_major": 2
            },
            "text/plain": [
              "HBox(children=(IntProgress(value=1, bar_style='info', max=1), HTML(value='')))"
            ]
          },
          "metadata": {
            "tags": []
          }
        },
        {
          "output_type": "stream",
          "text": [
            "Extracting ../data/MNIST/raw/t10k-images-idx3-ubyte.gz to ../data/MNIST/raw\n",
            "Downloading http://yann.lecun.com/exdb/mnist/t10k-labels-idx1-ubyte.gz to ../data/MNIST/raw/t10k-labels-idx1-ubyte.gz\n",
            "\n",
            "\n"
          ],
          "name": "stdout"
        },
        {
          "output_type": "display_data",
          "data": {
            "application/vnd.jupyter.widget-view+json": {
              "model_id": "3d927eff90ea407f81c842e01520f2ea",
              "version_minor": 0,
              "version_major": 2
            },
            "text/plain": [
              "HBox(children=(IntProgress(value=1, bar_style='info', max=1), HTML(value='')))"
            ]
          },
          "metadata": {
            "tags": []
          }
        },
        {
          "output_type": "stream",
          "text": [
            "Extracting ../data/MNIST/raw/t10k-labels-idx1-ubyte.gz to ../data/MNIST/raw\n",
            "Processing...\n",
            "Done!\n"
          ],
          "name": "stdout"
        },
        {
          "output_type": "stream",
          "text": [
            "/pytorch/torch/csrc/utils/tensor_numpy.cpp:141: UserWarning: The given NumPy array is not writeable, and PyTorch does not support non-writeable tensors. This means you can write to the underlying (supposedly non-writeable) NumPy array using the tensor. You may want to copy the array to protect its data or make it writeable before converting it to a tensor. This type of warning will be suppressed for the rest of this program.\n"
          ],
          "name": "stderr"
        }
      ]
    },
    {
      "cell_type": "markdown",
      "metadata": {
        "id": "eA0VSwS2XV2k"
      },
      "source": [
        "Now that that's done, I'll visualize a few examples of numbers to make sure there's nothing wrong with the dataset or how we've loaded it:"
      ]
    },
    {
      "cell_type": "code",
      "metadata": {
        "id": "zyfwADI26pQI",
        "colab": {
          "base_uri": "https://localhost:8080/",
          "height": 172
        },
        "outputId": "d8d87bb9-c071-4b17-9d20-aab568b4c0be"
      },
      "source": [
        "def imshow(img):\n",
        "    npimg = img.numpy()\n",
        "    plt.imshow(np.transpose(npimg, (1, 2, 0)))\n",
        "    plt.show()\n",
        "\n",
        "# get some random training images\n",
        "dataiter = iter(test_loader)\n",
        "images, labels = dataiter.next()\n",
        "\n",
        "# show images\n",
        "imshow(torchvision.utils.make_grid(images))\n",
        "print(\"Given labels are: \", labels.numpy())"
      ],
      "execution_count": null,
      "outputs": [
        {
          "output_type": "stream",
          "text": [
            "Clipping input data to the valid range for imshow with RGB data ([0..1] for floats or [0..255] for integers).\n"
          ],
          "name": "stderr"
        },
        {
          "output_type": "display_data",
          "data": {
            "image/png": "[encoded data removed]",
            "text/plain": [
              "<Figure size 432x288 with 1 Axes>"
            ]
          },
          "metadata": {
            "tags": [],
            "needs_background": "light"
          }
        },
        {
          "output_type": "stream",
          "text": [
            "Given labels are:  [3 2 6 1]\n"
          ],
          "name": "stdout"
        }
      ]
    },
    {
      "cell_type": "markdown",
      "metadata": {
        "id": "jpWxSyBPXps7"
      },
      "source": [
        "Okay, that looks good! Each image is a 28x28 pixel image, so that gives us a total of 784 neurons. We'll define the network below:"
      ]
    },
    {
      "cell_type": "code",
      "metadata": {
        "id": "cajbVNtb6rPL"
      },
      "source": [
        "input_dim = 784\n",
        "hidden_dim = 128\n",
        "output_dim = 10\n",
        "\n",
        "# using sequential to define the network\n",
        "softmax_classifier = nn.Sequential(\n",
        "                    nn.Linear(input_dim, hidden_dim),\n",
        "                    nn.ReLU(),\n",
        "                    nn.Linear(hidden_dim, output_dim),\n",
        "                    nn.LogSoftmax(dim=-1))              # we are using a softmax classifier here"
      ],
      "execution_count": null,
      "outputs": []
    },
    {
      "cell_type": "markdown",
      "metadata": {
        "id": "KgHY1AFiX4iw"
      },
      "source": [
        "I've done something a bit different here and used the **softmax** output -- we'll go into this more in-depth next week. For now, you only need to know that it's a more convenient way of dealing with multiple classes (i.e. more than 2). Finally, I'll write a quick training loop and plotting function:"
      ]
    },
    {
      "cell_type": "code",
      "metadata": {
        "id": "zh7l7F_K6ueW"
      },
      "source": [
        "from IPython.display import clear_output\n",
        "\n",
        "def plot(iteration, loss):\n",
        "    clear_output(True)\n",
        "    plt.figure(figsize=(20,5))\n",
        "    plt.subplot(131)\n",
        "    plt.title(\"Iter %s. loss: %s\" % (iteration[-1], loss[-1]))\n",
        "    plt.plot(iteration, loss)\n",
        "    plt.xlabel(\"Iteration\")\n",
        "    plt.ylabel(\"Loss\")\n",
        "    plt.show()\n",
        "\n",
        "def train(model, optimizer, loss_function, dataset, iters=10, log_freq=1):\n",
        "    model.train()\n",
        "    ep, cost = [], []\n",
        "    for i in range(1, iters+1):\n",
        "        mean_loss = 0.\n",
        "        for j, (data, target) in enumerate(dataset):\n",
        "            data = data.squeeze(dim=1)\n",
        "            pred_ys = model(data.view(data.size(0),-1))\n",
        "            loss = loss_function(pred_ys, target)\n",
        "            optimizer.zero_grad()\n",
        "            loss.backward()\n",
        "            optimizer.step()\n",
        "            mean_loss = (mean_loss*j+loss.item())/(j+1)\n",
        "        if i % log_freq == log_freq-1:\n",
        "            ep.append(i)\n",
        "            cost.append(mean_loss)\n",
        "            plot(ep, cost)\n",
        "            \n",
        "def test(model, dataset):\n",
        "    model.eval()\n",
        "    test_loss = 0\n",
        "    correct = 0\n",
        "    with torch.no_grad():\n",
        "        for data, target in dataset:\n",
        "            data = data.squeeze(dim=1)\n",
        "            output = model(data.view(data.size(0),-1))\n",
        "            test_loss += F.nll_loss(output, target).item()\n",
        "            pred = output.argmax(dim=1, keepdim=True)\n",
        "            correct += pred.eq(target.view_as(pred)).sum().item()\n",
        "\n",
        "    test_loss /= len(test_loader.dataset)\n",
        "\n",
        "    print('\\nTest set: Average loss: {:.4f}, Accuracy: {}/{} ({:.0f}%)\\n'.format(\n",
        "        test_loss, correct, len(test_loader.dataset),\n",
        "        100. * correct / len(test_loader.dataset)))"
      ],
      "execution_count": null,
      "outputs": []
    },
    {
      "cell_type": "markdown",
      "metadata": {
        "id": "pEgesl3DYmC6"
      },
      "source": [
        "And now to train it:"
      ]
    },
    {
      "cell_type": "code",
      "metadata": {
        "id": "kQml-EMv6wyI",
        "colab": {
          "base_uri": "https://localhost:8080/",
          "height": 401
        },
        "outputId": "016ab2b7-3cda-4aac-9320-34c04dd4c040"
      },
      "source": [
        "optimizer_softmax = optim.SGD(softmax_classifier.parameters(), lr=1e-3, momentum=0.9)\n",
        "train(softmax_classifier, optimizer_softmax, F.nll_loss, train_loader)\n",
        "test(softmax_classifier, test_loader)"
      ],
      "execution_count": null,
      "outputs": [
        {
          "output_type": "display_data",
          "data": {
            "image/png": "[encoded data removed]",
            "text/plain": [
              "<Figure size 1440x360 with 1 Axes>"
            ]
          },
          "metadata": {
            "tags": [],
            "needs_background": "light"
          }
        },
        {
          "output_type": "stream",
          "text": [
            "\n",
            "Test set: Average loss: 0.0466, Accuracy: 9475/10000 (95%)\n",
            "\n"
          ],
          "name": "stdout"
        }
      ]
    },
    {
      "cell_type": "code",
      "metadata": {
        "id": "Z38bTOhq6zjY",
        "colab": {
          "base_uri": "https://localhost:8080/",
          "height": 172
        },
        "outputId": "075aa4c1-5c2e-4007-e3f4-866125d9f93e"
      },
      "source": [
        "images, labels = dataiter.next()\n",
        "\n",
        "# show images\n",
        "imshow(torchvision.utils.make_grid(images))\n",
        "images.squeeze(dim=1)\n",
        "_, output = torch.max(softmax_classifier(images.view(images.size(0),-1)), dim=1)\n",
        "print(\"Predicted labels are: \", output.numpy())"
      ],
      "execution_count": null,
      "outputs": [
        {
          "output_type": "stream",
          "text": [
            "Clipping input data to the valid range for imshow with RGB data ([0..1] for floats or [0..255] for integers).\n"
          ],
          "name": "stderr"
        },
        {
          "output_type": "display_data",
          "data": {
            "image/png": "[encoded data removed]",
            "text/plain": [
              "<Figure size 432x288 with 1 Axes>"
            ]
          },
          "metadata": {
            "tags": [],
            "needs_background": "light"
          }
        },
        {
          "output_type": "stream",
          "text": [
            "Predicted labels are:  [4 3 1 6]\n"
          ],
          "name": "stdout"
        }
      ]
    },
    {
      "cell_type": "markdown",
      "metadata": {
        "id": "hB2Y5ekE9jCx"
      },
      "source": [
        "As we can see, we've fit a classifier that learns to predict handwritten digits correctly! This breaks down for larger images (we already have 784 input neurons for these small images), so in those cases, we use an architecture called a Convolutional Neural Network that scales better. You can think of these networks as breaking a bigger image up into smaller chunks, and searching through it for important features (e.g. noses, hair, eyes). The network doesn't initially know any features, but it learns them through training.\n",
        "\n",
        "\n",
        "## Exercises"
      ]
    },
    {
      "cell_type": "code",
      "metadata": {
        "id": "Lz3x_dBD62r7",
        "colab": {
          "base_uri": "https://localhost:8080/",
          "height": 226
        },
        "outputId": "e3024fa8-9d83-4cd1-a468-fe39d82e5abf"
      },
      "source": [
        "from sklearn.datasets import load_breast_cancer\n",
        "import pandas as pd\n",
        "\n",
        "X, y = load_breast_cancer(return_X_y=True)\n",
        "features = pd.DataFrame(data=X, columns=[\"radius_mean\", \n",
        "                              \"texture_mean\", \n",
        "                              \"perimeter_mean\", \n",
        "                              \"area_mean\", \n",
        "                              \"smoothness_mean\", \n",
        "                              \"compactness_mean\", \n",
        "                              \"concavity_mean\", \n",
        "                              \"concave_points_mean\", \n",
        "                              \"symmetry_mean\", \n",
        "                              \"fractal_dimension_mean\",\n",
        "                              \"radius_se\",\n",
        "                              \"texture_se\",\n",
        "                              \"perimeter_se\",\n",
        "                              \"area_se\",\n",
        "                              \"smoothness_se\",\n",
        "                              \"compactness_se\",\n",
        "                              \"concavity_se\",\n",
        "                              \"concave_points_se\",\n",
        "                              \"symmetry_se\",\n",
        "                              \"fractal_dimension_se\",\n",
        "                              \"radius_worst\", \n",
        "                              \"texture_worst\", \n",
        "                              \"perimeter_worst\", \n",
        "                              \"area_worst\", \n",
        "                              \"smoothness_worst\", \n",
        "                              \"compactness_worst\", \n",
        "                              \"concavity_worst\", \n",
        "                              \"concave_points_worst\", \n",
        "                              \"symmetry_worst\", \n",
        "                              \"fractal_dimension_worst\"] )\n",
        "\n",
        "features.head()"
      ],
      "execution_count": 12,
      "outputs": [
        {
          "output_type": "execute_result",
          "data": {
            "text/html": [
              "<div>\n",
              "<style scoped>\n",
              "    .dataframe tbody tr th:only-of-type {\n",
              "        vertical-align: middle;\n",
              "    }\n",
              "\n",
              "    .dataframe tbody tr th {\n",
              "        vertical-align: top;\n",
              "    }\n",
              "\n",
              "    .dataframe thead th {\n",
              "        text-align: right;\n",
              "    }\n",
              "</style>\n",
              "<table border=\"1\" class=\"dataframe\">\n",
              "  <thead>\n",
              "    <tr style=\"text-align: right;\">\n",
              "      <th></th>\n",
              "      <th>radius_mean</th>\n",
              "      <th>texture_mean</th>\n",
              "      <th>perimeter_mean</th>\n",
              "      <th>area_mean</th>\n",
              "      <th>smoothness_mean</th>\n",
              "      <th>compactness_mean</th>\n",
              "      <th>concavity_mean</th>\n",
              "      <th>concave_points_mean</th>\n",
              "      <th>symmetry_mean</th>\n",
              "      <th>fractal_dimension_mean</th>\n",
              "      <th>radius_se</th>\n",
              "      <th>texture_se</th>\n",
              "      <th>perimeter_se</th>\n",
              "      <th>area_se</th>\n",
              "      <th>smoothness_se</th>\n",
              "      <th>compactness_se</th>\n",
              "      <th>concavity_se</th>\n",
              "      <th>concave_points_se</th>\n",
              "      <th>symmetry_se</th>\n",
              "      <th>fractal_dimension_se</th>\n",
              "      <th>radius_worst</th>\n",
              "      <th>texture_worst</th>\n",
              "      <th>perimeter_worst</th>\n",
              "      <th>area_worst</th>\n",
              "      <th>smoothness_worst</th>\n",
              "      <th>compactness_worst</th>\n",
              "      <th>concavity_worst</th>\n",
              "      <th>concave_points_worst</th>\n",
              "      <th>symmetry_worst</th>\n",
              "      <th>fractal_dimension_worst</th>\n",
              "    </tr>\n",
              "  </thead>\n",
              "  <tbody>\n",
              "    <tr>\n",
              "      <th>0</th>\n",
              "      <td>17.99</td>\n",
              "      <td>10.38</td>\n",
              "      <td>122.80</td>\n",
              "      <td>1001.0</td>\n",
              "      <td>0.11840</td>\n",
              "      <td>0.27760</td>\n",
              "      <td>0.3001</td>\n",
              "      <td>0.14710</td>\n",
              "      <td>0.2419</td>\n",
              "      <td>0.07871</td>\n",
              "      <td>1.0950</td>\n",
              "      <td>0.9053</td>\n",
              "      <td>8.589</td>\n",
              "      <td>153.40</td>\n",
              "      <td>0.006399</td>\n",
              "      <td>0.04904</td>\n",
              "      <td>0.05373</td>\n",
              "      <td>0.01587</td>\n",
              "      <td>0.03003</td>\n",
              "      <td>0.006193</td>\n",
              "      <td>25.38</td>\n",
              "      <td>17.33</td>\n",
              "      <td>184.60</td>\n",
              "      <td>2019.0</td>\n",
              "      <td>0.1622</td>\n",
              "      <td>0.6656</td>\n",
              "      <td>0.7119</td>\n",
              "      <td>0.2654</td>\n",
              "      <td>0.4601</td>\n",
              "      <td>0.11890</td>\n",
              "    </tr>\n",
              "    <tr>\n",
              "      <th>1</th>\n",
              "      <td>20.57</td>\n",
              "      <td>17.77</td>\n",
              "      <td>132.90</td>\n",
              "      <td>1326.0</td>\n",
              "      <td>0.08474</td>\n",
              "      <td>0.07864</td>\n",
              "      <td>0.0869</td>\n",
              "      <td>0.07017</td>\n",
              "      <td>0.1812</td>\n",
              "      <td>0.05667</td>\n",
              "      <td>0.5435</td>\n",
              "      <td>0.7339</td>\n",
              "      <td>3.398</td>\n",
              "      <td>74.08</td>\n",
              "      <td>0.005225</td>\n",
              "      <td>0.01308</td>\n",
              "      <td>0.01860</td>\n",
              "      <td>0.01340</td>\n",
              "      <td>0.01389</td>\n",
              "      <td>0.003532</td>\n",
              "      <td>24.99</td>\n",
              "      <td>23.41</td>\n",
              "      <td>158.80</td>\n",
              "      <td>1956.0</td>\n",
              "      <td>0.1238</td>\n",
              "      <td>0.1866</td>\n",
              "      <td>0.2416</td>\n",
              "      <td>0.1860</td>\n",
              "      <td>0.2750</td>\n",
              "      <td>0.08902</td>\n",
              "    </tr>\n",
              "    <tr>\n",
              "      <th>2</th>\n",
              "      <td>19.69</td>\n",
              "      <td>21.25</td>\n",
              "      <td>130.00</td>\n",
              "      <td>1203.0</td>\n",
              "      <td>0.10960</td>\n",
              "      <td>0.15990</td>\n",
              "      <td>0.1974</td>\n",
              "      <td>0.12790</td>\n",
              "      <td>0.2069</td>\n",
              "      <td>0.05999</td>\n",
              "      <td>0.7456</td>\n",
              "      <td>0.7869</td>\n",
              "      <td>4.585</td>\n",
              "      <td>94.03</td>\n",
              "      <td>0.006150</td>\n",
              "      <td>0.04006</td>\n",
              "      <td>0.03832</td>\n",
              "      <td>0.02058</td>\n",
              "      <td>0.02250</td>\n",
              "      <td>0.004571</td>\n",
              "      <td>23.57</td>\n",
              "      <td>25.53</td>\n",
              "      <td>152.50</td>\n",
              "      <td>1709.0</td>\n",
              "      <td>0.1444</td>\n",
              "      <td>0.4245</td>\n",
              "      <td>0.4504</td>\n",
              "      <td>0.2430</td>\n",
              "      <td>0.3613</td>\n",
              "      <td>0.08758</td>\n",
              "    </tr>\n",
              "    <tr>\n",
              "      <th>3</th>\n",
              "      <td>11.42</td>\n",
              "      <td>20.38</td>\n",
              "      <td>77.58</td>\n",
              "      <td>386.1</td>\n",
              "      <td>0.14250</td>\n",
              "      <td>0.28390</td>\n",
              "      <td>0.2414</td>\n",
              "      <td>0.10520</td>\n",
              "      <td>0.2597</td>\n",
              "      <td>0.09744</td>\n",
              "      <td>0.4956</td>\n",
              "      <td>1.1560</td>\n",
              "      <td>3.445</td>\n",
              "      <td>27.23</td>\n",
              "      <td>0.009110</td>\n",
              "      <td>0.07458</td>\n",
              "      <td>0.05661</td>\n",
              "      <td>0.01867</td>\n",
              "      <td>0.05963</td>\n",
              "      <td>0.009208</td>\n",
              "      <td>14.91</td>\n",
              "      <td>26.50</td>\n",
              "      <td>98.87</td>\n",
              "      <td>567.7</td>\n",
              "      <td>0.2098</td>\n",
              "      <td>0.8663</td>\n",
              "      <td>0.6869</td>\n",
              "      <td>0.2575</td>\n",
              "      <td>0.6638</td>\n",
              "      <td>0.17300</td>\n",
              "    </tr>\n",
              "    <tr>\n",
              "      <th>4</th>\n",
              "      <td>20.29</td>\n",
              "      <td>14.34</td>\n",
              "      <td>135.10</td>\n",
              "      <td>1297.0</td>\n",
              "      <td>0.10030</td>\n",
              "      <td>0.13280</td>\n",
              "      <td>0.1980</td>\n",
              "      <td>0.10430</td>\n",
              "      <td>0.1809</td>\n",
              "      <td>0.05883</td>\n",
              "      <td>0.7572</td>\n",
              "      <td>0.7813</td>\n",
              "      <td>5.438</td>\n",
              "      <td>94.44</td>\n",
              "      <td>0.011490</td>\n",
              "      <td>0.02461</td>\n",
              "      <td>0.05688</td>\n",
              "      <td>0.01885</td>\n",
              "      <td>0.01756</td>\n",
              "      <td>0.005115</td>\n",
              "      <td>22.54</td>\n",
              "      <td>16.67</td>\n",
              "      <td>152.20</td>\n",
              "      <td>1575.0</td>\n",
              "      <td>0.1374</td>\n",
              "      <td>0.2050</td>\n",
              "      <td>0.4000</td>\n",
              "      <td>0.1625</td>\n",
              "      <td>0.2364</td>\n",
              "      <td>0.07678</td>\n",
              "    </tr>\n",
              "  </tbody>\n",
              "</table>\n",
              "</div>"
            ],
            "text/plain": [
              "   radius_mean  texture_mean  ...  symmetry_worst  fractal_dimension_worst\n",
              "0        17.99         10.38  ...          0.4601                  0.11890\n",
              "1        20.57         17.77  ...          0.2750                  0.08902\n",
              "2        19.69         21.25  ...          0.3613                  0.08758\n",
              "3        11.42         20.38  ...          0.6638                  0.17300\n",
              "4        20.29         14.34  ...          0.2364                  0.07678\n",
              "\n",
              "[5 rows x 30 columns]"
            ]
          },
          "metadata": {
            "tags": []
          },
          "execution_count": 12
        }
      ]
    },
    {
      "cell_type": "code",
      "metadata": {
        "id": "Z_gWbNIXibRU",
        "colab": {
          "base_uri": "https://localhost:8080/",
          "height": 206
        },
        "outputId": "a59f674a-83dc-41be-df41-6ea1507e4837"
      },
      "source": [
        "target = pd.DataFrame(y, columns=[\"diagnosis\"])\n",
        "target.head()"
      ],
      "execution_count": 13,
      "outputs": [
        {
          "output_type": "execute_result",
          "data": {
            "text/html": [
              "<div>\n",
              "<style scoped>\n",
              "    .dataframe tbody tr th:only-of-type {\n",
              "        vertical-align: middle;\n",
              "    }\n",
              "\n",
              "    .dataframe tbody tr th {\n",
              "        vertical-align: top;\n",
              "    }\n",
              "\n",
              "    .dataframe thead th {\n",
              "        text-align: right;\n",
              "    }\n",
              "</style>\n",
              "<table border=\"1\" class=\"dataframe\">\n",
              "  <thead>\n",
              "    <tr style=\"text-align: right;\">\n",
              "      <th></th>\n",
              "      <th>diagnosis</th>\n",
              "    </tr>\n",
              "  </thead>\n",
              "  <tbody>\n",
              "    <tr>\n",
              "      <th>0</th>\n",
              "      <td>0</td>\n",
              "    </tr>\n",
              "    <tr>\n",
              "      <th>1</th>\n",
              "      <td>0</td>\n",
              "    </tr>\n",
              "    <tr>\n",
              "      <th>2</th>\n",
              "      <td>0</td>\n",
              "    </tr>\n",
              "    <tr>\n",
              "      <th>3</th>\n",
              "      <td>0</td>\n",
              "    </tr>\n",
              "    <tr>\n",
              "      <th>4</th>\n",
              "      <td>0</td>\n",
              "    </tr>\n",
              "  </tbody>\n",
              "</table>\n",
              "</div>"
            ],
            "text/plain": [
              "   diagnosis\n",
              "0          0\n",
              "1          0\n",
              "2          0\n",
              "3          0\n",
              "4          0"
            ]
          },
          "metadata": {
            "tags": []
          },
          "execution_count": 13
        }
      ]
    },
    {
      "cell_type": "markdown",
      "metadata": {
        "id": "1d4-TWIRl3jK"
      },
      "source": [
        " "
      ]
    },
    {
      "cell_type": "markdown",
      "metadata": {
        "id": "cBjP1wuuetK0"
      },
      "source": [
        "1. Split your data into a training set and a test set (1 point)"
      ]
    },
    {
      "cell_type": "code",
      "metadata": {
        "id": "NI-o0bkyex6U"
      },
      "source": [
        "from sklearn.model_selection import train_test_split\n",
        "\n",
        "\n",
        "X_train,X_test, y_train, y_test = train_test_split(features,target, test_size=0.25,\n",
        "random_state=0)"
      ],
      "execution_count": 14,
      "outputs": []
    },
    {
      "cell_type": "markdown",
      "metadata": {
        "id": "gJOWwkLneyxA"
      },
      "source": [
        "2. Split the data into two dataframes -- one with all features where the target is 1, and another with all features where the target is 0 (2 points)"
      ]
    },
    {
      "cell_type": "code",
      "metadata": {
        "id": "gWaaDsuYjCPs"
      },
      "source": [
        "dta_1 = features[target[\"diagnosis\"] == 1]\n",
        "dta_2 = features[target[\"diagnosis\"] == 0]\n"
      ],
      "execution_count": 16,
      "outputs": []
    },
    {
      "cell_type": "markdown",
      "metadata": {
        "id": "2QdUDRn8jDAR"
      },
      "source": [
        "3. Select two features. Plot a scatter plot of all positive and negative cases using the two dataframes you created above, with your features of interest on the x and y axes (2 points)"
      ]
    },
    {
      "cell_type": "code",
      "metadata": {
        "id": "Y_0h63tCjjcW",
        "colab": {
          "base_uri": "https://localhost:8080/",
          "height": 621
        },
        "outputId": "06b9e67a-ec99-45ea-da1d-9d97e2eb3796"
      },
      "source": [
        "import matplotlib.pyplot as plt\n",
        "\n",
        "plt.figure(figsize=(10,10))\n",
        "plt.scatter(dta_1[\"concavity_mean\"], dta_1[\"area_mean\"], alpha=0.5)\n",
        "plt.scatter(dta_2[\"symmetry_mean\"], dta_2[\"area_mean\"], alpha=0.5)\n",
        "plt.title(\"symmetry_mean vs area_mean\")\n",
        "plt.xlabel(\"symmetry_mean\")\n",
        "plt.ylabel(\"area_mean\")\n",
        "plt.legend([\"cancer present\", \"no cancer present\"])\n",
        "plt.show()"
      ],
      "execution_count": 18,
      "outputs": [
        {
          "output_type": "display_data",
          "data": {
            "image/png": "[encoded data removed]",
            "text/plain": [
              "<Figure size 720x720 with 1 Axes>"
            ]
          },
          "metadata": {
            "tags": [],
            "needs_background": "light"
          }
        }
      ]
    },
    {
      "cell_type": "markdown",
      "metadata": {
        "id": "lxdfPKk6jk7N"
      },
      "source": [
        "4. Select 5 features, and use them to train a classifier using SKLearn (see the above examples for reference). (3 points)"
      ]
    },
    {
      "cell_type": "code",
      "metadata": {
        "id": "-cdw5M2dj22r"
      },
      "source": [
        "predictors = [\"radius_mean\", \n",
        "\"texture_mean\", \n",
        "\"perimeter_mean\", \n",
        "\"area_mean\", \n",
        "\"smoothness_mean\"]\n",
        "\n",
        "features_test = features[predictors]\n",
        "target_test = target[\"diagnosis\"]\n",
        "\n"
      ],
      "execution_count": 22,
      "outputs": []
    },
    {
      "cell_type": "code",
      "metadata": {
        "id": "QOy1hn357Mpv"
      },
      "source": [
        "\n",
        "X_train,X_test, y_train, y_test = train_test_split(features,target, test_size=0.25,\n",
        "random_state=0)"
      ],
      "execution_count": 21,
      "outputs": []
    },
    {
      "cell_type": "code",
      "metadata": {
        "colab": {
          "base_uri": "https://localhost:8080/"
        },
        "id": "cWT4Ksyyxcmz",
        "outputId": "56414e55-3e1b-4bf1-ec9d-11190a519d4b"
      },
      "source": [
        "\n",
        "\n",
        "#import the logistic regression model\n",
        "from sklearn.linear_model import LogisticRegression\n",
        "\n",
        "#model instantiation\n",
        "features_test = LogisticRegression(max_iter=10000)\n",
        "\n",
        "#fitting the model\n",
        "\n",
        "features_test.fit(X_train, y_train)"
      ],
      "execution_count": 23,
      "outputs": [
        {
          "output_type": "stream",
          "text": [
            "/usr/local/lib/python3.7/dist-packages/sklearn/utils/validation.py:760: DataConversionWarning: A column-vector y was passed when a 1d array was expected. Please change the shape of y to (n_samples, ), for example using ravel().\n",
            "  y = column_or_1d(y, warn=True)\n"
          ],
          "name": "stderr"
        },
        {
          "output_type": "execute_result",
          "data": {
            "text/plain": [
              "LogisticRegression(C=1.0, class_weight=None, dual=False, fit_intercept=True,\n",
              "                   intercept_scaling=1, l1_ratio=None, max_iter=10000,\n",
              "                   multi_class='auto', n_jobs=None, penalty='l2',\n",
              "                   random_state=None, solver='lbfgs', tol=0.0001, verbose=0,\n",
              "                   warm_start=False)"
            ]
          },
          "metadata": {
            "tags": []
          },
          "execution_count": 23
        }
      ]
    },
    {
      "cell_type": "markdown",
      "metadata": {
        "id": "-497TVGaj_q4"
      },
      "source": [
        "5. Calculate the accuracy of your classifier using:\n",
        "\n",
        "$$Accuracy = \\frac{TP + TN}{TP + TN + FP + FN}$$\n",
        "\n",
        "You can refer to code in this notebook for an example. (2 points)"
      ]
    },
    {
      "cell_type": "code",
      "metadata": {
        "id": "NZ0pIekYkKhc",
        "colab": {
          "base_uri": "https://localhost:8080/"
        },
        "outputId": "dcf1cbe5-880b-4676-9ff4-9277a49d8677"
      },
      "source": [
        "#make predictions\n",
        "from sklearn import metrics\n",
        "\n",
        "\n",
        "pred = features_test.predict(X_test)\n",
        "print(\"Classifier Accuracy is:\")\n",
        "print((pred == y_test.squeeze()).sum()/len(y_test.squeeze()))\n",
        "print()\n",
        "\n",
        "cnf_matrix = metrics.confusion_matrix(y_test, pred) \n",
        "\n",
        "print(cnf_matrix)"
      ],
      "execution_count": 25,
      "outputs": [
        {
          "output_type": "stream",
          "text": [
            "Classifier Accuracy is:\n",
            "0.951048951048951\n",
            "\n",
            "[[52  1]\n",
            " [ 6 84]]\n"
          ],
          "name": "stdout"
        }
      ]
    }
  ]
}